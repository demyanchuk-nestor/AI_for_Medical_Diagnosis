{
 "cells": [
  {
   "cell_type": "markdown",
   "metadata": {
    "colab_type": "text",
    "id": "view-in-github"
   },
   "source": [
    "<a href=\"https://colab.research.google.com/github/demyanchuk-nestor/AI_for_Medical_Diagnosis/blob/master/Week-1/Data_Exploration_%26_Image_Pre_Processing.ipynb\" target=\"_parent\"><img src=\"https://colab.research.google.com/assets/colab-badge.svg\" alt=\"Open In Colab\"/></a>"
   ]
  },
  {
   "cell_type": "code",
   "execution_count": null,
   "metadata": {
    "colab": {
     "base_uri": "https://localhost:8080/",
     "height": 34
    },
    "colab_type": "code",
    "id": "XKW0DJqj4QE7",
    "outputId": "516275cd-2e7c-4eba-cf41-41f8675f256d"
   },
   "outputs": [],
   "source": [
    "!git clone https://github.com/demyanchuk-nestor/AI_for_Medical_Diagnosis\n",
    "%cd AI_for_Medical_Diagnosis"
   ]
  },
  {
   "cell_type": "markdown",
   "metadata": {
    "colab_type": "text",
    "id": "PubRtJs8srnN"
   },
   "source": [
    "## AI for Medicine Course 1 Week 1 lecture exercises"
   ]
  },
  {
   "cell_type": "markdown",
   "metadata": {
    "colab_type": "text",
    "id": "a1h646F_srnR"
   },
   "source": [
    "# Data Exploration\n",
    "In the first assignment of this course, you will work with chest x-ray images taken from the public [ChestX-ray8 dataset](https://arxiv.org/abs/1705.02315). In this notebook, you'll get a chance to explore this dataset and familiarize yourself with some of the techniques you'll use in the first graded assignment.\n",
    "\n",
    "<img src=\"https://raw.githubusercontent.com/hardik0/AI-for-Medicine-Specialization/master/AI-for-Medical-Diagnosis/Week-1/xray-image.png\" alt=\"U-net Image\" width=\"300\" align=\"middle\"/>\n",
    "\n",
    "The first step before jumping into writing code for any machine learning project is to explore your data. A standard Python package for analyzing and manipulating data is [pandas](https://pandas.pydata.org/docs/#). \n",
    "\n",
    "With the next two code cells, you'll import `pandas` and a package called `numpy` for numerical manipulation, then use `pandas` to read a csv file into a dataframe and print out the first few rows of data."
   ]
  },
  {
   "cell_type": "code",
   "execution_count": null,
   "metadata": {
    "colab": {
     "base_uri": "https://localhost:8080/",
     "height": 71
    },
    "colab_type": "code",
    "id": "JNkjbT2DsrnU",
    "outputId": "8955cb3c-a4a1-4e85-f86f-44f91946a42f"
   },
   "outputs": [],
   "source": [
    "# Import necessary packages\n",
    "import pandas as pd\n",
    "import numpy as np\n",
    "import matplotlib.pyplot as plt\n",
    "%matplotlib inline\n",
    "import os\n",
    "import seaborn as sns\n",
    "sns.set()"
   ]
  },
  {
   "cell_type": "code",
   "execution_count": null,
   "metadata": {
    "colab": {
     "base_uri": "https://localhost:8080/",
     "height": 241
    },
    "colab_type": "code",
    "id": "sxiQf-9Vsrni",
    "outputId": "0e4c5080-122a-4273-c58c-ee0c88d0a625"
   },
   "outputs": [],
   "source": [
    "# Read csv file containing training datadata\n",
    "train_df = pd.read_csv(\"./nih/train-small.csv\")\n",
    "# Print first 5 rows\n",
    "print(f'There are {train_df.shape[0]} rows and {train_df.shape[1]} columns in this data frame')\n",
    "train_df.head()"
   ]
  },
  {
   "cell_type": "markdown",
   "metadata": {
    "colab_type": "text",
    "id": "vV1FLzhKsrn0"
   },
   "source": [
    "Have a look at the various columns in this csv file. The file contains the names of chest x-ray images (\"Image\" column) and the columns filled with ones and zeros identify which diagnoses were given based on each x-ray image. "
   ]
  },
  {
   "cell_type": "markdown",
   "metadata": {
    "colab_type": "text",
    "id": "X0dMbDybsrn3"
   },
   "source": [
    "### Data types and null values check\n",
    "Run the next cell to explore the data types present in each column and whether any null values exist in the data."
   ]
  },
  {
   "cell_type": "code",
   "execution_count": null,
   "metadata": {
    "colab": {
     "base_uri": "https://localhost:8080/",
     "height": 408
    },
    "colab_type": "code",
    "id": "nCxYhVIDsrn6",
    "outputId": "82463413-2f39-4617-eedc-d9f06f3751cc"
   },
   "outputs": [],
   "source": [
    "# Look at the data type of each column and whether null values are present\n",
    "train_df.info()"
   ]
  },
  {
   "cell_type": "markdown",
   "metadata": {
    "colab_type": "text",
    "id": "3zgiik1WsroI"
   },
   "source": [
    "### Unique IDs check\n",
    "\"PatientId\" has an identification number for each patient. One thing you'd like to know about a medical dataset like this is if you're looking at repeated data for certain patients or whether each image represents a different person."
   ]
  },
  {
   "cell_type": "code",
   "execution_count": null,
   "metadata": {
    "colab": {
     "base_uri": "https://localhost:8080/",
     "height": 34
    },
    "colab_type": "code",
    "id": "3JU3bdmHsroM",
    "outputId": "b3c6619c-1401-40c8-9a3b-27932aeedcf9"
   },
   "outputs": [],
   "source": [
    "print(f\"The total patient ids are {train_df['PatientId'].count()}, from those the unique ids are {train_df['PatientId'].value_counts().shape[0]} \")"
   ]
  },
  {
   "cell_type": "markdown",
   "metadata": {
    "colab_type": "text",
    "id": "x8Qzkoa_srod"
   },
   "source": [
    "As you can see, the number of unique patients in the dataset is less than the total number so there must be some overlap. For patients with multiple records, you'll want to make sure they do not show up in both training and test sets in order to avoid data leakage (covered later in this week's lectures).\n",
    "\n",
    "### Explore data labels\n",
    "Run the next two code cells to create a list of the names of each patient condition or disease. "
   ]
  },
  {
   "cell_type": "code",
   "execution_count": null,
   "metadata": {
    "colab": {
     "base_uri": "https://localhost:8080/",
     "height": 54
    },
    "colab_type": "code",
    "id": "DMDkn2sqsrog",
    "outputId": "88b4e998-8aae-4d4d-bcde-9e50e8d06c46"
   },
   "outputs": [],
   "source": [
    "columns = train_df.keys()\n",
    "columns = list(columns)\n",
    "print(columns)"
   ]
  },
  {
   "cell_type": "code",
   "execution_count": null,
   "metadata": {
    "colab": {
     "base_uri": "https://localhost:8080/",
     "height": 54
    },
    "colab_type": "code",
    "id": "jKOFozgnsrot",
    "outputId": "c19b3bac-7efc-4c1b-993d-2b8414bb0feb"
   },
   "outputs": [],
   "source": [
    "# Remove unnecesary elements\n",
    "columns.remove('Image')\n",
    "columns.remove('PatientId')\n",
    "# Get the total classes\n",
    "print(f\"There are {len(columns)} columns of labels for these conditions: {columns}\")"
   ]
  },
  {
   "cell_type": "markdown",
   "metadata": {
    "colab_type": "text",
    "id": "XyzMkcOZsro8"
   },
   "source": [
    "Run the next cell to print out the number of positive labels (1's) for each condition"
   ]
  },
  {
   "cell_type": "code",
   "execution_count": null,
   "metadata": {
    "colab": {
     "base_uri": "https://localhost:8080/",
     "height": 255
    },
    "colab_type": "code",
    "id": "Q0TxpGpMsrpA",
    "outputId": "57fea610-862f-4e3c-df43-1a894dd6c0ba",
    "scrolled": true
   },
   "outputs": [],
   "source": [
    "# Print out the number of positive labels for each class\n",
    "for column in columns:\n",
    "    print(f\"The class {column} has {train_df[column].sum()} samples\")"
   ]
  },
  {
   "cell_type": "markdown",
   "metadata": {
    "colab_type": "text",
    "id": "qUiq5QK7srpL"
   },
   "source": [
    "Have a look at the counts for the labels in each class above. Does this look like a balanced dataset?"
   ]
  },
  {
   "cell_type": "markdown",
   "metadata": {
    "colab_type": "text",
    "id": "WtJnqeGdsrpN"
   },
   "source": [
    "### Data Visualization\n",
    "Using the image names listed in the csv file, you can retrieve the image associated with each row of data in your dataframe. \n",
    "\n",
    "Run the cell below to visualize a random selection of images from the dataset."
   ]
  },
  {
   "cell_type": "code",
   "execution_count": null,
   "metadata": {
    "colab": {
     "base_uri": "https://localhost:8080/",
     "height": 656
    },
    "colab_type": "code",
    "id": "LXHxh-0JsrpP",
    "outputId": "f07b2fda-8a13-4cd8-fca2-45b2190fadec"
   },
   "outputs": [],
   "source": [
    "# Extract numpy values from Image column in data frame\n",
    "images = train_df['Image'].values\n",
    "\n",
    "# Extract 9 random images from it\n",
    "random_images = [np.random.choice(images) for i in range(9)]\n",
    "\n",
    "# Location of the image dir\n",
    "img_dir = './nih/images_small/'\n",
    "\n",
    "print('Display Random Images')\n",
    "\n",
    "# Adjust the size of your images\n",
    "plt.figure(figsize=(20,10))\n",
    "\n",
    "# Iterate and plot random images\n",
    "for i in range(9):\n",
    "    plt.subplot(3, 3, i + 1)\n",
    "    img = plt.imread(os.path.join(img_dir, random_images[i]))\n",
    "    plt.imshow(img, cmap='gray')\n",
    "    plt.axis('off')\n",
    "    \n",
    "# Adjust subplot parameters to give specified padding\n",
    "plt.tight_layout()    "
   ]
  },
  {
   "cell_type": "markdown",
   "metadata": {
    "colab_type": "text",
    "id": "Fg_CYtD6srpb"
   },
   "source": [
    "### Investigate a single image\n",
    "Run the cell below to look at the first image in the dataset and print out some details of the image contents."
   ]
  },
  {
   "cell_type": "code",
   "execution_count": null,
   "metadata": {
    "colab": {
     "base_uri": "https://localhost:8080/",
     "height": 335
    },
    "colab_type": "code",
    "id": "SpAPF5QNsrpd",
    "outputId": "69473ad7-fa69-4b7a-e613-8d72d015d02f"
   },
   "outputs": [],
   "source": [
    "# Get the first image that was listed in the train_df dataframe\n",
    "sample_img = train_df.Image[0]\n",
    "raw_image = plt.imread(os.path.join(img_dir, sample_img))\n",
    "plt.imshow(raw_image, cmap='gray')\n",
    "plt.colorbar()\n",
    "plt.title('Raw Chest X Ray Image')\n",
    "print(f\"The dimensions of the image are {raw_image.shape[0]} pixels width and {raw_image.shape[1]} pixels height, one single color channel\")\n",
    "print(f\"The maximum pixel value is {raw_image.max():.4f} and the minimum is {raw_image.min():.4f}\")\n",
    "print(f\"The mean value of the pixels is {raw_image.mean():.4f} and the standard deviation is {raw_image.std():.4f}\")"
   ]
  },
  {
   "cell_type": "markdown",
   "metadata": {
    "colab_type": "text",
    "id": "fxr6SxdCsrpo"
   },
   "source": [
    "### Investigate pixel value distribution\n",
    "Run the cell below to plot up the distribution of pixel values in the image shown above. "
   ]
  },
  {
   "cell_type": "code",
   "execution_count": null,
   "metadata": {
    "colab": {
     "base_uri": "https://localhost:8080/",
     "height": 318
    },
    "colab_type": "code",
    "id": "A6P-Ncg2srpu",
    "outputId": "143b38b6-7bd8-4872-e807-04a73a0686b9"
   },
   "outputs": [],
   "source": [
    "# Plot a histogram of the distribution of the pixels\n",
    "sns.distplot(raw_image.ravel(), \n",
    "             label=f'Pixel Mean {np.mean(raw_image):.4f} & Standard Deviation {np.std(raw_image):.4f}', kde=False)\n",
    "plt.legend(loc='upper center')\n",
    "plt.title('Distribution of Pixel Intensities in the Image')\n",
    "plt.xlabel('Pixel Intensity')\n",
    "plt.ylabel('# Pixels in Image')"
   ]
  },
  {
   "cell_type": "markdown",
   "metadata": {
    "colab_type": "text",
    "id": "PgPWAtuosrp_"
   },
   "source": [
    "<a name=\"image-processing\"></a>\n",
    "\n",
    "# Image Preprocessing in Keras\n",
    "\n",
    "Before training, you'll first modify your images to be better suited for training a convolutional neural network. For this task you'll use the Keras [ImageDataGenerator](https://keras.io/preprocessing/image/) function to perform data preprocessing and data augmentation.\n",
    "\n",
    "Run the next two cells to import this function and create an image generator for preprocessing."
   ]
  },
  {
   "cell_type": "code",
   "execution_count": null,
   "metadata": {
    "colab": {
     "base_uri": "https://localhost:8080/",
     "height": 34
    },
    "colab_type": "code",
    "id": "k8BhJFRTsrqB",
    "outputId": "c1e531a0-a54b-40dd-e848-35b0c69df199"
   },
   "outputs": [],
   "source": [
    "# Import data generator from keras\n",
    "from tensorflow.keras.preprocessing.image import ImageDataGenerator"
   ]
  },
  {
   "cell_type": "code",
   "execution_count": null,
   "metadata": {
    "colab": {},
    "colab_type": "code",
    "id": "_W165qXLsrqK"
   },
   "outputs": [],
   "source": [
    "# Normalize images\n",
    "image_generator = ImageDataGenerator(\n",
    "    samplewise_center=True, #Set each sample mean to 0.\n",
    "    samplewise_std_normalization= True # Divide each input by its standard deviation\n",
    ")"
   ]
  },
  {
   "cell_type": "markdown",
   "metadata": {
    "colab_type": "text",
    "id": "YW98TkhgsrqT"
   },
   "source": [
    "### Standardization\n",
    "\n",
    "The `image_generator` you created above will act to adjust your image data such that the new mean of the data will be zero, and the standard deviation of the data will be 1.  \n",
    "\n",
    "In other words, the generator will replace each pixel value in the image with a new value calculated by subtracting the mean and dividing by the standard deviation.\n",
    "\n",
    "$$\\frac{x_i - \\mu}{\\sigma}$$\n",
    "\n",
    "Run the next cell to pre-process your data using the `image_generator`. In this step you will also be reducing the image size down to 320x320 pixels."
   ]
  },
  {
   "cell_type": "code",
   "execution_count": null,
   "metadata": {
    "colab": {
     "base_uri": "https://localhost:8080/",
     "height": 34
    },
    "colab_type": "code",
    "id": "hpBaQt9YsrqV",
    "outputId": "9d23f938-43a8-4e3b-b855-30bf819ee8d4"
   },
   "outputs": [],
   "source": [
    "# Flow from directory with specified batch size and target image size\n",
    "generator = image_generator.flow_from_dataframe(\n",
    "        dataframe=train_df,\n",
    "        directory=\"./nih/images_small/\",\n",
    "        x_col=\"Image\", # features\n",
    "        y_col= ['Mass'], # labels\n",
    "        class_mode=\"raw\", # 'Mass' column should be in train_df\n",
    "        batch_size= 1, # images per batch\n",
    "        shuffle=False, # shuffle the rows or not\n",
    "        target_size=(320,320) # width and height of output image\n",
    ")"
   ]
  },
  {
   "cell_type": "markdown",
   "metadata": {
    "colab_type": "text",
    "id": "wY97AQY3srqe"
   },
   "source": [
    "Run the next cell to plot up an example of a pre-processed image"
   ]
  },
  {
   "cell_type": "code",
   "execution_count": null,
   "metadata": {
    "colab": {
     "base_uri": "https://localhost:8080/",
     "height": 352
    },
    "colab_type": "code",
    "id": "9OkLyOQ0srqf",
    "outputId": "429fab96-6014-41b1-94e6-c6929572f49a"
   },
   "outputs": [],
   "source": [
    "# Plot a processed image\n",
    "sns.set_style(\"white\")\n",
    "generated_image, label = generator.__getitem__(0)\n",
    "plt.imshow(generated_image[0], cmap='gray')\n",
    "plt.colorbar()\n",
    "plt.title('Raw Chest X Ray Image')\n",
    "print(f\"The dimensions of the image are {generated_image.shape[1]} pixels width and {generated_image.shape[2]} pixels height\")\n",
    "print(f\"The maximum pixel value is {generated_image.max():.4f} and the minimum is {generated_image.min():.4f}\")\n",
    "print(f\"The mean value of the pixels is {generated_image.mean():.4f} and the standard deviation is {generated_image.std():.4f}\")"
   ]
  },
  {
   "cell_type": "markdown",
   "metadata": {
    "colab_type": "text",
    "id": "tzVKKTicsrqp"
   },
   "source": [
    "Run the cell below to see a comparison of the distribution of pixel values in the new pre-processed image versus the raw image. "
   ]
  },
  {
   "cell_type": "code",
   "execution_count": null,
   "metadata": {
    "colab": {
     "base_uri": "https://localhost:8080/",
     "height": 481
    },
    "colab_type": "code",
    "id": "XgdCuJoPsrqs",
    "outputId": "5f7e3566-696f-4dac-ac28-573b73c18890"
   },
   "outputs": [],
   "source": [
    "# Include a histogram of the distribution of the pixels\n",
    "sns.set()\n",
    "plt.figure(figsize=(10, 7))\n",
    "\n",
    "# Plot histogram for original iamge\n",
    "sns.distplot(raw_image.ravel(), \n",
    "             label=f'Original Image: mean {np.mean(raw_image):.4f} - Standard Deviation {np.std(raw_image):.4f} \\n '\n",
    "             f'Min pixel value {np.min(raw_image):.4} - Max pixel value {np.max(raw_image):.4}',\n",
    "             color='blue', \n",
    "             kde=False)\n",
    "\n",
    "# Plot histogram for generated image\n",
    "sns.distplot(generated_image[0].ravel(), \n",
    "             label=f'Generated Image: mean {np.mean(generated_image[0]):.4f} - Standard Deviation {np.std(generated_image[0]):.4f} \\n'\n",
    "             f'Min pixel value {np.min(generated_image[0]):.4} - Max pixel value {np.max(generated_image[0]):.4}', \n",
    "             color='red', \n",
    "             kde=False)\n",
    "\n",
    "# Place legends\n",
    "plt.legend()\n",
    "plt.title('Distribution of Pixel Intensities in the Image')\n",
    "plt.xlabel('Pixel Intensity')\n",
    "plt.ylabel('# Pixel')"
   ]
  },
  {
   "cell_type": "markdown",
   "metadata": {
    "colab_type": "text",
    "id": "VB4IFww_srq2"
   },
   "source": [
    "#### That's it for this exercise, you should now be a bit more familiar with the dataset you'll be using in this week's assignment!"
   ]
  }
 ],
 "metadata": {
  "colab": {
   "collapsed_sections": [],
   "include_colab_link": true,
   "name": "Data Exploration & Image Pre-Processing.ipynb",
   "provenance": [],
   "toc_visible": true
  },
  "kernelspec": {
   "display_name": "Python 3",
   "language": "python",
   "name": "python3"
  },
  "language_info": {
   "codemirror_mode": {
    "name": "ipython",
    "version": 3
   },
   "file_extension": ".py",
   "mimetype": "text/x-python",
   "name": "python",
   "nbconvert_exporter": "python",
   "pygments_lexer": "ipython3",
   "version": "3.7.6"
  }
 },
 "nbformat": 4,
 "nbformat_minor": 1
}
