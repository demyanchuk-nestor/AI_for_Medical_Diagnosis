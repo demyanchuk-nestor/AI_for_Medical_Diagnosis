{
 "cells": [
  {
   "cell_type": "markdown",
   "metadata": {
    "colab_type": "text",
    "id": "view-in-github"
   },
   "source": [
    "<a href=\"https://colab.research.google.com/github/demyanchuk-nestor/AI_for_Medical_Diagnosis/blob/master/Week-1/Counting_labels_and_weighted_loss_function.ipynb\" target=\"_parent\"><img src=\"https://colab.research.google.com/assets/colab-badge.svg\" alt=\"Open In Colab\"/></a>"
   ]
  },
  {
   "cell_type": "code",
   "execution_count": null,
   "metadata": {},
   "outputs": [],
   "source": [
    "!git clone https://github.com/demyanchuk-nestor/AI_for_Medical_Diagnosis\n",
    "%cd 'AI_for_Medical_Diagnosis/Week-1'"
   ]
  },
  {
   "cell_type": "markdown",
   "metadata": {
    "colab_type": "text",
    "id": "WfQcCvoE7NkM"
   },
   "source": [
    "## AI for Medicine Course 1 Week 1 lecture exercises"
   ]
  },
  {
   "cell_type": "markdown",
   "metadata": {
    "colab_type": "text",
    "id": "SFeX4gDy7NkX"
   },
   "source": [
    "<a name=\"counting-labels\"></a>\n",
    "# Counting labels\n",
    "\n",
    "As you saw in the lecture videos, one way to avoid having class imbalance impact the loss function is to weight the losses differently.  To choose the weights, you first need to calculate the class frequencies.\n",
    "\n",
    "For this exercise, you'll just get the count of each label.  Later on, you'll use the concepts practiced here to calculate frequencies in the assignment!"
   ]
  },
  {
   "cell_type": "code",
   "execution_count": null,
   "metadata": {
    "colab": {
     "base_uri": "https://localhost:8080/",
     "height": 71
    },
    "colab_type": "code",
    "id": "Tx_Vj2Zy7Nkf",
    "outputId": "9c788c5e-e865-4a48-9c0d-b69f465623ed"
   },
   "outputs": [],
   "source": [
    "# Import the necessary packages\n",
    "import numpy as np\n",
    "import pandas as pd\n",
    "import seaborn as sns\n",
    "import matplotlib.pyplot as plt\n",
    "%matplotlib inline"
   ]
  },
  {
   "cell_type": "code",
   "execution_count": null,
   "metadata": {
    "colab": {},
    "colab_type": "code",
    "id": "BhAvTUhk7NlY"
   },
   "outputs": [],
   "source": [
    "# Read csv file containing training datadata\n",
    "train_df = pd.read_csv(\"../nih/train-small.csv\")"
   ]
  },
  {
   "cell_type": "code",
   "execution_count": null,
   "metadata": {
    "colab": {},
    "colab_type": "code",
    "id": "9d6T0Rmd7Nl5"
   },
   "outputs": [],
   "source": [
    "# Count up the number of instances of each class (drop non-class columns from the counts)\n",
    "class_counts = train_df.sum().drop(['Image','PatientId'])"
   ]
  },
  {
   "cell_type": "code",
   "execution_count": null,
   "metadata": {
    "colab": {
     "base_uri": "https://localhost:8080/",
     "height": 255
    },
    "colab_type": "code",
    "id": "a4w6Ovqq7NmP",
    "outputId": "f36fa8bf-d4e3-4857-abf9-fc3d99c7d871"
   },
   "outputs": [],
   "source": [
    "for column in class_counts.keys():\n",
    "    print(f\"The class {column} has {train_df[column].sum()} samples\")"
   ]
  },
  {
   "cell_type": "code",
   "execution_count": null,
   "metadata": {
    "colab": {
     "base_uri": "https://localhost:8080/",
     "height": 302
    },
    "colab_type": "code",
    "id": "ZnFj1Q4A7Nmq",
    "outputId": "26186f3d-f5cc-4d4a-a995-9b2e7b5881f6"
   },
   "outputs": [],
   "source": [
    "# Plot up the distribution of counts\n",
    "sns.barplot(x=class_counts.values, y=class_counts.index, color='b')\n",
    "plt.title('Distribution of Classes for Training Dataset', fontsize=15)\n",
    "plt.xlabel('Number of Patients', fontsize=15)\n",
    "plt.ylabel('Diseases', fontsize=15)\n",
    "plt.show()"
   ]
  },
  {
   "cell_type": "markdown",
   "metadata": {
    "colab_type": "text",
    "id": "UT9KcbU07Nm_"
   },
   "source": [
    "<a name=\"weighted-loss\"></a>\n",
    "# Weighted Loss function\n"
   ]
  },
  {
   "cell_type": "markdown",
   "metadata": {
    "colab_type": "text",
    "id": "ZBg5rL4F7NnB"
   },
   "source": [
    "Below is an example of calculating weighted loss. For this example, you'll first define a hypothetical set of true labels and then a set of random predictions. You'll use the made up examples to practice with the weighted loss function.\n",
    "\n",
    "Run the next two cells to create simple examples of labels and predictions"
   ]
  },
  {
   "cell_type": "code",
   "execution_count": null,
   "metadata": {
    "colab": {
     "base_uri": "https://localhost:8080/",
     "height": 187
    },
    "colab_type": "code",
    "id": "gjyHdFlJ7NnD",
    "outputId": "a39e9ce2-1c1d-467d-fc28-fe8377741fa3"
   },
   "outputs": [],
   "source": [
    "# Generate an array of 10 binary label values, 7 positive and 3 negative, then reshape to a column\n",
    "y_true = np.array([1, 1, 1, 1, 1, 1, 1, 0, 0, 0]).reshape(10, 1)\n",
    "print(y_true, y_true.shape)"
   ]
  },
  {
   "cell_type": "code",
   "execution_count": null,
   "metadata": {
    "colab": {
     "base_uri": "https://localhost:8080/",
     "height": 187
    },
    "colab_type": "code",
    "id": "3GHqldJK7NnV",
    "outputId": "65753a07-fb92-4b9d-b8b3-616c1fd798a0"
   },
   "outputs": [],
   "source": [
    "# Generate an array of random predictions (either 0 or 0.9 for each) and reshape to a column\n",
    "y_predict = np.random.randint(0, 2, 10).reshape(10, 1) * 0.9\n",
    "print(y_predict, y_predict.shape)"
   ]
  },
  {
   "cell_type": "markdown",
   "metadata": {
    "colab_type": "text",
    "id": "nxefwe2l7Nnm"
   },
   "source": [
    "Run the next two cells to define positive and negative weights and a value for epsilon to be used in the loss function."
   ]
  },
  {
   "cell_type": "code",
   "execution_count": null,
   "metadata": {
    "colab": {},
    "colab_type": "code",
    "id": "Be6Ec1_N7Nno"
   },
   "outputs": [],
   "source": [
    "# Define positive and negative weights to be used in the loss function\n",
    "# The positive weight is determined by the fraction of labels that are negative (3/10 in this case)\n",
    "positive_weight = 0.3\n",
    "# The negative weight is determined by the fraction of labels that are positive (7/10 in this case)\n",
    "negative_weight = 0.7"
   ]
  },
  {
   "cell_type": "code",
   "execution_count": null,
   "metadata": {
    "colab": {},
    "colab_type": "code",
    "id": "oG4Ll5rH7Nn1"
   },
   "outputs": [],
   "source": [
    "# Define a value \"epsilon\" to be used in calculating the loss\n",
    "# This value is just used to avoid an error due to taking the log of zero.\n",
    "epsilon = 1e-7"
   ]
  },
  {
   "cell_type": "markdown",
   "metadata": {
    "colab_type": "text",
    "id": "PWWJhxVg7NoC"
   },
   "source": [
    "### Weighted Loss Equation\n",
    "Calculate the loss for the zero-th label (column at index 0)\n",
    "\n",
    "- The loss is made up of two terms:\n",
    "    - $loss_{pos}$: we'll use this to refer to the loss where the actual label is positive (the positive examples).\n",
    "    - $loss_{neg}$: we'll use this to refer to the loss where the actual label is negative (the negative examples).  \n",
    "- Note that within the $log()$ function, we'll add a tiny positive value, to avoid an error if taking the log of zero.\n",
    "\n",
    "$$ loss^{(i)} = loss_{pos}^{(i)} + los_{neg}^{(i)} $$\n",
    "\n",
    "$$loss_{pos}^{(i)} = -1 \\times weight_{pos}^{(i)} \\times y^{(i)} \\times log(\\hat{y}^{(i)} + \\epsilon)$$\n",
    "\n",
    "$$loss_{neg}^{(i)} = -1 \\times weight_{neg}^{(i)} \\times (1- y^{(i)}) \\times log(1 - \\hat{y}^{(i)} + \\epsilon)$$\n",
    "\n",
    "$$\\epsilon = \\text{a tiny positive number}$$\n",
    "\n",
    "Run the next three cells to calculate the positive, negative and total loss"
   ]
  },
  {
   "cell_type": "code",
   "execution_count": null,
   "metadata": {
    "colab": {
     "base_uri": "https://localhost:8080/",
     "height": 34
    },
    "colab_type": "code",
    "id": "wqbZGyom7NoE",
    "outputId": "f5ccccaf-2e86-4cf4-8606-18028aed6b6d"
   },
   "outputs": [],
   "source": [
    "# Calculate and print out the positive loss\n",
    "positive_loss = -1 * np.sum(positive_weight*y_true*np.log(y_predict + epsilon))\n",
    "positive_loss"
   ]
  },
  {
   "cell_type": "code",
   "execution_count": null,
   "metadata": {
    "colab": {
     "base_uri": "https://localhost:8080/",
     "height": 34
    },
    "colab_type": "code",
    "id": "_AKg83X17Nob",
    "outputId": "192666b9-232b-4121-93a1-2ed569a73944"
   },
   "outputs": [],
   "source": [
    "# Calculate and print out the negative loss\n",
    "negative_loss = -1 * np.sum(negative_weight*(1 - y_true)*np.log(1 - y_predict + epsilon))\n",
    "negative_loss"
   ]
  },
  {
   "cell_type": "code",
   "execution_count": null,
   "metadata": {
    "colab": {
     "base_uri": "https://localhost:8080/",
     "height": 34
    },
    "colab_type": "code",
    "id": "M4SABoz77NpD",
    "outputId": "6b9777f1-73f4-49c3-b3a2-318752b3b9af"
   },
   "outputs": [],
   "source": [
    "# Sum positive and negative losses to calculate total loss\n",
    "total_loss = positive_loss + negative_loss\n",
    "print(total_loss)"
   ]
  },
  {
   "cell_type": "markdown",
   "metadata": {
    "colab_type": "text",
    "id": "r-4h8C0x7NpW"
   },
   "source": [
    "#### That's all for this lab. You now have a couple more tools you'll need for this week's assignment!"
   ]
  }
 ],
 "metadata": {
  "colab": {
   "collapsed_sections": [],
   "include_colab_link": true,
   "name": "Counting labels and weighted loss function.ipynb",
   "provenance": []
  },
  "kernelspec": {
   "display_name": "Python 3",
   "language": "python",
   "name": "python3"
  },
  "language_info": {
   "codemirror_mode": {
    "name": "ipython",
    "version": 3
   },
   "file_extension": ".py",
   "mimetype": "text/x-python",
   "name": "python",
   "nbconvert_exporter": "python",
   "pygments_lexer": "ipython3",
   "version": "3.7.6"
  }
 },
 "nbformat": 4,
 "nbformat_minor": 1
}
