{
 "cells": [
  {
   "cell_type": "markdown",
   "metadata": {
    "colab_type": "text",
    "id": "view-in-github"
   },
   "source": [
    "<a href=\"https://colab.research.google.com/github/demyanchuk-nestor/AI_for_Medical_Diagnosis/blob/master/Week-3/Explore_MRI_data.ipynb\" target=\"_parent\"><img src=\"https://colab.research.google.com/assets/colab-badge.svg\" alt=\"Open In Colab\"/></a>"
   ]
  },
  {
   "cell_type": "code",
   "execution_count": null,
   "metadata": {
    "colab": {
     "base_uri": "https://localhost:8080/",
     "height": 34
    },
    "colab_type": "code",
    "id": "t4sDZQxUm9WT",
    "outputId": "17fbe890-265e-44b6-c2ec-dc4965bf48ad"
   },
   "outputs": [],
   "source": [
    "!git clone https://github.com/demyanchuk-nestor/AI_for_Medical_Diagnosis\n",
    "%cd 'AI_for_Medical_Diagnosis/Week-3'"
   ]
  },
  {
   "cell_type": "markdown",
   "metadata": {
    "colab_type": "text",
    "id": "kaZTu5oVlcF3"
   },
   "source": [
    "# AI4M Course 1 week 3 lecture notebook"
   ]
  },
  {
   "cell_type": "markdown",
   "metadata": {
    "colab_type": "text",
    "id": "rqjlIgVRlcF7"
   },
   "source": [
    "<a name=\"data\"></a>\n",
    "# Explore the data\n",
    "\n",
    "<img src=\"https://raw.githubusercontent.com/hardik0/AI-for-Medicine-Specialization/master/AI-for-Medical-Diagnosis/Week-3/mri-slice.png\" alt=\"U-net Image\" width=\"300\"/>\n",
    "\n",
    "In this week's assignment, you'll be working with 3D MRI brain scans from the public [Medical Segmentation Decathalon](https://decathlon-10.grand-challenge.org/) challenge project. This is an incredibly rich dataset that provides you with labels associated with each point (voxel) inside a 3D representation of a patient's brain. Ultimately, in this week's assignment, you will train a neural network to make three-dimensional spatial segmentation predictions for common brain disorders. \n",
    "\n",
    "In this notebook, you're all set up to explore this exciting dataset. Run the code below and tweak it to explore further!"
   ]
  },
  {
   "cell_type": "code",
   "execution_count": null,
   "metadata": {
    "colab": {},
    "colab_type": "code",
    "id": "qHnNw80PnzAg"
   },
   "outputs": [],
   "source": [
    "!pip install itk itkwidgets ipywidgets"
   ]
  },
  {
   "cell_type": "markdown",
   "metadata": {
    "colab_type": "text",
    "id": "4NMO3FQPlcF9"
   },
   "source": [
    "### Import packages\n",
    "For this lab, you'll import some of the packages you've seen before (`numpy`, `matplotlib` and `seaborn`) as well as some new ones for reading (`nibabel`) and visualizing (`itk`, `itkwidgets`, `ipywidgets`) the data. Run the next cell to import these packages."
   ]
  },
  {
   "cell_type": "code",
   "execution_count": null,
   "metadata": {
    "colab": {
     "base_uri": "https://localhost:8080/",
     "height": 34
    },
    "colab_type": "code",
    "id": "CwInbbMElcGA",
    "outputId": "84c9d786-7840-4037-f7fc-f1f348d68304"
   },
   "outputs": [],
   "source": [
    "# Import all the necessary packages\n",
    "import numpy as np\n",
    "import nibabel as nib\n",
    "import itk\n",
    "import itkwidgets\n",
    "from ipywidgets import interact, interactive, IntSlider, ToggleButtons\n",
    "import matplotlib.pyplot as plt\n",
    "%matplotlib inline\n",
    "import seaborn as sns\n",
    "sns.set_style('darkgrid')"
   ]
  },
  {
   "cell_type": "markdown",
   "metadata": {
    "colab_type": "text",
    "id": "H90jhoj9lcGO"
   },
   "source": [
    "### Loading Images of the brain\n",
    "Run the next cell to grab a single 3D MRI brain scan"
   ]
  },
  {
   "cell_type": "code",
   "execution_count": null,
   "metadata": {
    "colab": {
     "base_uri": "https://localhost:8080/",
     "height": 34
    },
    "colab_type": "code",
    "id": "IrdHZwdglcGR",
    "outputId": "aa4b1841-9ddb-40b3-f119-fcfddba1a6d6"
   },
   "outputs": [],
   "source": [
    "# Define the image path and load the data\n",
    "image_path = \"../BraTS-Data/imagesTr/BRATS_001.nii.gz\"\n",
    "image_obj = nib.load(image_path)\n",
    "print(f'Type of the image {type(image_obj)}')"
   ]
  },
  {
   "cell_type": "markdown",
   "metadata": {
    "colab_type": "text",
    "id": "IpbUhJGjlcGf"
   },
   "source": [
    "### Extract the data as a numpy array\n",
    "Run the next cell to extract the data using the `get_fdata()` method of the image object"
   ]
  },
  {
   "cell_type": "code",
   "execution_count": null,
   "metadata": {
    "colab": {
     "base_uri": "https://localhost:8080/",
     "height": 34
    },
    "colab_type": "code",
    "id": "BHFDLDRHlcGh",
    "outputId": "fb0f96b7-c629-43a0-a227-b72ad3f3469f"
   },
   "outputs": [],
   "source": [
    "# Extract data as numpy ndarray\n",
    "image_data = image_obj.get_fdata()\n",
    "type(image_data)"
   ]
  },
  {
   "cell_type": "code",
   "execution_count": null,
   "metadata": {
    "colab": {
     "base_uri": "https://localhost:8080/",
     "height": 34
    },
    "colab_type": "code",
    "id": "hX5bfNinlcGs",
    "outputId": "596c4c19-84ad-4544-e7ef-58abb1ae5a1a"
   },
   "outputs": [],
   "source": [
    "# Get the image shape and print it out\n",
    "height, width, depth, channels = image_data.shape\n",
    "print(f\"The image object has the following dimensions: height: {height}, width:{width}, depth:{depth}, channels:{channels}\")"
   ]
  },
  {
   "cell_type": "markdown",
   "metadata": {
    "colab_type": "text",
    "id": "c1bzQw1qlcG8"
   },
   "source": [
    "As you can see these \"image objects\" are actually 4 dimensional! With the exploratory steps below you'll get a better sense of exactly what each of these dimensions represents.\n",
    "\n",
    "### Visualize the data\n",
    "The \"depth\" listed above indicates that there are 155 layers (slices through the brain) in every image object. To visualize a single layer, run the cell below. Note that if the layer is one of the first or the last (`i` near 0 or 154), you won't find much information and the screen will be dark. Run this cell multiple times to look at different layers. \n",
    "\n",
    "The code is set up to grab a random layer but you can select a specific layer by choosing a value for `i` from 0 to 154. You can also change which channel you're looking at by changing the `channel` variable.\n",
    "\n",
    "Keep in mind that you could just as easily look at slices of this image object along the height or width dimensions. If you wish to do so, just shift `i` to a different dimension in the `plt.imshow()` command below. Which slice direction looks the most interesting to you?"
   ]
  },
  {
   "cell_type": "code",
   "execution_count": null,
   "metadata": {
    "colab": {
     "base_uri": "https://localhost:8080/",
     "height": 265
    },
    "colab_type": "code",
    "id": "h5d8HuPdlcG-",
    "outputId": "a960336c-4f06-4bbe-faf1-29c4b11aa82e"
   },
   "outputs": [],
   "source": [
    "# Select random layer number\n",
    "maxval = 154\n",
    "i = np.random.randint(0, maxval)\n",
    "# Define a channel to look at\n",
    "channel = 0\n",
    "print(f\"Plotting Layer {i} Channel {channel} of Image\")\n",
    "plt.imshow(image_data[:, :, i, channel], cmap='gray')\n",
    "plt.axis('off');"
   ]
  },
  {
   "cell_type": "markdown",
   "metadata": {
    "colab_type": "text",
    "id": "LX8Jl1_1lcHR"
   },
   "source": [
    "### Interactive exploration\n",
    "Another way to visualize this dataset is by using IPython Widgets to allow for an interactive exploration of the data. \n",
    "\n",
    "Run the next cell to explore across different layers of the data. Move the slider to explore different layers. Change the `channel` value to explore different channels. See if you can tell which layer corresponds to the top of the brain and which corresponds to the bottom!\n",
    "\n",
    "If you're feeling ambitious, try modifying the code below to slice along a different axis through the image object and look at other channels to see what you can discover!"
   ]
  },
  {
   "cell_type": "code",
   "execution_count": null,
   "metadata": {
    "colab": {
     "base_uri": "https://localhost:8080/",
     "height": 373,
     "referenced_widgets": [
      "1199706d67394db6bf66881da3e044a3",
      "92d06167fb184f1aab9eba94afd047e0",
      "5ddd4e8fc176440cad40e054c988754a",
      "066434341d3b45fc861b801d63c0376d",
      "cc97bf9363814658b9c38b5a9fdb1ab8",
      "4edeaeb718704d8682f0bcfccb0127e5",
      "93164a625c3747b594ade306a8df3752"
     ]
    },
    "colab_type": "code",
    "id": "nLgMNEFolcHr",
    "outputId": "57f99699-5f13-47a1-ed57-7263cea97990"
   },
   "outputs": [],
   "source": [
    "# Define a function to visualize the data\n",
    "def explore_3dimage(layer):\n",
    "    plt.figure(figsize=(10, 5))\n",
    "    channel = 2\n",
    "    plt.imshow(image_data[:, :, layer, channel], cmap='gray');\n",
    "    plt.title('Explore Layers of Brain MRI', fontsize=20)\n",
    "    plt.axis('off')\n",
    "    return layer\n",
    "\n",
    "# Run the ipywidgets interact() function to explore the data\n",
    "interact(explore_3dimage, layer=(0, image_data.shape[2] - 1));"
   ]
  },
  {
   "cell_type": "markdown",
   "metadata": {
    "colab_type": "text",
    "id": "XlsfgFAAlcH4"
   },
   "source": [
    "### Explore the data labels\n",
    "In this section, you'll read in a new dataset containing the labels for the MRI scan you loaded above.\n",
    "\n",
    "Run the cell below to load the labels dataset for the image object you inspected above."
   ]
  },
  {
   "cell_type": "code",
   "execution_count": null,
   "metadata": {
    "colab": {
     "base_uri": "https://localhost:8080/",
     "height": 34
    },
    "colab_type": "code",
    "id": "8LEK4G6llcH6",
    "outputId": "81c2d15a-c225-4a7b-8a89-48b490227ebf"
   },
   "outputs": [],
   "source": [
    "# Define the data path and load the data\n",
    "label_path = \"../BraTS-Data/labelsTr/BRATS_001.nii.gz\"\n",
    "label_obj = nib.load(label_path)\n",
    "type(label_obj)"
   ]
  },
  {
   "cell_type": "markdown",
   "metadata": {
    "colab_type": "text",
    "id": "i75fPF1RlcIE"
   },
   "source": [
    "### Extract the data as a numpy array\n",
    "Run the next cell to extract the data labels using the `get_fdata()` method of the image object"
   ]
  },
  {
   "cell_type": "code",
   "execution_count": null,
   "metadata": {
    "colab": {
     "base_uri": "https://localhost:8080/",
     "height": 34
    },
    "colab_type": "code",
    "id": "7x8UKlBilcIG",
    "outputId": "e6537974-c0de-497f-d42a-683fc68d0d23"
   },
   "outputs": [],
   "source": [
    "# Extract data labels\n",
    "label_array = label_obj.get_fdata()\n",
    "type(label_array)"
   ]
  },
  {
   "cell_type": "code",
   "execution_count": null,
   "metadata": {
    "colab": {
     "base_uri": "https://localhost:8080/",
     "height": 136
    },
    "colab_type": "code",
    "id": "fD5I9BD7lcIQ",
    "outputId": "748d429a-4ab8-4934-d974-cf45d09b5ba6"
   },
   "outputs": [],
   "source": [
    "# Extract and print out the shape of the labels data\n",
    "height, width, depth = label_array.shape\n",
    "print(f\"Dimensions of labels data array height: {height}, width: {width}, depth: {depth}\")\n",
    "print(f'With the unique values: {np.unique(label_array)}')\n",
    "print(\"\"\"Corresponding to the following label categories: \n",
    "0: for normal \n",
    "1: for edema\n",
    "2: for non-enhancing tumor \n",
    "3: for enhancing tumor\"\"\")\n"
   ]
  },
  {
   "cell_type": "markdown",
   "metadata": {
    "colab_type": "text",
    "id": "GfDbTzWqlcIZ"
   },
   "source": [
    "### Visualize the labels for a specific layer\n",
    "Run the next cell to visualize a single layer of the labeled data. The code below is set up to show a single layer and you can set `i` to any value from 0 to 154 to look at a different layer. \n",
    "\n",
    "Note that if you choose a layer near 0 or 154 there might not be much to look at in the images."
   ]
  },
  {
   "cell_type": "code",
   "execution_count": null,
   "metadata": {
    "colab": {
     "base_uri": "https://localhost:8080/",
     "height": 311
    },
    "colab_type": "code",
    "id": "L6n3cCrdlcIb",
    "outputId": "10866d67-77f6-4e56-8abf-eab493ff6403"
   },
   "outputs": [],
   "source": [
    "# Define a single layer for plotting\n",
    "layer = 55\n",
    "# Define a dictionary of class labels\n",
    "classes_dict = {\n",
    "    'Normal': 0.,\n",
    "    'Edema': 1.,\n",
    "    'Non-enhancing tumor': 2.,\n",
    "    'Enhancing tumor': 3. \n",
    "}\n",
    "# Set up for plotting\n",
    "fig, ax = plt.subplots(nrows=1, ncols=4, figsize=(50, 30))\n",
    "for i in range(4):\n",
    "    img_label_str = list(classes_dict.keys())[i]\n",
    "    img = label_array[:,:,layer]\n",
    "    mask = np.where(img == classes_dict[img_label_str], 255, 0)\n",
    "    ax[i].imshow(mask)\n",
    "    ax[i].set_title(f\"Layer {layer} for {img_label_str}\", fontsize=45)\n",
    "    ax[i].axis('off')\n",
    "plt.tight_layout()"
   ]
  },
  {
   "cell_type": "markdown",
   "metadata": {
    "colab_type": "text",
    "id": "KOot6HhwlcIt"
   },
   "source": [
    "### Interactive visualization across layers\n",
    "As another way of looking at the data, run the code below to create a visualization where you can choose the class you want to look at by clicking a button to choose a particular label and scrolling across layers using the slider!"
   ]
  },
  {
   "cell_type": "code",
   "execution_count": null,
   "metadata": {
    "colab": {
     "base_uri": "https://localhost:8080/",
     "height": 385,
     "referenced_widgets": [
      "5725650489134d3ca04671f6daa4df27",
      "5e8037e679d5484a87a08873f8e0efc5",
      "336eb3e70f474a1eb89a0ac93a2546ff",
      "c8254b020026413ca58e8a2096ca9cc9",
      "925baec3c59842c782369bd18a9f8b19",
      "6f009a3491a44104a5f621b53e0b0197",
      "4f5c48866587484baa931b9160e52917",
      "94b7e4dee4004a0787db977362bbbd65",
      "1ecc01cf5093420ca824ab0caaa50ef5",
      "b3408792ca0a4ebcb1c69967ed4c37ff"
     ]
    },
    "colab_type": "code",
    "id": "qYcEYhwNlcIw",
    "outputId": "3a4a70b1-0b4e-4412-9689-6e0d2164e8c5"
   },
   "outputs": [],
   "source": [
    "# Create button values\n",
    "select_class = ToggleButtons(\n",
    "    options=['Normal','Edema', 'Non-enhancing tumor', 'Enhancing tumor'],\n",
    "    description='Select Class:',\n",
    "    disabled=False,\n",
    "    button_style='info', \n",
    "    \n",
    ")\n",
    "# Create layer slider\n",
    "select_layer = IntSlider(min=0, max=154, description='Select Layer', continuous_update=False)\n",
    "\n",
    "    \n",
    "# Define a function for plotting images\n",
    "def plot_image(seg_class, layer):\n",
    "    print(f\"Plotting {layer} Layer Label: {seg_class}\")\n",
    "    img_label = classes_dict[seg_class]\n",
    "    mask = np.where(label_array[:,:,layer] == img_label, 255, 0)\n",
    "    plt.figure(figsize=(10,5))\n",
    "    plt.imshow(mask, cmap='gray')\n",
    "    plt.axis('off');\n",
    "\n",
    "# Use the interactive() tool to create the visualization\n",
    "interactive(plot_image, seg_class=select_class, layer=select_layer)"
   ]
  },
  {
   "cell_type": "markdown",
   "metadata": {
    "colab_type": "text",
    "id": "MUpjDG1BlcI5"
   },
   "source": [
    "#### And there you have it! We hope this lab has helped you get a better sense of the data you'll be working with in this week's assignment. "
   ]
  }
 ],
 "metadata": {
  "colab": {
   "collapsed_sections": [],
   "include_colab_link": true,
   "name": "Explore MRI data.ipynb",
   "provenance": []
  },
  "kernelspec": {
   "display_name": "Python 3",
   "language": "python",
   "name": "python3"
  },
  "language_info": {
   "codemirror_mode": {
    "name": "ipython",
    "version": 3
   },
   "file_extension": ".py",
   "mimetype": "text/x-python",
   "name": "python",
   "nbconvert_exporter": "python",
   "pygments_lexer": "ipython3",
   "version": "3.7.6"
  },
  "widgets": {
   "application/vnd.jupyter.widget-state+json": {
    "066434341d3b45fc861b801d63c0376d": {
     "model_module": "@jupyter-widgets/output",
     "model_name": "OutputModel",
     "state": {
      "_dom_classes": [],
      "_model_module": "@jupyter-widgets/output",
      "_model_module_version": "1.0.0",
      "_model_name": "OutputModel",
      "_view_count": null,
      "_view_module": "@jupyter-widgets/output",
      "_view_module_version": "1.0.0",
      "_view_name": "OutputView",
      "layout": "IPY_MODEL_93164a625c3747b594ade306a8df3752",
      "msg_id": "",
      "outputs": [
       {
        "image/png": "iVBORw0KGgoAAAANSUhEUgAAASMAAAEzCAYAAAB69mW2AAAABHNCSVQICAgIfAhkiAAAAAlwSFlzAAALEgAACxIB0t1+/AAAADh0RVh0U29mdHdhcmUAbWF0cGxvdGxpYiB2ZXJzaW9uMy4yLjEsIGh0dHA6Ly9tYXRwbG90bGliLm9yZy+j8jraAAAgAElEQVR4nOx9eZRdVZX+9+Z5qnnKDFUJCUZCiAk0gYRRGYOCiIC2IguUoW16NYi2/sAJUQQFUVEbAVfbhMnWtAsNIAZkCIQwJigkqaRS8/jm+d3fH9XfqX1vVUEiQYqq861VKy/v3eHc4Xxn72/vfY7NMAwDGhoaGu8x7O91AzQ0NDQATUYaGhpTBJqMNDQ0pgQ0GWloaEwJaDLS0NCYEtBkpKGhMSXwviWjtWvXYu3ate91MzTeY6RSKXzjG9/A2rVrccghh6CtrQ3bt29/r5u1T3jwwQfR1taGBx988L1uypSAc182amtre9tt7r77bnzoQx96xw2arnjwwQfxpS99CevWrcMNN9zwXjdn2uDGG2/EvffeizVr1uD000+Hw+FATU3NW+5zwQUXYPPmzabvHA4HotEolixZgk9+8pM45phj3s1m/8NwzTXX4KGHHgIAfP7zn8eVV1454XYPPfQQrrnmGgDAihUrcM8996jfnn32WVx44YWm7Z1OJ2KxGD74wQ/iU5/6FI444ohxx9zfd36fyIi47LLLJv2tubl5fw6loXFA8Pjjj2Pu3Ln4yU9+st/7rlu3Tr23uVwOu3btwp///Gf8+c9/xvXXX4+Pf/zjB7q5JpxwwglYunQp6urq3tXzAKPk8eCDD+Kyyy6Dw+EY9/v69evhdDpRKpUmPUZzczPWrVsHAMhms3jttdewceNGPPLII7j55pvx4Q9/+J21cX82vvzyy9/RyTQ0DjT6+vomHJX3BevWrRtnzf/hD3/AFVdcgZ/+9KfvOhmFQiGEQqF39RzEsccei0ceeQRPPPEEjj32WNNvO3bswAsvvIATTjgBGzdunPQYzc3N4zjgjjvuwE033YTvfve775iMDrhm1NHRgeXLl2PFihXo7Ow0/ZbJZPDhD38YixYtwrPPPqu+v+aaa9DW1oaOjg7ceeedOPnkk3HooYdi9erV+Na3voVUKrXP5y8UCrjjjjtw2mmnYenSpVi2bBnOO+88/P73vx+37d69e9HW1oZrrrkGu3btwr/8y79g1apVWLhwoal9TzzxBD73uc/hQx/6EJYsWYLjjz8e3/nOd5BIJP6OO/T2SCaT+PnPf44LL7wQq1evxpIlS7By5Upccskl2Lp1q2nbeDyOpUuX4vjjj8dklT2XXHIJ2tra8Morr5i+f+mll3DFFVfgqKOOwpIlS3DMMcfgq1/9Knp7e8cd44ILLkBbWxsKhQJuu+02nHTSSViyZIky7QuFAu6++26sW7cORxxxBJYuXYq1a9fi0ksvxVNPPbXP197X14frrrsOa9euVdd92WWX4dVXX52wPYZhYPPmzWhra0NbWxsuuOCCfT7XRDjqqKMAAENDQ6bv9+VdefXVV/GNb3wDp59+OlasWIFDDz0UJ554Im644QbE4/Fx55pMM6Iemslk8J3vfAfHHnsslixZghNOOAF33HHHpM/5rXDaaafB6/Vi/fr1437jd2efffZ+H/djH/sYAKCzs3PcPdtf7JdltC+YNWsWvvGNb+DKK6/EVVddhV/96ldwOkdPc91112Hnzp24/PLLJ9SXvvWtb+H555/Hhz/8YYRCITz55JO466678Pzzz+PXv/41PB7PW567UCjgs5/9LDZv3oz58+fjvPPOQy6Xwx/+8Ad88YtfxOuvv45//dd/Hbffnj17cM4552Du3Lk47bTTkMvlEAwGAQC33XYbbr31VkSjURx77LGoqqrC3/72N/znf/4nNm3ahHvvvVdte6CwY8cO3HLLLVi+fDmOPfZYhMNhdHd347HHHsMTTzyBH//4x1i9ejUAIBKJ4CMf+QgefPBBPPXUU6ozEd3d3di0aRMWL16MQw89VH1///3346tf/SrcbjfWrl2LhoYG7N69G/fddx8ee+wxrF+/Hk1NTePadsUVV+CVV17B6tWrcfzxx6O6uhoA8KUvfQkbNmxAa2srzjjjDHi9XvT19WHLli144okncOSRR77tdXd0dOC8885DX18fVq5ciVNOOQXd3d14+OGH8fjjj+PWW2/FmjVrAIxaNStWrMBtt91mch/eqVzw9NNPAwCWLFky4e9v9a6sX78ejzzyCI444ggceeSRqFQqeO2113DnnXdi06ZNWL9+/T6/K8ViEZ/97GfR19eH1atXw+Fw4JFHHsFNN92EQqHwlpLJRAiHwzj55JOxYcMG9Pf3o7a2FsBon/nNb36DFStWYO7cuft1TCtcLtc72h/GPqC1tdVobW01fvjDH07499Of/nTcPl/72teM1tZW43vf+55hGIbx4IMPGq2trcYFF1xglMtl07ZXX3210draaqxYscLYu3ev+r5cLhuXXXaZ0draatx2222mfdasWWOsWbPG9N1PfvITo7W11bjooouMYrGovh8YGDDWrFljtLa2Glu2bFHfd3R0qGu76aabxl3D008/bbS2thof//jHjXg8bvrtgQceMFpbW41vfvObb3f7TNtfffXVb7ttIpEwBgcHx33f3d1tHHXUUcbJJ59s+v7ll182Wltbjcsvv3zcPj/84Q+N1tZW495771Xf7dy501i8eLFx/PHHGz09Pabtn3rqKWPhwoXG5z//edP3559/vtHa2mqceuqp49qWSCSMtrY2Y926dUapVBrXhqGhobe9ZsMwjM985jNGa2urcfvtt5u+37Jli7Fo0SJjxYoVRiqVMv3W2tpqnH/++ft0fOu1XH311eod/u53v2t84QtfMBYvXmx85CMfMd544w3TPm/3rhiGYezdu3fC61+/fr3R2to6rp/wnXjggQdM3/Ndveiii4xsNqu+HxgYMA4//HDj8MMPNwqFwj5dK/vWX/7yF+O5554zWltbjZ/85Cfq9w0bNhitra3G//zP/xjt7e0T3s9nnnlm0vv8ox/9SL0XVuzPO28YhrFfltFtt9024fehUAgXX3yx6bsvfelL2Lp1K372s5+hvr4eN910E6qqqvC9730PdvvE3uGFF15oGtnsdjv+/d//HY888ggeeOABfOELX3jL9j3wwAOw2Wy45pprlDUGANXV1bj00kvxla98Bffddx+WLVtm2q+mpmbCkYYRha9//esIh8Om38466yzcfffd+N3vfodrr732Ldu1v5hMR2hoaMDJJ5+Me+65B11dXcpyOfTQQ7FkyRI8+uijplGvXC7j/vvvRyAQwCmnnKKO8+tf/xrFYhFf/vKXUV9fbzrHqlWrsHbtWvzpT39CKpUaN5JfeeWVqKqqMn1ns9lgGAbcbveEzzYWi73tNff09ODJJ59EU1MTLrroItNvy5YtwymnnILf/va32LhxI84888y3Pd6+gFEmiWg0itNOOw2zZ8+ecJ/J3hVgcqvsYx/7GG644QY8+eST4/rJW+ErX/kKvF6v+n91dTWOO+44/OY3v8GuXbvQ2tq6z8cCgOXLl2P+/Pm47777cPHFF8Nms2H9+vWIRCI46aST0NPT85b7d3Z24tZbbwUwKmC/+uqrePbZZxEMBnHdddftV1smwn6R0V//+td93tbj8eDmm2/GRz/6UXz961+HzWbDD37wg7eMHKxYsWLcd7NmzUJjYyM6OzuRSCTGkQKRSqWwe/du1NfXY8GCBeN+X7lyJQBMmIOycOFCuN3ucd+/+OKLcLlcePjhh/Hwww+P+71YLGJoaAjDw8P71OH2B1u2bMHdd9+NF198EYODgygWi6bfe3t7TW7Ueeedh2uvvRYPPPAALrnkEgDAn//8Z/T09OATn/gEAoGA6boAYPPmzeN0JAAYHBxEuVxGe3v7OHflAx/4wLjtg8Eg1qxZgz/96U8444wzcOKJJ2L58uVYunQpfD7fPl3vtm3bAACHH374hOb+ypUr8dvf/hbbtm07YGQk01GKxSI6Oztx11134eabb8YTTzyBe+65Zxy5Tvau8Bj33nsv/vd//xc7duxAMplEpVJRv0+kxU2GUCiEOXPmjPu+oaEBAP5uvfKcc87BDTfcgGeeeQZNTU149tlncf7557+tBAKMkpHVIIlEIrjrrruwaNGiv6s9EgdcM5KYN28e2trasHXrVhx00EH4p3/6p7fcnvqDFTU1Nejs7EQymXxLMgKgrAIrSIITPcTJ8lJGRkZQKpUmtQiJTCZzQMlo48aNuOKKK+DxeHDkkUdi9uzZ8Pl8sNvt2Lx5MzZv3oxCoWDa55RTTsF3vvMdrF+/HhdffDHsdrsSJs8999xx1wUAv/jFL972uqyY7P7ecsst+NnPfoYNGzao0dPj8eCkk07C1Vdf/ba5P8lk8i2Pz++53YGGy+XC3Llz8bWvfQ2vv/46nn/+efz+97/Hqaeeatrura7ji1/8IjZu3IhZs2bhuOOOQ01NjSKuu+66a9yA8laY7D2nxV8ul/f5WBJnnHEGvv/97+O+++5DU1MTDMPAOeecs0/7yvyjkZER/PGPf8T111+PSy65BPfff/+kz25f8a6S0R133IGtW7ciFovhjTfewE9/+lNceumlk24/ODiI+fPnj/t+YGAAwOTuCwDlTnBbK/r6+iY9hs1mm/SYxv9Fa/6R+MEPfgCXy4UHHnhgnJX31a9+dcL2eL1erFu3Dr/85S/x5JNP4uCDD8amTZuwdOlSLFy40LQt79WWLVv2W3yf7F55vV5cfvnluPzyy9Hd3Y3nnnsODz30EH7729+is7MT//Vf//WWx+Vzmez59ff3m9r+bmLp0qV44YUX8PLLL48jo8mu/5VXXsHGjRtx5JFH4mc/+5lJJqhUKvj5z3/+rrZ5X1FVVaVC+MFgEIcddth+u3vAqDt7zjnnoFgs4vrrr8d11133toP22+FdKwd54YUX8MMf/hDz5s3Dhg0bMG/ePNx66614/vnnJ91nok7W0dGB7u5uNDc3TzpaAKMv6ezZs9Hb24v29vZxvzP8esghh+zzNXzwgx9EPB7HG2+8sc/7HAjs3r0bBx100DgiqlQq2LJly6T7feITn4DNZsO9996L+++/H+VyecJcmQ9+8IMA8JbP4p2gsbERp59+On7xi19gzpw52LJlC4aHh99yHz6XLVu2TJh4x+e3ePHiA99gCxiGly7W22HPnj0ARsPykogA4OWXX0YulztwDXyHOPvss1EoFDA0NPR3hfMlzj33XBx88MHYuHHjW76b+4J3hYzi8Tiuuuoq2O123HzzzaipqcEtt9wCh8OBf/u3f1NughV33323KTepUqngxhtvRKVSwVlnnfW25/3oRz8KwzBw4403mszYoaEh3H777WqbfcWnP/1pAMB//Md/TOjvZzIZpb8cSDQ3N6O9vd10TsMwcOutt+LNN9+cdL+5c+di1apVePzxx/Hf//3fCIfDJuGa+OQnPwmXy4Vvf/vb2LVr17jfC4XCfhHV0NDQhHpiJpNBJpOB0+l827BvQ0MDjjrqKKXbSLz00kvYsGEDIpEIjj/++H1u19+DvXv3qsS//SlvonhtHVAHBwdx/fXXH7gGHgCsXLkSt99+O370ox9N+H7sDxwOh0qEvOWWW97RsfbLTaMWMBGOP/54JWJde+216Orqwle+8hX13cKFC3HNNdfg+uuvxzXXXDNh+v6yZctw5plnmvKMXn/9dSxevBif+9zn3rZ9n/nMZ7Bp0yY8+uijOOOMM7B69Wrkcjk8/PDDGBwcxEUXXYTly5fv8/WuWrUKV111Fb7//e/jpJNOwurVq9HS0oJMJoOuri4899xzWLZs2dtqLxJbtmxRiYJWHHLIIbjwwgvx6U9/Gl/72tewbt06nHjiiXA6nXjhhRewY8cOJRRPhvPOOw9PPfUUBgYGcMEFF5iiMcSCBQvwzW9+E1/+8pdx6qmn4uijj8bcuXNRKpXQ1dWFLVu2IBaLTSjaT4Te3l6ceeaZaG1tRVtbGxobG5FKpfD444+jv78fF1xwwT65V9dddx0+8YlP4MYbb8Rf/vIXLFmyROUZ2e12fOtb3zqgbtpDDz2kyKNUKqGzsxOPPvooMpkM1qxZs1/Ed+ihh2LZsmX44x//iHPPPRfLli3D4OAgNm3ahHnz5v1DSj72FTabDccdd9wBO96JJ56IRYsWYfPmzXjiiSdw9NFH/13HOSChfWB0ZFi0aBHuuecePPLII1i7du24bNhPfvKTePrpp7Fx40b88pe/VJYHce2112Ljxo1Yv349Ojs7EY1GceGFF+LKK6/cJ7Xf7XbjzjvvxJ133okNGzbgV7/6FRwOBxYuXIhrr712nP+/L7j44ouxbNky3HPPPdiyZQsee+wxBINB1NfX45xzztnvY+7Zs0eZ9FYkEglceOGFOPfcc+F2u3HXXXfhN7/5DTweD5YvX45vf/vb+OMf//iWZLR27VrEYjEMDw+/ZTnDGWecgYULF+LOO+/Es88+iyeffBJ+vx91dXU46aST9iu1n2UCmzdvxrPPPovh4WFEo1HMmzcPV1111T6PvrNmzcIDDzyA22+/HZs2bcLmzZsRCARw9NFH45JLLpkwkvdOIEP7NpsNoVAIixYtwhlnnIGPfexjk+pDE8HhcODHP/4xbrnlFmzatAn33HMP6uvrcfbZZ+PSSy99xxbIVIbNZsMVV1yBSy+9FLfccsvfTUY2w3jvVwdhZfGjjz6KlpaW97o572t0dHTghBNOwLJly95WNNbQmEp4385npDExfvGLX8AwDJx//vnvdVM0NPYL72poX+Mfg66uLmzYsAHt7e148MEHsXDhQpx88snvdbM0NPYLmoymATo6OnDTTTfB5/PhqKOOwv/7f/9v0pIbDY2piimhGWloaGjo4VNDQ2NKYJ/dtP0Jc2poaGhI7IsDpi0jDQ2NKQFNRhoaGlMCmow0NDSmBDQZaWhoTAloMtLQ0JgS0GSkoaExJaDJSENDY0pAk5GGhsaUgCYjDQ2NKQFNRhoaGlMCmow0NDSmBDQZaWhoTAloMtLQ0JgS0GSkoaExJaDJSENDY0pAk5GGhsaUgCYjDQ2NKQFNRhoaGlMCmow0NDSmBDQZaWhoTAloMtLQ0JgS0GSkoaExJaDJSENDY0pAk5GGhsaUgCYjDQ2NKQFNRhoaGlMCmow0NDSmBDQZaWhoTAloMtLQ0JgS0GSkoaExJaDJSENDY0pAk5GGhsaUgCYjDQ2NKQFNRhoaGlMCmow0NDSmBDQZaWhoTAloMtLQ0JgS0GSkoaExJaDJSENDY0pAk5GGhsaUgCYjDQ2NKQFNRhoaGlMCmow0NDSmBDQZaWhoTAloMtLQ0JgS0GSkoaExJaDJSENDY0pAk5GGhsaUgCYjDQ2NKQFNRhoaGlMCmow0NDSmBDQZaWhoTAloMtLQ0JgS0GSkoaExJaDJSENDY0pAk5GGhsaUgCYjDQ2NKQFNRhoaGlMCmow0NDSmBDQZaWhoTAloMtLQ0JgS0GSkoaExJaDJSENDY0pAk5GGhsaUgCYjDQ2NKQHne90AjX8cbDYbDMMw/X8iyG3kdtbv9+ec7+QYGjMDmoymAZxOp+rsNpsNNpsNDofDRDY2mw12+6ghTEKw7mMYhvqzHr9cLqNUKpmIRe4rIY/P35xOJyqVCsrlMrLZLMrl8oG8BRrTAJqM3ueIRCI466yzEAgEYLfb4XA4EIlEsGDBArhcLjidTsTjcbjdbtTX1yOVSmFoaAjlchl+vx/FYhE2mw2VSgW5XA5DQ0PIZDIol8soFovweDyoq6tDf38/du7ciVQqBYfDAYfDAbvdDq/XC6/Xi0QigUqlApvNhlKpBABwOByKhGpqapDL5dDf34+XX34ZPT09KBQK7/Hd05hK0GT0PoC0YOR30tqZNWsWPB6P+m1kZATAqEWSz+cRiUSwZ88eZLNZAEAgEDCRQblchtvtRjAYRKlUQqFQQH19PWbPno3a2lp0dXXB5/MhnU4DAFwuFwKBAFpaWhAKhbB161aUSiV4vV51TLYtm81i9uzZKJfL2LFjB2KxGLZv346uri5UKhUAQDqdRjKZfFfun8b7AzZjH534yfQFjXcPLpcLhx56KI477jh4PB4UCgVUKhVlcZCMqqurEQwGlbXCfwuFAsrlMvL5PFwuF7LZLBwOB3w+H3w+H1wuFxwOByqVCrLZLEqlEvr6+tDV1YVCoYCGhgbU1dXB4XAgm82qP1pPgUAAs2bNgt1ux8DAgDq2dPuKxSIymQwAoFAooL29Hc3NzYjFYgCAXC4HwzDw2muv4YUXXkAul1OuXLFYfC9vv8YBxL7QjLaMpiDcbjeampqwZMkSLFq0CG1tbXA4HADGBOFyuQzDMFAqleB0OuHz+eB2u5ULValUFBnYbDbk83m1rdvthtfrhcfjgWEYyOVysNvtyGazyGQycDqd8Hq98Pv9KJVKyOfzcDqdCIVCcLvdyOVyyGaziMfjAEatrEAgoM4vxWq2J5lMYmhoCP39/XA4HKiqqkJDQ4PSjmKxGA4++GDs3r0buVwOO3fuVO5kPp9XFpnG9IUmo/cIdrsd0WhUuTIulwuRSATBYBCFQgGNjY1YvHgxmpubFQF5PB54PB6Uy2Wl69A6cjqd8Hg8cDgcSmwuFAoolUqoVCrKJaNVRasok8kgl8shk8lgZGQExWIRgUAA4XBY6VBsn2EYcDqdqK6uRqVSwcjICAzDgNfrVWREq4g6VLlcRqVSgcvlQjqdhsvlUqQUiUTg9/sBAI2NjWhubkZjYyMKhQLmzJmD4eFhZDIZ9Pb24q9//Svy+Txyudx788A03nVoMvoHgQTg8/nQ0NAAp9OJ5uZm9bvX60VtbS38fj86OzuVKwWMujd2ux0ulwt2ux12ux1utxv5fB5utxsulwsejwcul0sRTzabRT6fBwBFCLSI3G437Ha7cqGSySTi8TgymQw8Ho/J0mG7K5UK8vk87Ha70psKhQLC4TCi0SiAUaIjyQFAqVRCsVhEoVBAMBhEbW0tqqur0d/fj4GBAcRiMWVN8R7MmjULhmFg9uzZyOfzSCaT2Lt3LwKBALq7u7Fnz54J7y+tRWCU6PP5vE4jeJ9Bk9G7BFosfr8fbrcboVAI0WgUs2bNwsknnwyn0wmHw4FisagsiHg8js7OTqWx0OUxDENZKOVyGU6nE36/X1krHo9HaTWFQgH5fF5ZQna7HeVyGQ6HA6FQCMFgEB6PB6VSSVlE8XgcqVQKPp8PwWAQXq9XndfpdCoRnJpVqVRSHV8Sj9frVW6gYRjqutgmit6Dg4OIx+Po6+tDOBxGJBJR1+V0OmEYhqn9oVAI8+fPx7Zt27B58+YJc5ZKpRJGRkZQqVQQCASUWK8J6f0DTUYHELRYKCKHw2GcfvrpqK+vV6TkcDjgdrsRjUZRLBaRSCQAAMViUekqmUwGfr8fmUxGCdPUh3K5HHw+n3LJDMOAy+VSRJTL5ZDP5xUB5fN5OBwO+P1+RTQ8XzqdRiqVwvDwMLxer/qdpECSI6FZSYBWGT+HQiF4PB7YbDYUi0WTS1gqleBwOBAMBuHz+ZDNZpFMJpHNZlFdXa3uIY/HfUmYdrsdS5YswZIlS9Q2jMRVKhUkk0m88soriMfjaGlpwaZNm9De3o5MJqMJ6X0CTUYHCD6fD4cddhg+9alPqUgWBWN2ZBJRJBKB1+tFKpVSEaNEIoHe3l4kEgmEw2E0NDTA6/WiWCwqa4FCsrSOaL2USiUlNtOtA8ZC8IyeAWPuE//8fj8ikYj6nYK4x+NRVhHdHlotlUoFHo9HkRc/A6PkwD8mSdLKCwaDCAaDyGazSKfTSKfT6h6QOIFRYqfr6fF4kEwmFSk5HA54vV5leRWLRYRCIdTU1GB4eBiDg4M44ogj4PF4sHfvXtWW4eFhpWVpTD1oMvo7EQqF8PGPfxzz5s1Twi01HVor4XBYaSbAqCZCYXh4eBipVArAKBF1dXUhkUggEomgrq4OsVgMXq9XuXLAWN5OsVhUbhITDWUGNTsfScXn88HpHH3UFLcZjWPUjBYddSVeS7FYVCF96kR0f2gF0R2lpUYSAsbc1WKxCMMw4Pf7EYvF1DFyuRyKxaJyOQGYrsFms8Hn88Hr9arcKd5v6ZKWSiUVkaNGtnjxYhx88MGw2WxIpVLYuHEjbDabFsGnKDQZ/R0IBAI45ZRTsGDBAlRXV6vRnGTAjp/NZlVI3OPxKDctmUwimUzC4XAgHo/jzTffRDKZVEQk3R2rJSJ1JLpjtJyAsWRI2cEZYqdFQAvN7Xar//M7WjrSgpBiMJMjZQSPUTHeB5IBCY+iO9tK6yiTySCbzarcKbYfgEmXstlscDqdiEQiKqM7nU6rdIVyuYyhoSFUKhVlMUkyDoVCSCQSSvzmfr29vYqYeF6d2/TeQZPRPsLpdKKhoQFr1qyB3+9HY2OjStwrl8vw+XwqTE3XhMQko1fJZFK5Z7lcDjt27MDg4CBqa2vR3NyMSCRi6piyJqxUKilXShagkjSkpkPrgu4bMGpZVSoVZQGxvSwbkSF/aXnRnWP+EQnG6XQqS4/7yPo3q4Uj69TcbrdKK6AOJuvVuC/vL9vHY9BKoxVWKBTgdrsVCdI9DYfDCIVCqK6uxtlnn62IMp1O49lnn8WuXbuQSqXUfdRk9N5Bk9E+wOl0Ys6cOTjyyCNx+OGHAxgtX2AHYAeklmGtjHc4HMjlckilUkgmk8rN6u7uVhGlxsZGVFVVKbKhzsRteQ4ASjchKZBgCIa5Gdpnp5XbOBwOlbPkdDpNmds8B0mE56IFxc9MA6BlJl20iQpo+Z3L5VIpBkwZIEnwnLSmrBYWyVWSBl1hn8+nvufgQFfX7XZj1qxZ6lgyTaGjo0PV5qXTaUX00t3UePehyeht4HA40NLSghUrVmDlypXweDzI5/MoFosYHh5GOBxWnYDlFgyNs3MxchWPx5HL5VAqlZDNZrF7926Uy2W0tLSgurpa5fPILGp2CGm5sCOXSiWlUckcG5mlzaRHRtfYwbmtzPOxVvXz/yyolQWyzJliFres5pdkIvUsea8T8LUAACAASURBVF6ZwEm3iS4XrbOJZhcAxqJoBDPNGUmUGelyoOC2PMf8+fPhcDjQ0NCAQqGgkjHZbgYE9AwD/xhoMpoEdrsdsVgMoVAIq1atwqpVq1BTU4NkMqkyioeHh1VH5OhcLBZRU1MDn89nyn6mS8KXntXztbW1qK+vVxEx2Ymp1TDMTUskFAopPUiK2lKfoaXDNlgjW7xGpgVYpwaR9yEQCCgysVo2kmSo58hrsIrSJCq32w2Px6OEcZI2iYJuIDWyyawseQ3xeByVSgVVVVXK2uO56AaSmG02G9xuNxYsWID58+ejWCxi79692LZtmxL2AWBwcBDpdNpUgqOtpXcHmowmQTQaxZlnnom5c+eitrYWsVhMdR6Hw4FYLIZKpYJMJoPBwUFVEkG3h0KwFFmp+wwNDWFoaAjV1dWor69XVoDNZoPH41HuCDs2R3lqIMzMJrFIoiGkFURikpYJLSoZZSOBAGPkwazqcDisCEMmYAIwkRGPTzKgqyldNxIBCbtYLKJUKilrhG3gNVgtIx4/n8+raFtNTQ36+vpUThWvmakBbrdbpTywbTJPye12o6amBosXL0Z3dzfmzJmDSCSCHTt2YGBgAPl8HkNDQyqCp3HgocloAgQCAZx11lk45JBDEAgEVKIeRdFyuYxyuYy6ujokEgkMDg6qui5aT4FAAF6vV3UujvIUfUdGRhCJRFBdXa06NfN62IEZEZJRIZlfI0dp5h8BY52WkS92Rpk9zbYAY24ZLTN+Jy0vp9OpUhRo4QBQpEaiJQlY3UJrlIxRRuo5bCuva6KJ4aQATkJhm6LRqHJdKahLC26iWS6lhWgYBiKRCNatW4enn34aDQ0NiMViag6okZERbN26FZlMBh0dHQfuZdNQ0GQkYLPZEAgEcMYZZ+CQQw5RE4ex9AIYyzTmFBfhcBgOhwP9/f1Ip9MIBALweDxIJBKmjsAOxMnPHA4HOjo6MGvWLAAwjeQkJHZmKcay7oruDIlRkgcJhJYWRXXp7shIlxStCSmO81icAYDEIM8l3R+p9VhLNjg9CN2nWCxm0sPo+snz8DOvk9vKMhWSmcwgJ+Fa0waAMUuQVqksX6mvr8cbb7yBQCCAWCyGmpoahMNhlWBJy2hgYEAnUB5AaDL6P7CK/oQTTsAHPvAB5XaROKhtyCp06gh+vx/V1dVIpVJK/+B27FAej0eFsZnjk8lkkM/nEQwGTdoLf5eiMd03kg+JhKUWtIrYkSnesuCVFpokJGu0iPqMdOfoCjEbWpKPtFRIFPyNWo7H40Emk1HZ6Dwu9+PMAExslFoPwdC9FJJZqiJdYIrX8p7T2pSJotItJngckvy8efNQV1enrKxKpaKicT6fD11dXXjmmWe0y3YAMePJiNGyQw45BPPnz0dLSwui0Sj8fj/C4TDsdjsymYwK5ZMg5Nw9fIF9Pp/SFBhlYseUrgVdlHw+r6bScDgcKndGlkHQ5WGHpMZCa0FmQcsQOF2UQCAAwOzqSOKzlkfI0g1G4/h/a2oALSd5LGkVsQ108XgPqOnwOnnvZGSP901GCnlcHptkJNvIbd/KReMzYNtJRPLeNjU1IRKJmKxMEtiqVavw/PPPI51Oq5QNDlbDw8MH/B2dKZjRZORyubB06VIsWrQIzc3NqK2thdfrVfqMYRiqmDSTyaBQKMAwDKVtsIiUHZUdSZIFgHFkRPIyDAPDw8PI5XKKNOgGSE1HpglQ2Ka7InUdmdBot9tVREiK0xNFzNhG+ZsM17OtVgFcph9MFG6ndRKJREykQjKSepbV8rJCJlXKhFJG+rLZrLpPdGknShFg1jnvHQmI7U+n08pSk8I828bUjcMPPxwLFixALpdTs2N2dXVpMnoHmLFkRCI64ogj0NTUpF5gWZvFbOlkMqnKBhhGlhEpOXoyVwiAqcyBepDs8PPmzcPs2bNRKBRUch5dMGntSEGa1g8JQOYXSc1J5irJtpIkmEpgBYmObZAuozUiJmEVvPkdK/WZVCjLU2j90QWVs0TKpEcZEeT+PAY1PEYgGV2TVpbUnazROenyAlDuJIlNWlgcTIrFIhobG1FbW4tCoaBqCe12O9rb22EYhpqNQWPfMSPJyOFwoK2tDccdd5wKrfNFleY/K8tTqZTShvhSshMxLC1zeKzRJZKS1ENcLheOOeYYHHzwwXjiiSeQy+UUkcncImuJhSQgfraSITCWQQ2MhdxpVUl3URKn1YUjoXEqEp5jogzlySwuACo1gBaldF3ppllhDeczOsfrYPtIvC6XS2lGJH15DD5jEo1MCuWftOZ43/x+vymBkiK2vPZIJAJg1KqaN28eDMPASy+9tG8vo4bCjCMjm82GqqoqnHfeeaiurjaJwi6XSxHO0NAQcrkc4vE4stmsqfqdeUTM9+Ek8tbQOl9WawYvc2GWLVuGtrY2PPXUU0qgpTVjtV5IcDyP1FasLozUgdj55BS1UsuSWhO3lykD0pqSOo50z9jJAZisLUkIdMPY6eXvkuBIojLCxe+YEkBIImYkjrMcWK03EpdMZ8hms6b5n7g0E91bPmdGMcvlsppfiW4hn4Hf78fcuXPVBG/bt29XbrXGvmHGkZHb7cYxxxyj5guieEmdgHNQc9Kxvr4+lWvEl5I5Ryz45BSwMhpGPUma/8BozVQqlYLL5cKrr76Kv/71r0gkEqpolZaI3AcwF45K60nqUrJzSA2Hmdy0GGSmN49Nq0paDSQwOR8Tjyu3kZqKtNzYLtkeSSZS+LZuJ9vPe0LClhakvF5+TzKXbp9MCWAQQs4TTq2OuU/U3GgJl0olVdKTyWRMGe/MwM9msyoPrbW1FblcDh0dHTrito+YUWREDeSYY46Bz+dTL46sB3O5XBgYGEAmk1H6EcmnUqkoQZadgXVodGX4HQVQWjHs7NFoVHWsvr4+JBIJ5faxUwYCAdVpJDlIAZnHoyVjdbEAjOuwFOBpdcntpAUlScJqZQFj7h7bwmPItlm1GGmZWevo+FkSnSQT+X8r0fKZ2mw21eml2yc1LF43XWi2m5YhnzcwVmjL7TnjwsjIiCo74fPmOUqlEiKRCPL5PFauXInh4WH09/drMtpHzCgy8vl8WLVqldIXWHFOyDC+nLJCZgVz0nopFgcCAfj9flMeC8VUOVJLncRut6upM9gxWHtGzYLCsTwG20v9BYAiStnhaf2wM7MDSl0JGD+PtGyrJBj5mZYbO6pMumSYndsQ0m2SFhZhJRjpcpIM5PS60uXkOamBWRMZed/L5dH5uGWxL0lfRghdLheCwaDSiUqlEjKZjMoLGxkZMZGwFLzz+bwKegwMDCAYDMJms6kcM43JMWPIiC82p2qlOO3z+dTLWyqVEI/HUSqVkEgk0N7ejmQyicbGRrU8T7lcxsjIiHLRpBbBF5nnA8ZKDaSIygTLTCajwuaMAlGHki6AXAKInY0kKTUm6aaxszHZTyYD8jhWV88qRvP/LCWR30k3T7p+JCeSLgCThsO2S+1Igu4Ur4Pn4nXSbbJag7xmmVNEEiMZkVjk/aZ7R9JndI4uuTVyydA+E1Gla1upVJTuxOzwefPmIZVKoaenBz09PQfmZZ6mmDFkBIx2qkWLFgGAyVIAoCa7Z05Rb28v+vr61AyGHBXpTnHye3Yw/pGUmDsjNR1gzHVipEbOJSTdEiY5st3cV1otJET+xuuiBSVFZxk5s8LqjvE4sr6MpScSkgTZJn6Wx6FrNpFbJrUiGS2UBcAAlDBNvUcGDKTGxufBc7Odsh6PhORwOFSGOudBot4nj2nVm6qqqpR7aCWjSqWCUChkml54ZGQEmUxGk9HbYMaQkdfrxezZs1FTU6PEXEkWDOVTB/D7/WhoaFBTpNJUTyaTqnNyhJQRIRILo3KSXACY9BIm/slwsxzxpeUg3RJJfFZrQLo4JALZRius1ok8t9R/5DUSknxkThOPIWeY5HEkZC6RbI81miejZnLWAGtuk7x38n5Zt2WukHS1OcjIJb9lW1isXC6X1bbyGUgyYgTO5/MhFothaGhIE9E+YEaQEXNHmpqaVHmC3+9X2o9cWaNSqSgNiOUA3IZ6QSaTUcvrWEmAI6hhGAiFQuMIQHZW2Xmt7WWHAswEBoxFl6z7Wq0wkq5sJz+TWKSlIc8tz0mdRXZO6ULJ48nOz84pw+lW62yi+wNgHEFZBWerOC6JhuRljRhKS09qWlLjkm2VLilLeGSb5DNgu/jHwAZd76amJtTU1KBYLKplwTXMmBFkBECFammWs0CTL7YcgblCKjuXjOJkMhkkEglTzgm34RQjLExNp9OmF52dQ7pEVn3GGqqXJCEtHOmKSP3HCqt1Ja0VSTqS/KTbBIxlfsvfrVGkiawc7gtAVePLNk9kqUnrSxK9JG5JRFLgpsUi75k8h1XPslpqksQI+Tzogks3j+eb6B5IF7e1tVXNDvrUU0+Nu26NGURG9PEnKh8AxkTScrmsZmVkMhurvv1+P+bMmYP6+npUKqPrcDH5jYQlBexcLqeiMoDZIpGiMiHdNNmuyQhICtHWqI78XlpQ7JDSkpH/p5UhSZqkTetIJknKDj6ZG8hjSI1oMleL1wyYdTBJ1vL/0j2WCaITkaxss1XDkwK0LAKWbi8wOtcVc4wI6k1yW75bjPwddNBBmDt3Lnbv3o3NmzcDMOeRacwQMqK1c8QRR6jwKn1/GRlh0SWLJSORiPqOhbLUg0ZGRpSeJDUfHluK0jJ3BzC7WewME2k1/Gy1bgDzaqpSH5E5QOz0PI9MUWCbpO7E40sSkjNBAlAurRTFpZ5EwuK5raK8zLuyksZkeURWIdtKUrRKmRRptfC4H/+VpCuPI69jIutNivNSeJfPhZIALS+Hw2Gqa6ypqcFRRx2FcrmMv/zlL+M0u5mMGUFGcuRLJBJIJpOw2WwIhUJKvGRNGr9neJadnJ06kUgglUrBbreruZb5otNcB6CWApLWykRisZyh0aqzsN3Mo+E+VsGU55OkJ0lB/sn9uT1XrrXqLuxgckpYuR3bL901XgdBMpOFttJCklaglWSk1WPV2eT9ZLqDXFlFWlDy2gEoorBaV/y/0+lUCyfw+HwmjKhZ7zFdN7kIgFziieeLxWK44IILUCwW8cwzz2jrSGBGkBHDr9u2bUMwGER9fT38fr9aL4sT3JOQJNhBGEb3er1qcUaCFoKcwIzWFjsJxeKJRGsrsfBYwJjLYo1i8TdpYUgdQ7ppctoR2fmlWCsTJuU5aFGxo8tZC2QkTRbA8phWzUZaSFZtSe4rrQwrJhP+rQmf1uPxvLSepH7Hbbg/7xlLhXjv5Bp0JEBpZVEfYrSO28t7L/XDxYsXY9u2bXqttv/DjCAjWie7d+8GMFrYOnv2bNMIz6llZTazFJ+lO+D3+5WlQMtIZiGzY/C8MsHPqsPwd7o9VutJaimyU8kIGDug1VWzhsEnOq5VM7ISHQC1pBBD2fxdWjfSIiRhSEtNZrNLIV62U054JomR903eA6sOZL233FZaXdxXPjd5HGm5cR8+O+5HV90amZPHI+kxTUS2i9sahoGPfOQjsNls+Nvf/oZMJrMvr/K0xowgIxZB+v1+DA4OYu/evWpJZgrWlUrFlP1M0A2R1oq0KPjis7NZhXEptkqyYUdlXstkorWc5B4YsyBkyQkhR2mr5mHVRKzWhzV0z2vh9UkLQZ6Pv5VKJZVXJfN0pNBunTxNitIcBKxCN9vGej6poZG4rKQi28frkuB1ye+t105iJFnLdAK5qIHdbjctO873TU5RLN1BJsTabDa0traiUChgcHBQkxGmORnZbDbMmTMHTU1NCAQCaGlpUSNxIpFQmg9HPGBM22CJB3UCa1avtIJ4LpmMKLeZSPewTqUh2yxdPesUIiRAq9BLTBRalhqLbD87pNS85O/s6JLUZCeWnVnqWFbCkdaW1IXkfTMMQ5WNWNd64/FyuZzpHk8U7ZKWzUSQ1rB8PgQjg7LkhKQvLSSp9VjbKV006TKS5Nj+cDiMQw45BLNnz9aEhGlMRiSi1atX4+CDDzZl8Q4MDGBkZESt7sApX2UkigRkt4+tSy8TCKXZL3UbmeszkUjLtk2EiXQWugSybdzWOppbj2XNDrdubyU3ts2q7VgJV1o90mUh0fN3CrjSZWOtHI/Fjs8pOCqVilqxV06iD0CF3b1erwowMLeI10xMRtYT3XO5H4MFMpIorUQ5OEgLVlqynCud05MAY+8TnwlF7XA4jCVLlmB4eBg7d+6c0cW005aMfD4f1q1bp2rRGB1hjlB7e7uqR4tEIirEL90gWS6Qz+dVvZEc6awWjwyfW/N7rJqSjOBY3Smr5iM7loyucR/r75LYpFgr28bjSgtMiriAObsZgNK62DZGpiqVirJcJhKB6SrTamBAgCF51gSmUimkUim1+q50kUhgnCI4HA4jEokgGo2qaV54fnlPpD4lI4lS4+FvcgDhvlIb4iRuMreIWqPdblcEREKim80om2wL7/uyZcvUYgxvvvnmAesD7zdMSzKy2caSzKqrq5HJZFSn4hSirDXr7u7G0NAQPB6PEqY5ZzNXBzEMQ0XerJOmWQVm2QEY1gXMc0tLy0C6S3I6VemqMEVAWh7WFxwYK5vgqM6Eu8l0IkbGnE4nUqkUDGNsfib+TtdJhuiz2ayKsJEoksmkmuaD18s2kYwymYxJOGenHR4exvDwMAYHBzE4OIh8Pm+arE62oVQqqTnK/X4/otEoamtr0dDQgPr6elXEOpFwb7WCpLXMNsv0ALk9t6Pm4/V6ldUmU0B4HLkog7QAZWCD+8ZiMRx22GEYGRnRZDQdwReEIxlfZPrq8+fPVx1Zhl6pFcgRXprXPDY7JIBxrpkkFklGfMGtoWm6I3yZ5b6VymhuVD6fRzqdVmuQAaPZwKFQSM0QQGJgezjFCadVpRshK9S57DNdJEmOABQ5cT9OsULLhsTBdAe6lFIEllYbz5FKpRCPxzE4OKiW++YsipyyRKYpSGtLujKdnZ0qXWPBggVYuHChWs1XEtJEwjvbM5GoLt1ZSeJSO7Nap3xvWITNa5dzWEkdkgRdqVTUYqEzGdOWjPji2mw2eL1e0+KKkUhEWT9yJJfmMzsCRzWucy8zgCcLu5fLo5N4yQnQJhJs6U7R5eExaDGkUikMDQ1h586diMfjSKfTiljs9tFaO+ZIydCybC+tPRYGk2gYeWMbeG8oovLecBFHWkT8v1X/IUFZUxw8Hg/y+Tzi8ThsNhsSiQQymYyyhFh4TDKk6zaRfmYYo7MpsM3SKqOl63K5MH/+fFUQLbU26wAjwUHI6trxvNb/W91d/s66R94zkjsHRbnkEaeh4T2X05HMRExLMmKHZo0Z9QU+ZBkZs75wAExZtLQe+AeM6Swy9Cv1B25DvUOWf5CcrJEqkkM6ncbw8DB6enrQ0dGB/v5+DA8PKxKywpp8KV0/Wgg+nw+RSAShUAihUMj0vdy3VCopQZgakMyX4chudbWkeAuMuVUejwfhcBjt7e3o6+tDuVxGX18fUqkUEokE0um0yR2VhCp1IpmlLknEqk9lMhmMjIyYkhplDpZc/80aZbSSnjXiJreR1rTclr+R9KVVKPVHAIqQScTSmp6pmJZkZLPZsHTpUni9XqVTcMSieWx9wWhiG4YxzqTmSEbiIayJgzIhUJZzkISkWyjbShE3Ho+jp6cHe/bswc6dO5XVQI2BHZVCqbTMpIXD/3Mbtsfv96vpUfjZ6jpw1gHDGE1vmDt3LsrlshL8A4EASqUS/H4/WlpaUCqVsG3bNqWhcLYCisz9/f14/fXXEY/H1Qq6nIKVpMCoGO8HIa0UPh+pRfGzdC/pPvKeSb3LanUwcmedlA0YC/Fbs6z5/GS5jHwX+JkDF9sqtymXR2cLTSQSJosznU6//cs9jTFtyaiurk5FweRLKleWsIbdpZtGApJRL1nyQHLiiwqYw8m0NOgWWU17mTgHjI6UAwMD6OjoQHt7u5qMi8ejyycLXGVYXk5Ny/Pz3Pl8Xs1UmUgk1P2grsI2kKh4LK/Xi9raWlRXV2N4eBjd3d0IhUJqtsPa2loYhoH29naEw2EUCgVljYbDYeVmvvHGG6hUKup3usyAWRjm9Upike6tVWyW95REymRWmSckI2xEPp9XWhmFfrpJclCiuyeJBzC73fIdkZFH/m4V0akV0erkaiPaMpqGYFQIGKsyZxRmIutEvlgkKesMfnJ0Y0eR9VBSA+ILLZPlpMsxUVQnn88jmUyqyBIJxnpdVrKbSL9ih5BhanYwmfsiXTxaO3LVWwqx8+bNw969e7Fjxw41hQZXUDUMAzt37kQoFEKpVFILXtIKHRwcRDqdNrlx8j5aM8ul28v2y2uz3g+2MxAIoLa2FrW1tSriKZ+HNeEylUohnU4jm82a7getGkYLmblPa4vviSRRa0RT5qDJtsrvpD5I4pMzg85ETEsyAsZ0H/7xJbe+SDKpT3YACSsJAONXu5BakcPhMLmC1mgS/yTZSL1HllbwN7nfRB1AHt/qQshrk66lrKkDoFxaajAUh7dv345kMomhoSG1SOHQ0BD6+vpQLBaRSqUwMjKirDAAas35YrFomhVArng7kZsr2z2RGyQtVN7DYDCImpoazJ07F42NjcrlmygixjZy6XJpkTBYwcGLInO5XFbrqXE7kob1PsvvZZtlFM7lciEUCikdkFZ7VVUVgsHgjF0ae9qSEfNBOO0nO74UNa2+vDVEz5dYWh8kNpaP8Fj8TLLiZP3WUZdajBRIuZ5aVVUVwuGwWugRGL8GGI9fKpVMCycSss10PaRIDIwREQlQun3A2PI7ABTR0PXhOcrlshLWPR6PyQqR98NaSsNOaXWRre2SLo/VxeJxPB4PQqEQGhoaMGfOHMyfPx+xWGxcVIz70EVKJpNqFWDeG9kOkp2s2qcALcmU1yGTWK3hf55btsVut6u19/geORwOHHTQQVixYgUee+yxcQPiTMC0JSMp+sppL2h5SDFYakJ0rSgS8zfp9ljFYb6McglnalMAxo2QsiiVHcHtdiMWi6GlpQWFQgG7du1CPB6Hy+VCNpudsMKc0S9qU5JUafVIYpFuHUPz3I+dQt4/5r5wW8BcWOtwONQIL/Ur6f7xvPI+8xokUcs2Wq0+uQ9dXadzdE7qpqYmHHTQQabFFqyWodShyuWySiOQz91aOiOFalp/Ho/HtGyTlUh5LA5WMkVEDhp0AcPhsGqH3W5HdXU1/H4/Nm3aNO55zARMSzKqq6tTIWqOhNK1kVEcEoLMueHaajSh+SJRQOa2VnNdlk4wT0eSBDs1s4spkNJNZDKm3+9HLBbD5s2bEY/Hlf7FjmglFH6eKBzNxSppwUkNRkaarAmK7FC8T1LvIZHItAW5aqpMVpTz/7AjW4VoRhplmQXPI91jttfj8SAajaKpqQnz58/H7NmzUVVVBWD86iF8JlYRW2p5wMQFwPyN94HTCJM8ZACCuWWMjNHlZZutA57dblcpAB6PR9XaBQIBLF++HM8888yMs46mHRk1NjbiQx/6EIaHh9XoLl9Edj4ZopeEJMVqTg3B0ZEvksynIeHIkZQvqLS8ZGdiSFlOH0JyYmJlc3MzHA4H/vCHP5jSAqyRmnK5rDKhmXhIIpEhc+k6SRfJ6mZYp0xh6QwwVrTLe8e2UPOQFokkPAmSorweqyjP9kqiKJVKCAaDqhatpaVFzUdOgpDRS+4vrSmrJWN1E9lemR5htZxlVb+8J6VSSWWiZ7NZ5HI55RbyOmXb+Hzolno8HpX3ddJJJ+G5557TZPR+hsPhwKmnnor6+nqVsRwKhVQRJaM3drtdRdbY6WRnzefzatJ+voDy5ZVhZULqL3S75O8s43A4xmaABMZmKJQaSTAYhNfrxfLly9HT04MdO3aoLF3mAwFAOp1WWthEYjavRwrSknAAmMjXKrrKzszooDy+1Wpih+Vvsl1sh7Q6JLFKHc+qsQCjAQmSUGNjI1paWpRbQ1KWFov1GU0UdeQ5eK1WzZCEwfstiVJqiiQYqzbHQYeWGa+HEU1G6OS9cDgcKoN7pmFakFFDQwOOPvpo2GyjBbIMMw8ODiKbzZqiVhSzWc9ljXIA5sp5WkXSZKcrwakvaCFJEVjWwmUyGcTjceRyOeWOBINBk7DL/WRkLhwOY+XKlSqLub+/3yScT5SmIF0ewDwpvyQWqzAvRVxJGrlcTllw1igRMJY6YRWpZT4WYJ5KVkY5pctM14+QA0ckEkFLSwvmzZuH+vp6VFdXqznLSWJWoVsOHtKt5nOTVpP1OfA+8P7w3kpyk2QkzyevUz5PqRPSPSeB870igc1ETAsyqqqqwurVqwGMhWej0ajSZ5hsl0wmUVNTg0gkgq6uLkUKzEhmON1qMclZ+2Q9FgBTByoUCiahlC9/KpVCMplUL5k0zQGYiAAYc78AYP78+QgGg6iursaOHTvQ1dWlyigmCu+z85EYpbgtOw4wZpWRCCRBSRFf1ooB5ilnre2wCsfSIpgocCC3tbpVLFkJh8Ooq6vD3Llz0dLSomrueJ95LVZXW5KDJBYWB/NZSE3QqiPxd95jmWkv9TVJsFIn9Hq9JiuN+/h8PiQSCeXK8ZlKYX+mYVqQEZeAcTgcSKVSSrR1OEaXiUmlUqpMwev1IhqNore3Fw6HA/X19XA6nSpRDhibwgMwJ03KDiMr7a1FlnT1OHm/TK4j0WQyGVRVVZnSC6S7IN29OXPmIBqNorq6Gm+++SZ2796Nvr4+k5VkhRS0SU6y80gLRJKUdN8A87S7VjIjJDnJKJ7UtKzpB7It1lA8a9qoEcViMTQ1NWHWrFmIxWJq0JAWnBw0aIHKejCrfifzugi6T2yzdbYGEoU8v7xWSUS0CHnfpUXFZ8OoWi6XQzKZVJnYcvuZhGlBRiwwra6uRjgcVsWHHo8HwWBQRZP6+vqQSCRUDhAAJRyy00mTXM40KM35XC6npvPgijy0fAAAIABJREFUOax5O+xgQ0NDppn/GB5mG6z5M9Ka4HxB5XIZVVVV8Pv9qKmpQUNDA1566SW0t7ebUhUIKUrL//O6iInC2SRF/jHxT9Zoyf1lSF5GFHk8aQlxpgS2iX/cju5gNBpFXV0dYrEYQqEQotEoampqEIvF1DQb0tqggMyJ2aQbzbmH5Bp51IHoytK1ZbIqgwk8Ns8ly3HkveXvtKKsuWHStaX1k0wmx1lZiUQCXV1dpnKZmYRpQUYdHR2477778M///M8qX8ftdiOdTsMwRktDgsEgfD4fduzYoUofqqurVTW7z+czhepZyyU7tSzbyOVySmjkSMdj0CpKp9NIp9OmkD5HVeau0N1ghzQMQxEVX2xGaNxuN1paWhCNRlUF/vbt2zEyMqJCw5JIJBlIvUcSnlUXoetlDeuz01h1Noa82ZnZIWl9yBoxrjUvyZr3jm6yz+dDVVUVampq1AwDrJljCQ7bKjUiduBEImESnjlw8B3goMPrsNlsKvLl8XhU9rPNZlMpGHLGBt4jqQPJe+jxeEwurVVAJ2lnMhn1DBwOB3w+HzKZDLZu3Tpjly6aFmSUz+fR09OjCIRTZPChFwoF+Hw+1fGZTMgIm1VfkEWU7NgceXt6etRSR7FYDA6HQ01RwtAsrQPODilDzQBUZxkeHjYJ3xx9uWR2NptVugmJqlKpwOPxYNGiRaivr0c4HMaLL76I3t5ek5AutQ5qP4xYycgaLTa6MvyeCZys9qe74fP5TJFIki23l4K5tUPSpbW6OQ6HQ5FRMBhEbW0tQqGQ0vMkGdA1laF1ph/4fD4Eg0G8+OKLCIfDiEajapIzYGwObZlJTQKl7iOjatxORh9JFFKvsrq2dPUmEsOlUO/1epFIJJDNZlVbZjKmBRkZxmhy38DAAKLRKACoBRn5QpTLZTQ3NytTPp1Oq+kshoeHEQwGVTif9VTsTJx+JBAIwOPxYGRkBNFoVHX4QCCAYDCosq/tdrs6jzXvBRhzm9LpNIaGhhCJREz5SgCU6G6328d1LHbghoYGnHjiiairq8MLL7yAzs5OVahqzWqWlhGtAimkM0tdWj3c33oNktg44yVzm/g8SJwy2pZIJJQOxmdCPUtqRalUCo2Njcr9YvtISiRr6c5Go1G4XC7MnTsXL7/8MrZv3466ujo0NDQgFAqZNCm6YfKey+RPFvlai6UBqBwi6bLyGPy/dFl5j2kFFotFDAwMqFkt0+m0IqhkMjkjtSJi2pBRpVJRDzMSiZh0A5ZM1NXVIZlMYs+ePcqNS6fTqKqqQqlUQk9Pj9J0OB0FSY3WQCwWw8DAgLJ4+NLKTGOZDmCtH2NHpOvDKT3C4bA6N0mUek1PTw8KhQJisZhqBwk4FAph8eLFiMVieOONN7Bz50709/crcZTzcEvdhC4I2xkIBJTwS5BI+Jmivcw1spIr2yx1NmBUYyM5VioVNd+2dG9IhJzDKZ/PI5VKIRKJoK6uDuFwWFl8vIfS1aN11NzcjCOPPBK/+93vkEwm1SBBV1ImvfIeSSLJZDJqteFsNqveAYJ5Qzw/LSppBcqIqkyQTafTKrKay+WU5c0gC4uNZyqmBRlxxPf5fEin0yo3xTAMFVWjC1FdXY2+vj5UVVWpqVA58f7IyIgqYJQvYKlUMiUdcqoNun4URmVo1kpOwFgUi8I0CTOZTCpTn3MucU7rcrmMZDKJwcFB2Gw2tRIGXSwWqs6ZMwehUAiNjY3o6upCMpk0WTFSYM3lcqYJ73O5nJrka6IQPa0qtl+G9aX1wOuVkSXeM7pD3EYK4lJj4XS7AwMDylVmZrqc9E4KynRtE4kEdu7ciaamJrS1tWFgYECRsNRhZKEyny8tvHg8jnK5jMHBQQSDQbS0tMDlciGRSKhEVpnOIAV4eY9437jqB0moXC6bVpmhziUnu5NBgpmEaUNGLJzky0B9wJpn4/f7lfjLfRndoNjtcDjUyy+jQewIfr9fReBo7ltDzKwKB6A+kxycTqd6SX0+nxq1K5WKyUXgaM/ZFUkiJCySGq+/trYWgUAANTU1KtpHS2NkZEQtFcScKyb+AWOWEAlEumy0aGQKg8y6BsbPeCDTDRjanyiHx2Ybq/KnVVUoFNSshzbb6GotjKxJS9MaAcxms9i+fbvKy+J9oUUol9GWor7U9RwOB5LJJPr6+uB0OlWtWSKRMLnxMm9LkrFM++DzpnvGAupoNAqn06m0Sepdw8PDpkFgpmFakFGlUkEmk0FXVxdaWlpMGdPsAHxxSDQySS6ZTCKZTCorx+VyIRKJqJdZ6hXUPGhp8ThsRz6fN1kedIlokrMmjSM6k+I40T0wtiIHZw2Q9WVMWZAkKV0DWm3hcFhNbJbJZDA0NKRSHljHxnsjxWDAXMLBc8hZCoAxgqI+wkiXFM6lTgOYl8i2hq55DQAUmTOayOdDQV9GBdlGPqOenh7E43Gl5THJkUW4tMo4aNGq4XGrqqowMjKiau0GBgZUuobUgGR7pYtGIqKbVy6XVcSW1jYDHRwc5DFmMqYFGRWLRfT09OCxxx7DlVdeqUZ/muPW5LZQKISRkRFks1mMjIwoN6m2thbAWMmI1FtIUiQYJjFyVJejq0znpxaTSCSUi0a3UboKJCT+Sy2BRbBW949uGo8DjBWXyuhfV1cX9uzZo+agJgmRNGQSH49rhSSOaDSqwuHJZFLlIEmdiNvze56P90VuI88ro1EkZ5fLhXQ6jUQigXg8jmAwaJovmyTs8/kQCoWQSqUwPDysnjvfAWpWfKZ0oUhstERJYHyvksmkOjafG++JtOhk+wEgkUgo6yoSiaCqqkq5kyQtDlzS+tKa0fscfLEGBwcBQEW9yuWyyr/hC8eIDa0pmtxVVVVK+GYKgBSj2alk2YT1hZYvI7O/AaiIHZfUcTqdqK+vVy8nR29aIADUKFypVBCPxwEAsVhMZSMDUDoSz00LJ5vNIh6Po7u7G52dnRgaGlK/yzA27x0tNbabFowUh5ubm1FfX4/Zs2cjn89j9+7d2LVrlyoXkTkzwJiOR41JlpxYIWv6ZNmNzWZTuVgjIyMqqMDrYPt5PuaYMaWDx5bROjkTA++blTy9Xi+qq6tVkirfJ2AspC/r2aTFSJedgYdQKKSsSt4nKaTLQcx6/2capgUZAWPh/R/96Ee47LLL4Pf7TRXxNtvoBPMskGVEhyMUXalEIoH6+nrlStCvZ2SEZj7dI+m+cDT2er0YGRlBZ2cnvF6vWvKHyYuMKJVKJTWLIq0xZoRXKhWVu8QVO2KxGBobG1FXV6d0JS7wSAuHHYypBQBMRCktMXZQkiKjeHLUdzqdOOyww7BixQosWLAAmUwGr776Ktrb2wFAtYOEks/nTcQUDAaVOE4NT3Y0ErAMMvCPbqmcDiYWi6k5r63uIIMKtDQkyTBK6fV6la7HaCXD9XzedK9CoZCKcvI8shCZgwXvq0yXqK+vx65du9QafXxnIpGIGhDC4TBisRiSyaRK0KXQvXfv3hknZE8bMiqXy+jp6YHD4UAmk1GRGv6RkPgicuUKCqVcaDCXy2FoaEh1KE7zwJGYwjjXg5dCLK2BYrGI/v5+9Pb2qvY5nU40NjaiqalJdRhaSXyBZUkKLTpaak1NTTAMAwMDA0ilUmhoaABgFp5JBplMRll9cvFKaiySDGTyIY/l9/vVKhtz5szBcccdh3nz5sHpdGLz5s0YHh6G1+vFrFmzVNKjrA1zOp0qb8vj8aC7uxvAWJEqrSRevwz703qSmeTMina73eqYrCeULhKJ1efzmQqYpe7n9/uRTCbHVc1T28nn8+js7ERtba3JmiPpckI0mSJAK5niOy1trqASiUSUJkViklPKkIgbGxvhdrvR19eHnp4eTUbvZ3DU7erqUq6WNeRKnSYQCKCpqUkJi4ye5XI5lVzIyBpBspErRcg5afhyJ5NJuN1uNDQ0oK+vDyMjIwiHw5g1a5ayuihsc1+eh+ItCYsWBXUj6kR9fX0q41ia/rQmuFAiXUUmZMrMYBJYuVxWwrfb7UZ9fT3mzJmjyDMYDCKfz6O3txeFQgFNTU1oaGhQYWlaF9TeDjroIFRXVyMej2P79u2ora1FQ0ODsspqa2tV0qfMEUomk8rSY/SJBJVOp5Xbw6RN1qrRdWJJB0tJJCExh4tiO98JWmEu1+hKtLt378bw8DBmzZqlrB8ZJHA4HCoJk8+sVBpd+psWMAcFRl65P2f25MydtOB4vU7n6GwTMqo5kzCtyAiA0liYf8NOxtGLlgHdCZYe0OynJUHSkqKw1Bh4XPmy0uJgR2JWMM1zJi1ypM3lcsrUlzk4JEvpdtHaoyVVLBaVBUBriuHt4eFhRYJsvyQegu0gGTOTnAsD0NXt6+tTWkg0GlV5WXRTeU/6+/tRXV2ND3zgA3A4HHjttdfQ09OD2tpaVdZRKBRQVVWl8p1oHTDoMDQ0pGZeYIBheHhYpUd0dHQAME9/QkuJaRMUo7kdr5/3mvee4ADj9XrR19en7ossBOY18jgkKupttIhJOtQSZXCAx6OryMHDWtPH88w0TDsyAsbyXOQDlZ858drw8DCqqqoQCoWU5kGyIAEBE8+GKMtN2Mn5mettORwOld1NTYj7UyeieydHa7oEUj+RYWkKsWyrtLSGh4fR29uLwcFBNYcSO6CM1LADMHFTFqXS2pKuFK+JIW/eX1bRsw01NTUAoPKYamtrlVXCXB9eK10lXkNVVRWqq6tVpJMRpu7ubgwMDCCfz2NkZESdj+2KRqOmeytTHUjmtGrYTqtuZbPZlGtNa9ma+AmMzebAnCESlyQQ5ifxWVqPw/eHlQF8FmwT789Mw7QkI3YwWTRKDQkYS7iTUzXwZWNHl9YQX26Sgqxr4nfAWIGszM6lcCoLXfkycrVSGQkDxoopM5mMcv+AsfXa5XVJzYOieXd3tyIDeX1SZKcLEY1G4fV6VWU8UxgopHMbmW3M45FEeV3Mn6GuVSqVVBkHzyvvuzVTm+I/689KpRJisZgqmO3u7kaxWFSEJLU8Liop9SbZXoLkb/0rFouqto8F0FZI8Z/1iyQ562DC5ywHQdkWWkiS4CVpRqNR9fxnCqYVGdlsNjUTIAnAmulLK6Gurg7A6NSu1qJYqRVxX2AsYsfREBibVoS/M+omM3IJaWmxHXS1gDHrjRpEOp02zUjItjGJT76oMqeot7dXRYTYIRg5k8WxsVgMkUgEhmGYssoZzqaI7fP5FLGRQOT1sh3sVIzusa38nekKvEZaN7LMwuVyqYGE4n04HFYh/Z6eHmSzWQwNDZnaYbfbVZE07yU7NwlHut+yEp/PlYW8wWDQ9MxkcEIOADJax2sBRvU5TlljTXWQSZper1fNicXrNwwDbrcbc+fONU2gNxMwrcjI5XLhtNNOQ3V1tckPl/oPc4a4DHIkElGTnVF8LBQKpkUf+fIy9E53SVo/LpfLZMnwBeXLDJjnZGYone2UYiqT4XhsKS7LUhFeS7lcRnd3N/72t78pAZaQpOr3+03FuNSFWHLCqUKCwaAqMDUMQ0UcqWnQypSiPRc9IOmRZFmQSyGaIjOfh3SlKpWKyluSCw1wdk4GC5hl3dvbayIckijbCmBCMpJJkNyO10QCle6clUjkQCPTGKjxGYaBuro60/zhvOe8dkZMGQEEoAjf4/Hg4IMPxtatWzUZvR/hcDhQU1OD5uZm1ankC0Rtgv4+o07RaFRNusVQP18yYGxOG0ZBaJXIF1EK2RSb+VICMK0Uwk4oO6gs95Adhu1i1rHUh5gf5XK5MDAwgG3btqG9vV2FwaWWxf1JPiRVdnouq0xyZD4O20T9S1ob1hQBhvRl56YVJuu0pGvMe0Sy5/UzU51hdG4/f/58eL1ebN++Hbt370YikUB/f7+6t16vF3PmzDHNYSRdMWml8NrZZlpkTJbkPWQ7JbnxO2kl8vyBQEBNhMd8ML/fr2YclZO0kaCkG14sFtXqMDNNN5o2ZARAvcAcvWlWs8iURESNp1gsKh0iGAyq0guKrHQ5KEjKDG6a8pJw2GHpqslaJumKUYTmBGIkR46WdOGsCZa0HpjP4vV6MTAwgC1btuD1119XFefAmL7EVWrZdlot/OMMiOyQ0nKQsyFSJyF58Dp4LingSyGZ1ywz4WmBAua15aSrw++Za0Vt5aCDDoLX60UoFMLOnTvR29uLnp4e1TaPx4PGxkZlpcnzyPeEz5jPrVgsmiZx4wAmLWAZFaOFKs/hdrtRW1uLoaEh5PN5VFVVmRZ9kEtUAVADDZ8z3wMOUDMtojatyAgYm56CLwjzP7LZrDJ5SUYclZjbIqMt/JPuCK0ERqhCoZCpM9GNstlsqrgTGLOu2CFJMByZ5VzbPJasq5KZy7RKYrEYUqkUHn/8cbz22msqTA5AESbXGauvr1epC1yyWs7RRBLh+YExy4YdkOUZMj9HdixqaPxNRp+4Hzu6dE1pVVJnkh1Qukh0pe12OxobGxEMBhGNRk2u6Y4dO9Q6avX19aZIloywSbfO7/eblgkKhUJKmOZ9kPeFn2WuGbejNSvbKknY6uLxd0bveA+y2Sx27Ngxo1w0YJqREcsaONUD9Z9sNqsykinqAmPRG9nppdBtHZnY0ejKGYahhFWCJRAcTblGOzu3tQaJJRvW6A3dHgqbchnrUqmEeDyObdu2YcuWLSo8zLA8c5paWlqUKxCNRlW0jMeVKQx0hyR55PN5ZZ3IUDZgnmKEVgbbLa1Absc2yjQGEgJLZuh+Wqv7GW1kbhIwGnhYuHAhotEoqqqq0NHRgUKhgKGhIQwMDChNjNaeJEfpGpK8nE6nWgZdWn4cOHg9HCQo9vNeELwm673i+2OFzWYzTUdDUmRqwEzCtCEjn8+H1atXm0xnWXfGUgUZeqeVQstFJsrJAllrzhE7KqeakB2MnTcYDCrCymQy6jg2m01pCOykgHl+H2sSJI+ZzWYxODiIzs5OdHR0YM+ePahUKmoBAkbHWM4xd+5cNTkZrSG6fyQ3mQgpQ/+yA8klmgFziJtWAsVpazoEn4Us8+C5pJbDPCw5G0KhUFBWKKNM/I77zJo1C4FAAFVVVRgaGlKuEK1YXpPMBZMaEAmJOhrLNOT1yqiZjGjK+yGJQ6ZTyPeN20m9SaZ6cICy2WxYtmwZnnvuOZNLO90xLcjIbh+du6a1tVUJr5y6g1Ey2eH+f3tn9hv3VbfxZ2Yc27E9Ey/ZmpDETelCW1ALQkUCVBUqBEhc8w8AEhIX/CNcIvWCCy76L4AEVEJiSZoWkjYoadOm2RyPt/F4dm+ZmffCfM48czIpfd+3hcE+j2TZnuW3n+d8v893OT4zevg/dotYLda/z3exwqrVagiNMxsyo05MTARioZxjdHRUR44c6RNZsQCk3oPNa5Bco9HQwsKCbt26pTt37mhlZUXtdlvHjx8PBETiIi0vfAaH3Lwin32QrgAxS/1uFwNI6pExg5uB7QMYQvXIIq+xTYCwjRvnrjEpE1wDz3h2y+r48eNBr+l0On1CsVvCsajtzwEu9uHDh4N7xDF7GgKTlpcZDUrf8P05AbFdhwv6uNKPPfZYn8V9ELAvzjabzYYwvUdgPJTv4VkvJXBTnNfcUqIVq1eb44rkcrm+6At1SC4C8xokiU4h9TK73dLgfNytaLVaunPnjm7cuKE7d+6E0P2RI0d04sSJIEKTBjA1NaVCoRCKeiX1kYVbCVgtbs2Q98L30He8lxLHy3chKX/PLQquu1sTfA99xe+n53H5BMDnPOOaJEHSFHyS4VydfNw9ZX/cI8pK3I1119rdNulh18vJ6VHkwz79GPy311AeJOwLMpIUNBN3l2Lf390oLCHe8/8l9REXMz8zOGTkSX60JPEMaRdopf4wMw+ih8TdtWHwrK2t6aOPPtKNGze0sLCgVqsVWmkUCoXQ9As3g0hTPp8PuUpOpGR84/54GYLrPRyjJyrGxM1v77ONSxefiwvfWDns060tPovWQ9oDEa/YXfRr6Fap38NYoEebcpEed4nnwAMhnnMm9S9E4JOJv+fELOkhgoKs/Qd5gK4LB8U9A/uCjHio0GkYQOTNYGb7wIjNZga0pDAgec8JhaQ8yAnCYuATqnVLIRbHsVh4+KT+JmAc68bGht58801du3YtZAezwqovx40mhIvmA9nPXepljLNWVzabDUW3Tl6eIkB6A+6JXzOCBFxPLJNY1HXrS+q3BNya9ETKWFfieDkP/o8tlZjkY43LrSwPHECWgywTj4Z5fpXDr/MgIvLPQNxe68YzRYb5o/azX7EvyEhS38PDDXdykvrLEXx2k3ozGUQUr+qJK+gPf71e72uOhq4wPT0dyGhQnx4HA8OPu9PpqFQq6c0339SFCxe0vb0dQtnedZAcFhp4oVnRzIzzc4EUHYzzbjQaGhnpLWaAxYRrQ4U5g5DIWUwgZK175MnD/CQyAl7vdnsFrFwPv5dsj2PgWvl1g8hdUyLzm3vi1pRbPfH9x3Lm867f+f1zPY/P+T318+G4OWcmInLaSMvwwMn169fDSrcHBfuGjBgobnr7Qy71N5yPVwb11rIegud7bA89hUJJ+lvz0PNgjY2NhURJLybl4afdhQ9IUgFKpZLeeecdvfPOOxoZGQnrhmG5jYyMqFAohIp49CIfTGg8iMCQkydjAkL3dBHA7fRkQFxVrhnukAvKEJCXefAegn2cn+S6DMmeTgT8jq0EJ0InCq43+VtONp4I6e4pYDLwCctdTLbjbqofp1u1PtmReU5ipl8n1zX57Pr6ui5duhTu2UHBviEj4O5UHDlicDkpSD2thIfETXKPtGDpdLvdUHc0NzcX+hIxU29ubmpqakqbm5uBtCBLLCT279E/MqtXVla0urqqo0ePhmgZriE6FAW+kvrKUVwnwUJC63LLgmzjbDYbCItteCa21KvBkvotUCdvZnqIA1LMZDJBoHbR3C2VQTqQw7/jlgmf57i4r5Al+4yFdNfPYovGLS+HHyP7k9SXNc12vUZta2tLrVYrRHU5Ds7bj4/J6CAmPEr7jIx4AGgrG7fQkPrrv3jd9RF+Q0KeFMlDjstBbZib/C6WuxWFRRK7CxyXdzYcHx/X/Px8KBD1+i6pt0quDzxmekjYW876wPJZ38V5vs+5u4j7KPcEl88HuA9YdLhud6/YFh2H7cbH7tG5Qe5PnP7A+7Ho78c6KLLlBBi7anzPic/fczB50EMby3x8fDy0UyG9hP5MkLe7guyTyWNjYyM8kwcJ+4KM3KcnnZ52qIMeaqk/MuKmdTabDZYQvX18BsM1oajSF/Tz5D0Gnltn7kLi8vhDhysxNzcXomSxaBpHptgG5OL5UZL6iNQFVq5HLAy7luODHOvJxV23MD38DbBEfdCRjc4xcC1iQZtjiV2pWBj36+BulpPSoO8NIhff1yDrzH97FAxC4lxJDcDd91pFLB63TLmujUZDa2trWlpa6pMJDgr2BRkB10mazWYQW3k4/SHkYXEzH4uDui2fvbA2cGOIXnnCIA3jEX19fz5APIrjJIULls/nA7n4GmwcdxwKJjnOhVLOiVnY69DYL8cYC7Fsm89Bqlh5TmoAq8CPBevJm8ENOo9Yq3mUZQMBxi4T4Ho44Tl5D7Ko/PVHEdijvuPH4ZFRf044h1gngoA5562tLZVKJd27d0/FYvGhAMpBwL4iI49GuDvmURweLHcRsBywhuj5E5v4PETk9LCaBNoSRDYyMhKiUu6WsX9/QGNzPJ613aqJH2SWRmY//NDQjOOiY6MPdhdWfZDFbg7khlANiTEgXah2gogHeDabfYjguaaxC+yupbtVWKj+P5/BWiMNwXUZv+9OPo8KnQ/afnwPuTdYOAQBOEYCGU6ALg2QRsGzUq/XVSwWdffuXa2vrx+4sL60j8iIHA2E3kwmE9pkuKDolggJinHrjDhvJQ5j8zqFp1KP3HjPrQLANlxExxzngcWUd9LrdHrrt3kvJJ+JsT6wcnANPNrmJOKlL74unFspngTpESSPROFa8jddMt0N5Fq7W+LnzoBF55LUV3bhFpXnCvFdt1IG5RzFpOTaEOfm5/hxYf/YXcPqpL83FiQV+LEFibW0s7OjSqWiQ4cOhZ7ly8vLWltbO5B6kbRPyOjBg71+0awIglbkPZ1xU3jwcas83Ouh3NjNymR6LTDYpz+guBC4hv6g+4PtFkA8Q/P9eJVaX84GSwjRmWRF4AOSFACqwWu1Wihvwc2kjovXGUyS+lIcPLHRrTVmd6wxX2fOiQvraZBVB7G6OwUZUQFPoMAtDeCuML2ZuJ5ulcQun1tv/O8Z2SAmIHfNJIUOk7u7u6ELAxazu5+xBkYvb1yztbU1VSqVA2kVSfuEjCT1WQoMXH+wva81g8Rn5DhT2VdXlfTQAxo/3C5o+j74nA9EXLo4c9mFbkhoa2srzLIeGuchz2azIWqHVQXJ4pp1OnvLN42Pj6tQKIRoI8dGGw1cS344TqlH+FiKPpDb7XZf94JHJZbiQnNuvpCBZ0x3Op2+ZnZ07mQCgcwhRZ8UPk68jnUjJg13S3FHeZawuF3j4ZjYVy6XC8s6tdvtvoVB2SZuNr/b7bbq9XrYz9bWlhqNxoElImkfkVG1WtWvfvUr/fjHP+5LMotD2zzE/hmsEUoZstlsaOofh5khjjgHh4fca9IgOuAuFKIwyY9sS+ot+ezH5REnSYFkyHeClLyPTi6X09bWVrBa8vm8Pv/5z6vb7eq9995TpVJRt9sNFojUm72JyuFuUlozqMUGjfN9nTcIHi2Oa8H58+OWg5evxOSeyWT6+kKBQe7ToEgZ98fvW+zWeY4RhNhqtUKuFhbe+Ph4aNXrE9vExESYPLjmaEOedkExLnVo3iblIGPfkFG73dbKykoY/LG46VaKtxahPw4PG67Y7u6u5ubmgnvn2/IZdZAmgbXgDxduCg8r7WYZ+J4b5L99+04ArqUgurtuBRlgNR2ZD21qAAAfVElEQVQ6dEjlcln37t3rG/SSQgO4OHLINWKbdCHgWkGiEAZEzDX1Ae+uWEyunpbh2fAePUMTi++tX/P4tUHBg9g98+8x8XiyZrPZDKUl/qwB1yRxJ7kWvuqJT1o+edXrdTUajQPVt+hR2Ddk1OnsZa/iMiCaIupCBugvzWYzzHg8+O4mONm4lsTnBjUT4zuuk7jL0mw2VSqVgjUCYWFteBKdh7zj6JCLplKPBLA2IEzC+pDs5uamisWiJPUNeLcqXByHcJjJ2RfXiPPzlrRe3gC8MFhSH1G7mOw1eh7tdMRENOg5YB9S/1JTTEh83we/u3Ae3ePHXXYmFVxdrjMuHEEB9unPRTabDZMEGhPLkCcy2kfY3t7WhQsX9MILLwSdwftMkwXLjEdXwVyu137WXZ64+lz6+GiO1BtInU4vyzjWmjgmiBBNCCsprgFzXcTLU9xtlBRcNA/34zqyX9xS10T4HC6hi9ROPpyjN/3yqFw8mBmErnfFZML5YQWS3e4N7/kc19evuV979uHpAW5R+v2ILSS/v1gvvnKHpD7rBRfLxXqem7GxsRBUcGuW6yntJT02Gg01Gg1Vq9UwAR1k7CsyevDggS5evKhnnnkmFJaihWxtbaler4c6IVwhHhAP89MXyJMlgc9yg8z8OKTtD/qhQ4d05MiR0LYUEgIurEp6iAxiIZ4BTK4LzcUYNFh43vrD0wsymUxfF0sGH24rpOWdDWOdx891kBvrqRBO4n7NPHLoAn8cPYuTVAd91606t+DYH991LSo+HqxLghj+OYge8m42m8F65D5MTU2FVsM8M07wpJ+sr6+rUqmE1XeTZbTPsLq6qnK5HDogIhTTsGpjY0Pb29sh5A/5+ODCBYrJxt0Zd+cA75Mj5N9BgMUqymQy4WFngAMfYBAawunhw4cfyo+hzWwmk+mLyCCOY224/uLibafTUb1e17lz55TL5bSwsKClpaWgJR07dkzj4+N92d1OnO5qxYL/oJwZJwUIke/zfhyV5G8nIL9mscvlf8eDfND33IIBaGQeuWQCIThCAMG7BRQKhXAfmDCY1DgHatB8eamDjn1HRp1OR2+88YbOnTsXZiCyYXd3d7WxsRFas7oW48Kz1PP1QewWDBJNiZiwL0jOIziEtcmjGTTAfX+8T49tjnF6elrT09OhOX0ul1Oj0QhWn6TQaM2jWrhx6BzS3qCrVquhOdv9+/e1uLiolZUVnTx5UkePHg1ROawemt17RwIiSJ4q4eflOpi7dl6h7haYW1NYo5C8EwqfxR0fJGz75OFWrbtxTpI8ByMjI5qcnAz3i2vsx7a9va1WqxWsUwqcu92uNjc3H3qW/DwTeth3ZCT1kslwQZrNplqtlmq1mkZHR0OULM4DknoZ0DRnH+SG8TsOD5NLVK/X1el0Qo2bu1ZSj+hIkIRkcJ/QDwjxk8eSy+WCAJ/L5VSv1wPJVKvV0GVgamoqJDhOTk4G14WZG7KU9gbe1NSUZmZmdOPGjbBCbbfbDblAp0+fDiuhHD58WM1mM0TUvAjUBWiuGfsjbSKOcqJluVjvmddEpzqdzkP3LN4XIjlk43lZnCufjbUrbwHiSauQNq7jyMiIKpVKIHQ0sWazGT47Ojqq6elpZTIZNZtNbW1thUkFQo6jrQn7mIx+/etf6/vf/77m5+fVbrdVqVS0tbWl48ePhyZivlS1h5s938RdLXfLPOGN6ApWCZbB9vZ2MPNJEWA2dT2BQYcbxSKAkFU8iKU9d7RUKun5559XuVwOCxieOnVKx44d0+TkZCgzmJmZ6RuoRN8gpGq1qomJiUCEo6OjfctEz8/PS5Ju3LiharUaQt3eDsSTOjkvqbfKCC6jR/7Ir8GCQ59yl8cTO0ksjC1TrikE7uTONeM4uaceIfM0hmw2G3qpQ8hsFz0Ii4f7jp7HxMJKsjMzM6HJHukOBAgWFxdTBC3CviSjdrutUqmk9fX1QD5uanc6nZDCjzYEgUi9ZmVSf5sKt448W5mHmSQ5d4vizG5PCaBIku1jsTCQXEuKw83dblfz8/N6+umndfHixaCHIdI/+eSTOnv2rIrFYmiNi5uGEI5ITWcAT28gTL29va179+5pbm5O7XY7DEL0EiwBwvccJ0TgbW45R87XC3UnJyeDrubRNI6F6GhcSMu24mCD3y+/l9xPjyY2m81g7UGG9KuiFQ1kNDMzo3w+HyJgkCpEiiTAPslBiq25UqkU7nXCHvYlGUl7/akvXbqkTCajZ599tm85Z09QQ4NgNvVQuFtFaA7MoAwqL2kgCkVnw+npaUk9i8p1Ca9WZ4Cxf1wGBh8kwbYYdIVCQZlMJrhonMvq6qq63a7OnTunU6dOaWNjI1hjOzs7ISTNOedyubBKLtbQgwcPgu5x+/ZtFYtFTU1N6ejRo+G4aNOCZQfhYyWh12FFxS4agj7XmegnxOlitecpOam4pcp7sZ7nk0g8+LFg6UckKViH/jridTab1fHjx4P7Ozo6GiYgRH4ysL3Rvkf7lpeXVSqVDmTPoo/DviWj3d1d3b9/X5cvX1Ymk9EXv/jFsN48uSA+k/tMG/8v7ZEAulOcLUvWcLfbVT6fl6Sgqbgl5O6Bz/D+Pw8sn4csOBYXvJeWlsK68wwgkhArlYp2d3c1Pz8fVq+lPS7WgA/c0dHRQG6NRiO04iDMTdSIiB7Wils6LIC4sbEROjsiOvv5gzgH5/Dhw4Gg4vsSRy0H5QjFrqwTUTbb38ObycXJAmuNHLA4/M8zAPFQP4fWh27mExSWJ5PKzs6Orl69qlu3bgWrOGEP+5aMpL0Z7u7du5qbm9Pzzz/fN4g8xC493H9H6ici8pTICXGywiKiZQkPJub6IMEUERsR2PftkT3XQFz8lKRisahz585pfn6+r7Mj7lStVtOtW7d04sSJ0Ed7cnJS0p6u1mw2g4XI8ke4eX5t8vl8GLSe5e7n0+ns1XKtrq5qeXk5dFAoFAp9vZSkh9uRMCkQzYuzrjlnz2b2nzgkzz7iaBnA6oxdY/bjriXH6hYtAQ4sQm/mFpOmRxa3t7dVLBb1j3/840C3CnkU9jUZdbtdNRoNLS8va3l5WSdPnlShUAhRkZh4fJZyzYHBDRExMDKZTOh/jHWB1cRgiDOJAa4Xs+OgGRJhFMsC0mKQYP299NJLqtfrKpfL6na7IYcql8upUqmoUqnoc5/7nM6ePduXE0NdFYSBOO0uImTBOvTU1gHe5xosLi5qaWlJuVxOJ06cCJ/jenPssThNpA5dy9Md3LIcRNrSwyu0+vWOdTfurSdI+v4gHD8O317cP8rdf47Js8/5vbq6qitXrujOnTsHspPjv8K+JiNJQfP4zW9+o9nZWT3//PNhxoq1BRc7/eFnBuVz7XY75Ndg1jP4a7VaeICJvnhVvutQnrXsMzCzePw+nyFcPjs7q1u3bml+fl4nT55Uu90OSXSuv7z33nuBdNbX19XtdjU3NxeKY7PZrNbX17WyshL6Grl1wvnglnkhLyF7QtsQ4djYmObm5nTy5Ek1Go2+8yBM7r2PPMubHxf/XdAflEfkpBFH2dwqioVkXCt/DoiSYZHyWd7HMua4PUGW7/MDKVUqFV27dk1//etfVavVPo1He99h35ORtKff3Lx5U6+99pp++tOfan5+vs+El3qlF9R9OSlJ6ovEQVo7OzvB5WNgO6nRU8hruZglmaFd7HW9KtZYsCw8UfHo0aOqVCq6cOGCXn75ZZ04cULdblfVajXM6kePHtWZM2c0OTmpjY0NFYtFNZtNzc7OBlfFI0WQglsKTkwQCEW6nvwoSVNTU6EcYmJiQsePH9fo6KhKpVKwfLiWbMuvDdeH/BxEYsRxT1iMrSeul2tDPhFgAblL5blFg1xhv2c8B+Rfce08EMFvX5qo2+1qYWFBV65cSUT0MTgQZCTt+fr379/XL37xC/3sZz/T6dOnJfUnwjEoadXqmgazdqfTCYIwg5AEyampqbBEjROKuxc87LhZWF2EhJm5GTS+bwYMYmy73dYTTzyh69ev69q1a3ruuec0OzsbijSz2axarZamp6dDNOr48eMhFF4qlVQsFjX/z2WROO6Pg1f7e1gfrWxnZ0czMzPKZDIql8taWFgIaQG+PluclyT1+hlVq1XV6/VARtnsXn+pubm54PJyDjG5AO6rvxYXykr9LV88wOAWFlFIUg82Nzf73ERvF0JeFVG4TqejcrmsO3fuaHFx8aEFFhJ6ODBkJO09eOvr6/rlL3+pH/3oRzp9+nRfCBkLhegKgrRHdaSeKQ85uCtAoqK7XD6D82DjBnhZhg9O0g3QUNCWvExC2hvAjz/+uJaXlzU9Pa3Z2dkgRCNWd7t7RZ3j4+OhzeyhQ4c0MzOjQqGgr371q1pdXdXt27eDiEx0i+8D79mDZYc7QiSPvK6trS2trKxocnIyWBe4mHExMIJ4q9UKPYS4bp3OXvsV18L4LqThzc/Qc7B8PPzPPXGLGHEZLcgb1LF/n0yYDLh37t5T4oMIvrq6qrfeekuXL19OVtG/wIEiI1Aul/X666/rBz/4gZ544glNTEz0uU38QAixbkMrElwxyjTQEhj0EB3barf3Wo1Wq1Xt7u5qdnY25KYwK/u+JYXESV8Ljf0imOfzedVqNa2trUnq1aTFGckMWifMubm5UD1O6Bl3o9vt9uUC+awOQbGduC0uZIa2hijOd+NoGOkDvqqG62hE68iAdosTy5Jr7y6cIxa9pZ6rxndarVZoSOepF57YOjY2punp6T7ry5v6dbtd3b9/X61WS5cvX9bVq1e1tLSUrKJ/gQNJRiSe/eEPf9D777+vp556SufPn9fExISk3oKErVZLuVwuhJsZ/HE2MYPca6kQcf2BZg17Bhy1ZbGQzgBzKwCxOBZz+W6hUAgJfNTDuajrVpznNmWzWZXLZWUyGc3MzPRZhmQlUxPm58t2IQyyj1utVtgvWe5eGsL5QrqcC6/h2njZiOs4Lk5znSi34NrHkUkvSmVSiHPJ/BrxmltBrVYr3C/uPcEJrhWEvr29rb///e+q1Wph6SFfNCFhMA4kGUl7hHP37l2Vy2XV63Xt7OzomWeeCS06qP5m1ib0jGYyPj4erCFEXh/829vbgcSy2WxwzXAFcGk8TcBdHreWvJc3s7EPKI6HCCH7iHWrQdEoSUG0ZgBCCt4nHNcHK8m/z3FxfThWBjcZ6W7pxNaL51zxXV7nXAfl/GCtSOpzj6WH9cA44hZbvLzHtaIMxHtEea+mVqsVMrOXl5f10UcfqV6vq1Kp6N69e6GaP/Uq+mQ4sGQkKbQUuXnzpqS9Pkbnz58PYiSipbcUpVgT8JDGszZuFZaNJ9c5QbXb7WAxeAKkR9LiXBcIy0spcMcymUzffn0g+oBzPYZiXgR0zhci5Dh9SWZ3Tfh/dHRUs7OzgdwhRq6jE6Nrak5OnIuXf7APz5jHbWu1WiG9IiZH/h5EwLznnQyknri+s7Ojer0ermMulwt6HOH8paUltVotra2t6c6dO7p9+7ZKpVKo6k/43+FAk5GkEAr/8MMPJe0R0tmzZ8Mg2d3dVbPZVDabVT6fDw3pGQC4Gd5wC73GhWtPyONzvBcfj9TrCuBhai9bkNQ3AD1SxM+gzOQ4fA1huBsDIRHCx8XwSBbJnnyG7WKhQUIuVHvaQ9yNACLms+4O+uf9vqAxefTLiQf4/3F9G+4319YJn5KZiYmJkDNFKciDBw+0uLio+/fv6+7du1peXg4Ft4mI/m848GQk7Q3QWq2m69evS5K+973vaW5uLgwGQrm5XE75fF6Tk5OhcT7RE0x5rCpmeKJMLp76elpEZZysnLTQorxinUEHAbq14BGeOJLn33WigozQXKSetYN7xmAlA7ter6vZbIZOkNPT02E9tliTITrnqRKewsDgdavQs6OdNKQ94qIEx8V2377U04fcwopr41iS3AMXdDSgZfHU1JSOHTumEydO6ObNm7p165ZKpZL++Mc/6vbt22E9uYT/HxIZ/RNoAFevXlUul9N3v/tdzc7OhgHFQOPhJXqEa3P48OGgJ/A61onP1q5/xDqGuysMpM3NzVBu4AIw+3ciccuDfQGPSkk9S4rveGic77EfLCVex7XjeChwxYpEfJ+ampKkoLe51QYBYTk5GbgQ7W4tr1N86ln07tpCtIjbTCaePwbxQThoW+hEnU5HhUJB+Xxeo6OjqlQqunPnji5duqTr169rfX1dtVottQH5FJHIKMLOzo4uX76sXC6nV199VceOHevTbiAT9BOsDXQEIloMuDhHCTIBLrb6gPewMZEiPuOuGhnBWGletAlhkTvDsbg2wz48qROLxD/PdjmGuKC1WCyq1Wr1aUGeze3k69nmLsj7eTk8lQEXzZf7hoDcItrd3VvOm+ilpxbQO0nqd4tdJyNAUavVtLy8rPfff183btxQsVhMkbHPCImMBmB3d1dXrlxRNpvVN77xDZ0+fVoTExOh7QizNYOAanaiTuSp+I9bJE4SwGd0QGTJXbBYjHVXBItEUhj07AtCYR9xro1bIE5YWGnefI79x9XuWGi4iW5lSP3RLnenOFdPV+BYPZ+Jz9NPyl1QCIv9tVotNRoN1ev1ULJy+PBhtVqtkIfluUO4fA8ePNDc3Jw6nY4uXLigd999NwjTFEonfDZIZPQIbG1t6erVq8pms3rppZf01FNPhYHu1exSr1VErVbTyMiI5ubm+gZ9LGC7NuGWENvkc3FCHrO7u3QQQCxYu6siPbyyrgvG7M8XCiCRk31QZ+UiOeeGpURuE99h/5CMk1LsvnpagSd9Ahf0vSQFS80tP/qEo+ttbm6GVsOQGHocFpaXfEjStWvX9Je//EUffviharVaIPSEzw6JjB6Bbndv6eHr16+rXC6rWCzq61//uk6cOBFIwbUfX+2DMLjUC6P74JV6pR+unwzSkmLLA6uCQUOlvJOLpL5oFa6jpL6mcn4MtDPBgsJy4DggN44tJkQnW4jR0wBcs4p/OBa+66uxQna4aEQyXZODZDke3ue8yfnierJ93w76W6VS0QcffKA///nP+uCDD9JSQv9GJDL6GHS7XZXLZVWr1eCGPffcczp//nwQZ50gxsbG+pIVXZNxQmL2JhIW94/2aNygHKa4zUmcXc1+cG2wJjheXCD0HAjHEy45brfc2Jc3l3OSdeuM/0nwjEnZExzdHeQ4aN3qOU+S+rQi1518H05GcTcEqRcdZeLY3NxUtVpVpVIJbtmtW7f61qBL+OyRyOhfgAG0sLCgWq2mYrGor3zlK3rhhRfCUkZxsh5WkxfAOqFIvUpwclz8e1KPaPispIeIynODpJ4lgbWFCxeTEYTkA5j3/Lh8O+g4uEPeehc9y48JPYaiWG/RwX48kkaEy4V/JxssPK6ln7drULhf7tJ5ygQ5ULSCbbf3Fm+4efOmVlZW9Le//U3r6+uf+nOU8K+RyOgTot1ua2NjQ5cuXdKVK1f0k5/8RGfPng3WEGTDYEVQZVDESXXZbDa4D7HLFXeLdIsq/nEihDTYJ+4NLgiDUepZSE4IEJcvPIgoTu8m2nxAWmwLMsDaoZ4LoqWvk3+WY3aLrNlsqlqtKp/PP9TO1UP46Heug5HDhctHThSWqFtmi4uLqtfr2t3d1cLCgi5fvqxSqfTve6ASHkIio/8FfGZ97bXXlMvl9MMf/lBPPfVU3xI7DBYGt68m4q6VV+I/ePAgtPZghY04Twlry5MoeT12j/jxsDgD1XN9WKTA69vIaqbpPI3nyUh29xF9jPNATIfEsIggR9e7IAauES5lqVRSLpfTkSNH+qw93y/HQfSSFAcWAtjc3NTKyopKpVIgU+oQM5mMLl68qGKx2LeabcJ/FomM/o+gOPP1119XLpfTiy++qG9/+9s6ffp0SPJD+3AS8OxnykxmZ2f78l3GxsaCdeSk4poSsz9Cubt1rgfhZrHihSdMMhDz+XzQZCYnJ0M/IYi1VCppamoqdB2YmpoKrUUgUXJvPB/JLSBcNlwwF+Td2jl58qQqlYra7b1uiXQ+qFarkhQifOwfcuOYWRrpxo0bev/991WpVALBX7lyJbRZSRg+JDL6f4Io1VtvvaV33nlH+Xxer7zyil599dVAJF6NH4vLHmmS9ogEV83DzW5NsM14LTXp4V7enm8k9S93lM1mg6UwMTHRl5HM4J6dne2zgDz6hkVEqgORKrKWM5mM6vV6X38lb4niOUyZTEa1Wk2FQkGnT5/W/fv3VSqVQtY0riiFqmyD6++W2u7urt5++229++67oQUv1yJheJHI6FMCEZ6trS399re/1Z/+9Cd95zvf0Ze//OXQXdG1I1rVSg8PEsjENSh3xTxaF0fqeF/quZUu1nr0DL0GC8RF7QcPemurHT16NORQ0d8JN5NtY4FlMnvrs42Pj2tsbEzVajUsMum6V+xm0iuKTo8bGxuBfNzV3NraUrVa7buG4+PjIey/uLioSqWijY2NYAmmco3/DiQy+hTB7Fyr1VSv1/W73/1Ob7/9tl544QV94Qtf0NzcXF/WtVe0e5TMeyrHkTKvbfMcJEjOCQkrwfUqJzW2K/UiduwT/QZrBcvGF4qEiCBGrCq6IdKBcnV1Ve12W5VKRSMjI5qYmAgtZD3DfHd3V0tLS7p165ZWV1eD4A0JYi1KCsI/69nV63Wtr6/r4sWLWl1dTQ3N/guRyOgzAAN/aWlJKysrajQaunnzpo4cOaJ8Pq8vfelLYVFFato8X4kIGBYKkTqvYnfXw6v5HbznBOWZzR7y9vIKqVee0mg0gqaEO+W6k9SLDJIoiSa0u7sb1qT3NdHiDGqItVwua3l5WeVyWe12O0T7jhw5ok6n13aWkP36+rrK5bLW19dVrVZVq9VCxnSyhv77kMjoMwQEcvfuXS0sLEiSCoWCGo2Gjh07pscee0zHjx8PtVVEzgiFYw14q1vP7fGaNKm/b09cPAo8yZD/4xwhXjt06FBoPetivFtjWDX1el2bm5vqdDphQchWq6WPPvpIhw8f1qlTp3T06FGNjIyoUqmoXC6Hwlq0p2azqW63q5mZGY2MjGhyclInTpzQzMxMEKcLhYKuX7+u+/fvh2hZpVIJAjnbSPjvQyKjfwMYvJK0sbGh3//+98pms/rmN7+p8+fPa2ZmRidPntTs7Gywisg5YsFDJx1EaQjCtRhJYYCT/exakxMJr3nFOsfriYZkLJM7RBW8Z27XarWwpHW73Va5XNbi4qLu3bunM2fOKJfL6fz58xofH9ft27dVqVTCgpGe/5TP5zU7O9u3vtrq6qo2NzdVLpe1tramN954Qx988EGIaCbsD2S6n3Aa8Vk34dOBE8jLL7+sr33tazp16lTIz6HhuwvSXk4hqU8P4jWsGl/plve8Dstru6iwB7u7uyEv58yZMyFXBz2MKJZvF5F7ZGREW1tb2tjY0Obmpo4cOaInnnhCjz/+uDKZjNbW1rS0tBTcqWx2b8UV78/E31TVb25u6saNGyHEn/DfhU9CM4mMhghOOocOHdLPf/5zPfvss8F6cH3FdRfC6GRkk0xJQuAgsA135ShshZw2NjZ06NAhPfnkk8rlcqGIlIhV3PYV8sCyo/cSmdgsSuBFwFhpCO3VajVYewn7B4mM9gG47mNjY3rllVf0rW99S2fOnFG32w3RIteFGOwsX725uRkywdle3JqWsgmKTFlyiP49o6OjajabWllZUbFY1Pr6uhqNRliCmhB63KHRdSWvu/PyGQ+94xamfKD9h0RG+wzeuMxx8uRJ5fN5vfjii3r66ad1/vx5PfPMM6pWq1pdXQ3Jja1WK2gzUq+v0Orqqu7evRsaiJHr44sqkkdENM/LOrCI6FTJ570FidTTrBIOHhIZHRCQhzM7O6u5uTmdOXNGzz77rLa2tlSr1UI5RaPR6IvM4dqxZBNFpQCXz1t98LdnkDcajfBdTxdIxJMAEhkdMCBcT0xMqFAohKib5yhJ/flFEAgC8qBcJH9E4rITtKfkWiV8HBIZJQSg28R1cHEGd0LCZ4FPQjMpz+iAgDyhODGS15NLlfCfRrKMEhISPnN8Epp5eP3jhISEhP8AEhklJCQMBRIZJSQkDAUSGSUkJAwFEhklJCQMBRIZJSQkDAUSGSUkJAwFEhklJCQMBRIZJSQkDAUSGSUkJAwFEhklJCQMBRIZJSQkDAUSGSUkJAwFEhklJCQMBRIZJSQkDAUSGSUkJAwFEhklJCQMBRIZJSQkDAUSGSUkJAwFEhklJCQMBRIZJSQkDAUSGSUkJAwFEhklJCQMBRIZJSQkDAUSGSUkJAwFEhklJCQMBRIZJSQkDAUSGSUkJAwFEhklJCQMBRIZJSQkDAUSGSUkJAwFEhklJCQMBRIZJSQkDAUSGSUkJAwFEhklJCQMBRIZJSQkDAUSGSUkJAwFEhklJCQMBRIZJSQkDAUSGSUkJAwFEhklJCQMBRIZJSQkDAUSGSUkJAwFEhklJCQMBRIZJSQkDAUSGSUkJAwFEhklJCQMBRIZJSQkDAUSGSUkJAwFEhklJCQMBRIZJSQkDAUSGSUkJAwFEhklJCQMBRIZJSQkDAUSGSUkJAwFEhklJCQMBRIZJSQkDAUSGSUkJAwFEhklJCQMBRIZJSQkDAUSGSUkJAwFRj7pB7vd7md5HAkJCQccyTJKSEgYCiQySkhIGAokMkpISBgKJDJKSEgYCiQySkhIGAokMkpISBgK/A/Ov/DWtbU70gAAAABJRU5ErkJggg==\n",
        "metadata": {
         "tags": []
        },
        "output_type": "display_data",
        "text/plain": "<Figure size 720x360 with 1 Axes>"
       },
       {
        "metadata": {
         "tags": []
        },
        "output_type": "display_data",
        "text/plain": "94"
       }
      ]
     }
    },
    "1199706d67394db6bf66881da3e044a3": {
     "model_module": "@jupyter-widgets/controls",
     "model_name": "VBoxModel",
     "state": {
      "_dom_classes": [
       "widget-interact"
      ],
      "_model_module": "@jupyter-widgets/controls",
      "_model_module_version": "1.5.0",
      "_model_name": "VBoxModel",
      "_view_count": null,
      "_view_module": "@jupyter-widgets/controls",
      "_view_module_version": "1.5.0",
      "_view_name": "VBoxView",
      "box_style": "",
      "children": [
       "IPY_MODEL_5ddd4e8fc176440cad40e054c988754a",
       "IPY_MODEL_066434341d3b45fc861b801d63c0376d"
      ],
      "layout": "IPY_MODEL_92d06167fb184f1aab9eba94afd047e0"
     }
    },
    "1ecc01cf5093420ca824ab0caaa50ef5": {
     "model_module": "@jupyter-widgets/base",
     "model_name": "LayoutModel",
     "state": {
      "_model_module": "@jupyter-widgets/base",
      "_model_module_version": "1.2.0",
      "_model_name": "LayoutModel",
      "_view_count": null,
      "_view_module": "@jupyter-widgets/base",
      "_view_module_version": "1.2.0",
      "_view_name": "LayoutView",
      "align_content": null,
      "align_items": null,
      "align_self": null,
      "border": null,
      "bottom": null,
      "display": null,
      "flex": null,
      "flex_flow": null,
      "grid_area": null,
      "grid_auto_columns": null,
      "grid_auto_flow": null,
      "grid_auto_rows": null,
      "grid_column": null,
      "grid_gap": null,
      "grid_row": null,
      "grid_template_areas": null,
      "grid_template_columns": null,
      "grid_template_rows": null,
      "height": null,
      "justify_content": null,
      "justify_items": null,
      "left": null,
      "margin": null,
      "max_height": null,
      "max_width": null,
      "min_height": null,
      "min_width": null,
      "object_fit": null,
      "object_position": null,
      "order": null,
      "overflow": null,
      "overflow_x": null,
      "overflow_y": null,
      "padding": null,
      "right": null,
      "top": null,
      "visibility": null,
      "width": null
     }
    },
    "336eb3e70f474a1eb89a0ac93a2546ff": {
     "model_module": "@jupyter-widgets/controls",
     "model_name": "ToggleButtonsModel",
     "state": {
      "_dom_classes": [],
      "_model_module": "@jupyter-widgets/controls",
      "_model_module_version": "1.5.0",
      "_model_name": "ToggleButtonsModel",
      "_options_labels": [
       "Normal",
       "Edema",
       "Non-enhancing tumor",
       "Enhancing tumor"
      ],
      "_view_count": null,
      "_view_module": "@jupyter-widgets/controls",
      "_view_module_version": "1.5.0",
      "_view_name": "ToggleButtonsView",
      "button_style": "info",
      "description": "Select Class:",
      "description_tooltip": null,
      "disabled": false,
      "icons": [],
      "index": 3,
      "layout": "IPY_MODEL_4f5c48866587484baa931b9160e52917",
      "style": "IPY_MODEL_6f009a3491a44104a5f621b53e0b0197",
      "tooltips": []
     }
    },
    "4edeaeb718704d8682f0bcfccb0127e5": {
     "model_module": "@jupyter-widgets/base",
     "model_name": "LayoutModel",
     "state": {
      "_model_module": "@jupyter-widgets/base",
      "_model_module_version": "1.2.0",
      "_model_name": "LayoutModel",
      "_view_count": null,
      "_view_module": "@jupyter-widgets/base",
      "_view_module_version": "1.2.0",
      "_view_name": "LayoutView",
      "align_content": null,
      "align_items": null,
      "align_self": null,
      "border": null,
      "bottom": null,
      "display": null,
      "flex": null,
      "flex_flow": null,
      "grid_area": null,
      "grid_auto_columns": null,
      "grid_auto_flow": null,
      "grid_auto_rows": null,
      "grid_column": null,
      "grid_gap": null,
      "grid_row": null,
      "grid_template_areas": null,
      "grid_template_columns": null,
      "grid_template_rows": null,
      "height": null,
      "justify_content": null,
      "justify_items": null,
      "left": null,
      "margin": null,
      "max_height": null,
      "max_width": null,
      "min_height": null,
      "min_width": null,
      "object_fit": null,
      "object_position": null,
      "order": null,
      "overflow": null,
      "overflow_x": null,
      "overflow_y": null,
      "padding": null,
      "right": null,
      "top": null,
      "visibility": null,
      "width": null
     }
    },
    "4f5c48866587484baa931b9160e52917": {
     "model_module": "@jupyter-widgets/base",
     "model_name": "LayoutModel",
     "state": {
      "_model_module": "@jupyter-widgets/base",
      "_model_module_version": "1.2.0",
      "_model_name": "LayoutModel",
      "_view_count": null,
      "_view_module": "@jupyter-widgets/base",
      "_view_module_version": "1.2.0",
      "_view_name": "LayoutView",
      "align_content": null,
      "align_items": null,
      "align_self": null,
      "border": null,
      "bottom": null,
      "display": null,
      "flex": null,
      "flex_flow": null,
      "grid_area": null,
      "grid_auto_columns": null,
      "grid_auto_flow": null,
      "grid_auto_rows": null,
      "grid_column": null,
      "grid_gap": null,
      "grid_row": null,
      "grid_template_areas": null,
      "grid_template_columns": null,
      "grid_template_rows": null,
      "height": null,
      "justify_content": null,
      "justify_items": null,
      "left": null,
      "margin": null,
      "max_height": null,
      "max_width": null,
      "min_height": null,
      "min_width": null,
      "object_fit": null,
      "object_position": null,
      "order": null,
      "overflow": null,
      "overflow_x": null,
      "overflow_y": null,
      "padding": null,
      "right": null,
      "top": null,
      "visibility": null,
      "width": null
     }
    },
    "5725650489134d3ca04671f6daa4df27": {
     "model_module": "@jupyter-widgets/controls",
     "model_name": "VBoxModel",
     "state": {
      "_dom_classes": [
       "widget-interact"
      ],
      "_model_module": "@jupyter-widgets/controls",
      "_model_module_version": "1.5.0",
      "_model_name": "VBoxModel",
      "_view_count": null,
      "_view_module": "@jupyter-widgets/controls",
      "_view_module_version": "1.5.0",
      "_view_name": "VBoxView",
      "box_style": "",
      "children": [
       "IPY_MODEL_336eb3e70f474a1eb89a0ac93a2546ff",
       "IPY_MODEL_c8254b020026413ca58e8a2096ca9cc9",
       "IPY_MODEL_925baec3c59842c782369bd18a9f8b19"
      ],
      "layout": "IPY_MODEL_5e8037e679d5484a87a08873f8e0efc5"
     }
    },
    "5ddd4e8fc176440cad40e054c988754a": {
     "model_module": "@jupyter-widgets/controls",
     "model_name": "IntSliderModel",
     "state": {
      "_dom_classes": [],
      "_model_module": "@jupyter-widgets/controls",
      "_model_module_version": "1.5.0",
      "_model_name": "IntSliderModel",
      "_view_count": null,
      "_view_module": "@jupyter-widgets/controls",
      "_view_module_version": "1.5.0",
      "_view_name": "IntSliderView",
      "continuous_update": true,
      "description": "layer",
      "description_tooltip": null,
      "disabled": false,
      "layout": "IPY_MODEL_4edeaeb718704d8682f0bcfccb0127e5",
      "max": 154,
      "min": 0,
      "orientation": "horizontal",
      "readout": true,
      "readout_format": "d",
      "step": 1,
      "style": "IPY_MODEL_cc97bf9363814658b9c38b5a9fdb1ab8",
      "value": 94
     }
    },
    "5e8037e679d5484a87a08873f8e0efc5": {
     "model_module": "@jupyter-widgets/base",
     "model_name": "LayoutModel",
     "state": {
      "_model_module": "@jupyter-widgets/base",
      "_model_module_version": "1.2.0",
      "_model_name": "LayoutModel",
      "_view_count": null,
      "_view_module": "@jupyter-widgets/base",
      "_view_module_version": "1.2.0",
      "_view_name": "LayoutView",
      "align_content": null,
      "align_items": null,
      "align_self": null,
      "border": null,
      "bottom": null,
      "display": null,
      "flex": null,
      "flex_flow": null,
      "grid_area": null,
      "grid_auto_columns": null,
      "grid_auto_flow": null,
      "grid_auto_rows": null,
      "grid_column": null,
      "grid_gap": null,
      "grid_row": null,
      "grid_template_areas": null,
      "grid_template_columns": null,
      "grid_template_rows": null,
      "height": null,
      "justify_content": null,
      "justify_items": null,
      "left": null,
      "margin": null,
      "max_height": null,
      "max_width": null,
      "min_height": null,
      "min_width": null,
      "object_fit": null,
      "object_position": null,
      "order": null,
      "overflow": null,
      "overflow_x": null,
      "overflow_y": null,
      "padding": null,
      "right": null,
      "top": null,
      "visibility": null,
      "width": null
     }
    },
    "6f009a3491a44104a5f621b53e0b0197": {
     "model_module": "@jupyter-widgets/controls",
     "model_name": "ToggleButtonsStyleModel",
     "state": {
      "_model_module": "@jupyter-widgets/controls",
      "_model_module_version": "1.5.0",
      "_model_name": "ToggleButtonsStyleModel",
      "_view_count": null,
      "_view_module": "@jupyter-widgets/base",
      "_view_module_version": "1.2.0",
      "_view_name": "StyleView",
      "button_width": "",
      "description_width": "",
      "font_weight": ""
     }
    },
    "925baec3c59842c782369bd18a9f8b19": {
     "model_module": "@jupyter-widgets/output",
     "model_name": "OutputModel",
     "state": {
      "_dom_classes": [],
      "_model_module": "@jupyter-widgets/output",
      "_model_module_version": "1.0.0",
      "_model_name": "OutputModel",
      "_view_count": null,
      "_view_module": "@jupyter-widgets/output",
      "_view_module_version": "1.0.0",
      "_view_name": "OutputView",
      "layout": "IPY_MODEL_b3408792ca0a4ebcb1c69967ed4c37ff",
      "msg_id": "",
      "outputs": [
       {
        "metadata": {
         "tags": []
        },
        "output_type": "stream",
        "stream": "stdout",
        "text": "Plotting 45 Layer Label: Enhancing tumor\n"
       },
       {
        "image/png": "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\n",
        "metadata": {
         "tags": []
        },
        "output_type": "display_data",
        "text/plain": "<Figure size 720x360 with 1 Axes>"
       }
      ]
     }
    },
    "92d06167fb184f1aab9eba94afd047e0": {
     "model_module": "@jupyter-widgets/base",
     "model_name": "LayoutModel",
     "state": {
      "_model_module": "@jupyter-widgets/base",
      "_model_module_version": "1.2.0",
      "_model_name": "LayoutModel",
      "_view_count": null,
      "_view_module": "@jupyter-widgets/base",
      "_view_module_version": "1.2.0",
      "_view_name": "LayoutView",
      "align_content": null,
      "align_items": null,
      "align_self": null,
      "border": null,
      "bottom": null,
      "display": null,
      "flex": null,
      "flex_flow": null,
      "grid_area": null,
      "grid_auto_columns": null,
      "grid_auto_flow": null,
      "grid_auto_rows": null,
      "grid_column": null,
      "grid_gap": null,
      "grid_row": null,
      "grid_template_areas": null,
      "grid_template_columns": null,
      "grid_template_rows": null,
      "height": null,
      "justify_content": null,
      "justify_items": null,
      "left": null,
      "margin": null,
      "max_height": null,
      "max_width": null,
      "min_height": null,
      "min_width": null,
      "object_fit": null,
      "object_position": null,
      "order": null,
      "overflow": null,
      "overflow_x": null,
      "overflow_y": null,
      "padding": null,
      "right": null,
      "top": null,
      "visibility": null,
      "width": null
     }
    },
    "93164a625c3747b594ade306a8df3752": {
     "model_module": "@jupyter-widgets/base",
     "model_name": "LayoutModel",
     "state": {
      "_model_module": "@jupyter-widgets/base",
      "_model_module_version": "1.2.0",
      "_model_name": "LayoutModel",
      "_view_count": null,
      "_view_module": "@jupyter-widgets/base",
      "_view_module_version": "1.2.0",
      "_view_name": "LayoutView",
      "align_content": null,
      "align_items": null,
      "align_self": null,
      "border": null,
      "bottom": null,
      "display": null,
      "flex": null,
      "flex_flow": null,
      "grid_area": null,
      "grid_auto_columns": null,
      "grid_auto_flow": null,
      "grid_auto_rows": null,
      "grid_column": null,
      "grid_gap": null,
      "grid_row": null,
      "grid_template_areas": null,
      "grid_template_columns": null,
      "grid_template_rows": null,
      "height": null,
      "justify_content": null,
      "justify_items": null,
      "left": null,
      "margin": null,
      "max_height": null,
      "max_width": null,
      "min_height": null,
      "min_width": null,
      "object_fit": null,
      "object_position": null,
      "order": null,
      "overflow": null,
      "overflow_x": null,
      "overflow_y": null,
      "padding": null,
      "right": null,
      "top": null,
      "visibility": null,
      "width": null
     }
    },
    "94b7e4dee4004a0787db977362bbbd65": {
     "model_module": "@jupyter-widgets/controls",
     "model_name": "SliderStyleModel",
     "state": {
      "_model_module": "@jupyter-widgets/controls",
      "_model_module_version": "1.5.0",
      "_model_name": "SliderStyleModel",
      "_view_count": null,
      "_view_module": "@jupyter-widgets/base",
      "_view_module_version": "1.2.0",
      "_view_name": "StyleView",
      "description_width": "",
      "handle_color": null
     }
    },
    "b3408792ca0a4ebcb1c69967ed4c37ff": {
     "model_module": "@jupyter-widgets/base",
     "model_name": "LayoutModel",
     "state": {
      "_model_module": "@jupyter-widgets/base",
      "_model_module_version": "1.2.0",
      "_model_name": "LayoutModel",
      "_view_count": null,
      "_view_module": "@jupyter-widgets/base",
      "_view_module_version": "1.2.0",
      "_view_name": "LayoutView",
      "align_content": null,
      "align_items": null,
      "align_self": null,
      "border": null,
      "bottom": null,
      "display": null,
      "flex": null,
      "flex_flow": null,
      "grid_area": null,
      "grid_auto_columns": null,
      "grid_auto_flow": null,
      "grid_auto_rows": null,
      "grid_column": null,
      "grid_gap": null,
      "grid_row": null,
      "grid_template_areas": null,
      "grid_template_columns": null,
      "grid_template_rows": null,
      "height": null,
      "justify_content": null,
      "justify_items": null,
      "left": null,
      "margin": null,
      "max_height": null,
      "max_width": null,
      "min_height": null,
      "min_width": null,
      "object_fit": null,
      "object_position": null,
      "order": null,
      "overflow": null,
      "overflow_x": null,
      "overflow_y": null,
      "padding": null,
      "right": null,
      "top": null,
      "visibility": null,
      "width": null
     }
    },
    "c8254b020026413ca58e8a2096ca9cc9": {
     "model_module": "@jupyter-widgets/controls",
     "model_name": "IntSliderModel",
     "state": {
      "_dom_classes": [],
      "_model_module": "@jupyter-widgets/controls",
      "_model_module_version": "1.5.0",
      "_model_name": "IntSliderModel",
      "_view_count": null,
      "_view_module": "@jupyter-widgets/controls",
      "_view_module_version": "1.5.0",
      "_view_name": "IntSliderView",
      "continuous_update": false,
      "description": "Select Layer",
      "description_tooltip": null,
      "disabled": false,
      "layout": "IPY_MODEL_1ecc01cf5093420ca824ab0caaa50ef5",
      "max": 154,
      "min": 0,
      "orientation": "horizontal",
      "readout": true,
      "readout_format": "d",
      "step": 1,
      "style": "IPY_MODEL_94b7e4dee4004a0787db977362bbbd65",
      "value": 45
     }
    },
    "cc97bf9363814658b9c38b5a9fdb1ab8": {
     "model_module": "@jupyter-widgets/controls",
     "model_name": "SliderStyleModel",
     "state": {
      "_model_module": "@jupyter-widgets/controls",
      "_model_module_version": "1.5.0",
      "_model_name": "SliderStyleModel",
      "_view_count": null,
      "_view_module": "@jupyter-widgets/base",
      "_view_module_version": "1.2.0",
      "_view_name": "StyleView",
      "description_width": "",
      "handle_color": null
     }
    }
   }
  }
 },
 "nbformat": 4,
 "nbformat_minor": 1
}
