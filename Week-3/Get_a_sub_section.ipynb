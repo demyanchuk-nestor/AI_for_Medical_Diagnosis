{
 "cells": [
  {
   "cell_type": "markdown",
   "metadata": {
    "colab_type": "text",
    "id": "view-in-github"
   },
   "source": [
    "<a href=\"https://colab.research.google.com/github/demyanchuk-nestor/AI_for_Medical_Diagnosis/blob/master/Week-3/Get_a_sub_section.ipynb\" target=\"_parent\"><img src=\"https://colab.research.google.com/assets/colab-badge.svg\" alt=\"Open In Colab\"/></a>"
   ]
  },
  {
   "cell_type": "markdown",
   "metadata": {
    "colab_type": "text",
    "id": "BVT-zdHcq_NA"
   },
   "source": [
    "# AI4M Course 1 week 3 lecture notebook"
   ]
  },
  {
   "cell_type": "markdown",
   "metadata": {
    "colab_type": "text",
    "id": "D65jjqyWq_NF"
   },
   "source": [
    "# Extract a sub-section\n",
    "\n",
    "In the assignment you will be extracting sub-sections of the MRI data to train your network. The reason for this is that training on a full MRI scan would be too memory intensive to be practical. To extract a sub-section in the assignment, you will need to write a function to isolate a small \"cube\" of the data for training. This example is meant to show you how to do such an extraction for 1D arrays. In the assignment you will apply the same logic in 3D."
   ]
  },
  {
   "cell_type": "code",
   "execution_count": null,
   "metadata": {
    "colab": {},
    "colab_type": "code",
    "id": "CBhuEnJCq_NI"
   },
   "outputs": [],
   "source": [
    "import numpy as np"
   ]
  },
  {
   "cell_type": "code",
   "execution_count": null,
   "metadata": {
    "colab": {
     "base_uri": "https://localhost:8080/",
     "height": 34
    },
    "colab_type": "code",
    "id": "0ShxvVDGq_Ng",
    "outputId": "84df227a-b46d-409c-8df8-e30d818ca429"
   },
   "outputs": [],
   "source": [
    "# Define a simple one dimensional \"image\" to extract from\n",
    "image = np.array([10,11,12,13,14,15])\n",
    "image"
   ]
  },
  {
   "cell_type": "code",
   "execution_count": null,
   "metadata": {
    "colab": {
     "base_uri": "https://localhost:8080/",
     "height": 34
    },
    "colab_type": "code",
    "id": "EC7Np2XXq_N0",
    "outputId": "e6d78e62-f9bd-4017-e058-8f9b2d934bdc"
   },
   "outputs": [],
   "source": [
    "# Compute the dimensions of your \"image\"\n",
    "image_length = image.shape[0]\n",
    "image_length"
   ]
  },
  {
   "cell_type": "markdown",
   "metadata": {
    "colab_type": "text",
    "id": "ZEW1ogSWq_OB"
   },
   "source": [
    "### Sub-sections\n",
    "In the assignment, you will define a \"patch size\" in three dimensions, that will be the size of the sub-section you want to extract. For this exercise, you only need to define a patch size in one dimension."
   ]
  },
  {
   "cell_type": "code",
   "execution_count": null,
   "metadata": {
    "colab": {},
    "colab_type": "code",
    "id": "Wrt3S6m2q_OE"
   },
   "outputs": [],
   "source": [
    "# Define a patch length, which will be the size of your extracted sub-section\n",
    "patch_length = 3"
   ]
  },
  {
   "cell_type": "markdown",
   "metadata": {
    "colab_type": "text",
    "id": "aopYCWZTq_OT"
   },
   "source": [
    "To extract a patch of length `patch_length` you will first define an index at which to start the patch.\n",
    "\n",
    "Run the next cell to define your start index"
   ]
  },
  {
   "cell_type": "code",
   "execution_count": null,
   "metadata": {
    "colab": {},
    "colab_type": "code",
    "id": "fx0PIO9Zq_OV"
   },
   "outputs": [],
   "source": [
    "# Define your start index\n",
    "start_i = 0"
   ]
  },
  {
   "cell_type": "markdown",
   "metadata": {
    "colab_type": "text",
    "id": "IGNsbG8Oq_Oi"
   },
   "source": [
    "At the end of the next cell you are adding 1 to the start index. Run cell a few times to extract some one dimensional sub-sections from your \"image\"\n",
    "\n",
    "What happens when you run into the edge of the image (when `start_index` is > 3)?"
   ]
  },
  {
   "cell_type": "code",
   "execution_count": null,
   "metadata": {
    "colab": {},
    "colab_type": "code",
    "id": "IYwFHy0Bq_Ok"
   },
   "outputs": [],
   "source": [
    "# Define an end index given your start index and patch size\n",
    "print(f\"start index {start_i}\")\n",
    "end_i = start_i + patch_length\n",
    "print(f\"end index {end_i}\")\n",
    "# Extract a sub-section from your \"image\"\n",
    "sub_section = image[start_i: end_i]\n",
    "print(sub_section)\n",
    "# Add one to your start index\n",
    "start_i +=1"
   ]
  },
  {
   "cell_type": "markdown",
   "metadata": {
    "colab_type": "text",
    "id": "RsAYyLi-q_O3"
   },
   "source": [
    "You'll notice when you run the above multiple times, that eventually the sub-section returned is no longer of length `patch_length`. \n",
    "\n",
    "In the assignment, your neural network will be expecting a particular sub-section size and will not accept inputs of other dimensions. For the start indices, you will be randomly choosing values and you need to ensure that your random number generator is set up to avoid the edges of your image object.\n",
    "\n",
    "The next few code cells include a demonstration of how you could determine the constraints on your start index for the simple one dimensional example."
   ]
  },
  {
   "cell_type": "code",
   "execution_count": null,
   "metadata": {
    "colab": {
     "base_uri": "https://localhost:8080/",
     "height": 68
    },
    "colab_type": "code",
    "id": "fIsxvDAGq_O7",
    "outputId": "e37aeb8c-4db8-45db-aa3f-c9db98c23887"
   },
   "outputs": [],
   "source": [
    "# Set your start index to 3 to extract a valid patch\n",
    "start_i = 3\n",
    "print(f\"start index {start_i}\")\n",
    "end_i = start_i + patch_length\n",
    "print(f\"end index {end_i}\")\n",
    "sub_section = image[start_i: end_i]\n",
    "print(sub_section)"
   ]
  },
  {
   "cell_type": "code",
   "execution_count": null,
   "metadata": {
    "colab": {
     "base_uri": "https://localhost:8080/",
     "height": 34
    },
    "colab_type": "code",
    "id": "ES18ybC1q_PG",
    "outputId": "39296fe6-76d6-47b9-9603-5c9ee51c6c74"
   },
   "outputs": [],
   "source": [
    "# Compute and print the largest valid value for start index\n",
    "print(f\"The largest start index for which \"\n",
    "      f\"a sub section is still valid is \"\n",
    "      f\"{image_length - patch_length}\")"
   ]
  },
  {
   "cell_type": "code",
   "execution_count": null,
   "metadata": {
    "colab": {
     "base_uri": "https://localhost:8080/",
     "height": 51
    },
    "colab_type": "code",
    "id": "Y38cWnRpq_PS",
    "outputId": "2c8320f3-76ad-448a-9d93-81ede418c62e"
   },
   "outputs": [],
   "source": [
    "# Compute and print the range of valid start indices\n",
    "print(f\"The range of valid start indices is:\")\n",
    "# Compute valid start indices, note the range() function excludes the upper bound\n",
    "valid_start_i = [i for i in range(image_length - patch_length + 1)]\n",
    "print(valid_start_i)"
   ]
  },
  {
   "cell_type": "markdown",
   "metadata": {
    "colab_type": "text",
    "id": "fWP72BNkq_Pg"
   },
   "source": [
    "### Random selection of start indices\n",
    "In the assignment, you will need to randomly select a valid integer for the start index in each of three dimensions. The way to do this is by following the logic above to identify valid start indices and then selecting randomly from that range of valid numbers.\n",
    "\n",
    "Run the next cell to select a valid start index for the one dimensional example"
   ]
  },
  {
   "cell_type": "code",
   "execution_count": null,
   "metadata": {
    "colab": {
     "base_uri": "https://localhost:8080/",
     "height": 34
    },
    "colab_type": "code",
    "id": "TGE7PJ_-q_Pj",
    "outputId": "c8553db4-4eb4-4e0a-bf95-fcb5a113e5ac"
   },
   "outputs": [],
   "source": [
    "# Choose a random start index, note the np.random.randint() function excludes the upper bound.\n",
    "start_i = np.random.randint(image_length - patch_length + 1)\n",
    "print(f\"randomly selected start index {start_i}\")"
   ]
  },
  {
   "cell_type": "code",
   "execution_count": null,
   "metadata": {
    "colab": {
     "base_uri": "https://localhost:8080/",
     "height": 187
    },
    "colab_type": "code",
    "id": "490pfVdSq_Ps",
    "outputId": "9ac71717-1bf4-455e-d605-51002db12a08"
   },
   "outputs": [],
   "source": [
    "# Randomly select multiple start indices in a loop\n",
    "for _ in range(10):\n",
    "    start_i = np.random.randint(image_length - patch_length + 1)\n",
    "    print(f\"randomly selected start index {start_i}\")"
   ]
  },
  {
   "cell_type": "markdown",
   "metadata": {
    "colab_type": "text",
    "id": "2BgDSARsq_P2"
   },
   "source": [
    "#### That's all for this lab, now you have the basic tools you need for sub-section extraction in this week's graded assignment!"
   ]
  }
 ],
 "metadata": {
  "colab": {
   "collapsed_sections": [],
   "include_colab_link": true,
   "name": "Get a sub section.ipynb",
   "provenance": []
  },
  "kernelspec": {
   "display_name": "Python 3",
   "language": "python",
   "name": "python3"
  },
  "language_info": {
   "codemirror_mode": {
    "name": "ipython",
    "version": 3
   },
   "file_extension": ".py",
   "mimetype": "text/x-python",
   "name": "python",
   "nbconvert_exporter": "python",
   "pygments_lexer": "ipython3",
   "version": "3.7.6"
  }
 },
 "nbformat": 4,
 "nbformat_minor": 1
}
