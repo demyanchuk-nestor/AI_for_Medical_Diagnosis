{
 "cells": [
  {
   "cell_type": "markdown",
   "metadata": {},
   "source": [
    "<a href=\"https://colab.research.google.com/github/demyanchuk-nestor/AI_for_Medical_Diagnosis/blob/master/Week-2/UKR_Evaluation_of_Diagnostic_Models_Assignment.ipynb\" target=\"_parent\"><img src=\"https://colab.research.google.com/assets/colab-badge.svg\" alt=\"Open In Colab\"/></a>"
   ]
  },
  {
   "cell_type": "code",
   "execution_count": null,
   "metadata": {
    "colab": {
     "base_uri": "https://localhost:8080/"
    },
    "id": "vAGnqPF0mLsx",
    "outputId": "4e56b436-57bb-40d8-e7a0-374e197fa35d"
   },
   "outputs": [],
   "source": [
    "!git clone https://github.com/demyanchuk-nestor/AI_for_Medical_Diagnosis\n",
    "%cd 'AI_for_Medical_Diagnosis/Week-2'"
   ]
  },
  {
   "cell_type": "markdown",
   "metadata": {
    "id": "QlXysl_ngZZp"
   },
   "source": [
    "# Оцінювання якості алгоритмів штучного інтелекту при діагностиці захворювань\n",
    "\n",
    "\n",
    "У даній роботі використовуються результати класифікації моделі для медичних зображень, отриманих методами комп’ютерної томографії. Оцінюванні якості алгоритмів штучного інтелекту (ШІ) проведено на наборі тестових даних із 420 комп’ютерних томограм, які характеризують 14 різних патологічних станів. У даній роботі буде проведено оцінювання якості класифікації кожного із досліджуваних захворювань. Для цього будуть використані істинно позитивні, хибно позитивні, істинно негативні та хибно негативні результати, розраховані точність, поширеність, чутливість і специфічність, позитивні прогнозовані значення (Positive predictive value (PPV)) та негативні прогнозовані значення (Negative predictive value (NPV)), побудовані ROC-криві, довірчі інтервали, графік точності запам’ятовування, результати F1 та калібрування.\n",
    "\n"
   ]
  },
  {
   "cell_type": "markdown",
   "metadata": {
    "id": "V6rc4bg1hxOK"
   },
   "source": [
    "## Зміст\n",
    "1. Завантаження вхідних даних та їх візуалізація.\n",
    "2. Аналіз результатами класифікації та наявністю захворювання.\n",
    "3. Розрахунок точності алгоритму ШІ.\n",
    "4. Розрахунок поширеності алгоритму ШІ.\n",
    "5. Розрахунок чутливості та специфічності алгоритму ШІ.\n",
    "6. Розрахунок позитивної прогностичної цінності (PPV) та негативної прогностичної цінності (NPV) алгоритму ШІ.\n",
    "7. Побудова та аналіз ROC-кривої.\n",
    "8. Розрахунок довірчих інтервалів.\n",
    "9. Оцінювання кривої точності запам’ятовування.\n",
    "10. Розрахунок продуктивності алгоритму ШІ із гармонійним середнім значенням точності та запам’ятовування F1.\n",
    "11. Побудова калібрувальних графіків.\n"
   ]
  },
  {
   "cell_type": "markdown",
   "metadata": {
    "id": "Gfe98JLFgZZr"
   },
   "source": []
  },
  {
   "cell_type": "markdown",
   "metadata": {
    "id": "b5NoHyStKFQg"
   },
   "source": [
    "<a name='1'></a>\n",
    "\n",
    "\n",
    "3.\tПерейти за наступними посиланнями, щоб імпортувати всі необхідні пакети, а також спеціальні службові функції за посиланнями:"
   ]
  },
  {
   "cell_type": "code",
   "execution_count": null,
   "metadata": {
    "id": "1RH6wvaDgZZk"
   },
   "outputs": [],
   "source": [
    "import numpy as np\n",
    "import matplotlib.pyplot as plt\n",
    "import pandas as pd\n",
    "\n",
    "import util"
   ]
  },
  {
   "cell_type": "markdown",
   "metadata": {
    "id": "GA-7EX2vNmpX"
   },
   "source": [
    "<a name='2'></a>\n"
   ]
  },
  {
   "cell_type": "markdown",
   "metadata": {
    "id": "8V8WFFMRgZZs"
   },
   "source": [
    "4.\tУ двох файлах CSV під назвами \"train_preds.csv\" і \"valid_preds.csv\" збережені дані.\n",
    "5.\tВ наступній частині роботи будемо аналізувати прогнозовані значення та справжні мітки класів. Досліджувані дані були у вигляді попередньо класифіковані лікарями у вигляді 14 захворювань\n",
    "Для завантаження попередньо обчислених результатів моделювання для досліджуваних даних потрібно перейти за посиланням:"
   ]
  },
  {
   "cell_type": "code",
   "execution_count": null,
   "metadata": {
    "id": "-W1mQ0j_gZZs"
   },
   "outputs": [],
   "source": [
    "train_results = pd.read_csv(\"train_preds.csv\")\n",
    "valid_results = pd.read_csv(\"valid_preds.csv\")\n",
    "\n",
    "# the labels in our dataset\n",
    "class_labels = ['Cardiomegaly',\n",
    " 'Emphysema',\n",
    " 'Effusion',\n",
    " 'Hernia',\n",
    " 'Infiltration',\n",
    " 'Mass',\n",
    " 'Nodule',\n",
    " 'Atelectasis',\n",
    " 'Pneumothorax',\n",
    " 'Pleural_Thickening',\n",
    " 'Pneumonia',\n",
    " 'Fibrosis',\n",
    " 'Edema',\n",
    " 'Consolidation']\n",
    "\n",
    "# the labels for prediction values in our dataset\n",
    "pred_labels = [l + \"_pred\" for l in class_labels]"
   ]
  },
  {
   "cell_type": "markdown",
   "metadata": {
    "id": "9XoFEIaT3dPR"
   },
   "source": [
    "6.\tДля генерування міток (y) та результатів прогнозування (pred), необхідно перейти за посиланнями:"
   ]
  },
  {
   "cell_type": "code",
   "execution_count": null,
   "metadata": {
    "id": "5ts82yadgZZw"
   },
   "outputs": [],
   "source": [
    "y = valid_results[class_labels].values\n",
    "pred = valid_results[pred_labels].values"
   ]
  },
  {
   "cell_type": "code",
   "execution_count": null,
   "metadata": {
    "colab": {
     "base_uri": "https://localhost:8080/"
    },
    "id": "2S0IOfuFhxPC",
    "outputId": "30e167f8-d9db-460d-df43-17074aa09173"
   },
   "outputs": [],
   "source": [
    "y.shape, pred.shape"
   ]
  },
  {
   "cell_type": "markdown",
   "metadata": {
    "id": "ZCgrMdcH3iyK"
   },
   "source": [
    "7.\tПісля переходу за посиланням отримаємо результат у вигляді таблиці."
   ]
  },
  {
   "cell_type": "code",
   "execution_count": null,
   "metadata": {
    "colab": {
     "base_uri": "https://localhost:8080/",
     "height": 255
    },
    "id": "N6Lp19_k3h_j",
    "outputId": "2205432f-937d-491b-9d9e-a5dace512522"
   },
   "outputs": [],
   "source": [
    "# let's take a peek at our dataset\n",
    "valid_results[np.concatenate([class_labels, pred_labels])].head()"
   ]
  },
  {
   "cell_type": "markdown",
   "metadata": {
    "id": "BktRP8PzgZZz"
   },
   "source": [
    "8.\tДля отримання інформації у вигляді гістограми про кількість пацієнтів із певним захворюванням необхідно перейти за посиланням:"
   ]
  },
  {
   "cell_type": "code",
   "execution_count": null,
   "metadata": {
    "colab": {
     "base_uri": "https://localhost:8080/",
     "height": 548
    },
    "id": "7rrtjgiKgZZ0",
    "outputId": "2a6548b4-035b-49c0-b5c9-a174a55565b7"
   },
   "outputs": [],
   "source": [
    "plt.xticks(rotation=90)\n",
    "plt.bar(x = class_labels, height= y.sum(axis=0));"
   ]
  },
  {
   "cell_type": "markdown",
   "metadata": {
    "id": "WMbrDZTfOQ_t"
   },
   "source": [
    "Аналізуючи отримані результати можна зробити висновок, що дані по кількості кожного із захворювань є незбалансованими. Зокрема, у наборі даних є невелика кількість пацієнтів з діагнозом «Грижа» (`Hernia`), яких є лише 3 пацієнти.\n",
    "Рекомендація: при формуванні досліджуваних баз даних пацієнтів, для ефективного функціонування алгоритмів ШІ, потрібно намагатися, щоб їх кількість була збалансована.\n",
    "\n"
   ]
  },
  {
   "cell_type": "markdown",
   "metadata": {
    "id": "MaBE2BeVOU-d"
   },
   "source": [
    "<a name='3'></a>\n"
   ]
  },
  {
   "cell_type": "markdown",
   "metadata": {
    "id": "ZqCKzNTLvVc6"
   },
   "source": [
    "<a name='3-1'></a>\n",
    "### 2. Аналіз результатів класифікації та наявністю захворювання.\n",
    "\n",
    "При оцінюванні якості алгоритмів ШІ при діагностиці захворювань використовують «золотий стандарт».\n",
    "«Золотий стандарт» (референтний, еталонний) – це результат певного точного, способу визначення наявності або відсутності захворювання, що заслуговує цілковитої довіри дослідників.\n",
    "«Золотий стандарт» не можна як правило вважати абсолютним еталоном, оскільки із розвитком застосовуваних діагностичних методик та алгоритмів ШІ колишні еталонні методи діагностики можуть бути замінені більш досконалими «золотими стандартами». При використанні діагностичних алгоритмів ШІ, на основі бінарного представлення результатів класифікації, у вигляді істинно позитивних (True positive (TP)), хибно позитивних (False positive (FP)), істинно негативних (True negative (TN)) та хибно негативних (False negative (FN)) результатів зручно використовувати таблицю, яку називають таблицею спряженості, контингентності або невідповідності.\n",
    "\n",
    "\n",
    "9.\tДля підрахунку кількості ТР, FP, FN і TN досліджуваних даних у вигляді 0 та 1, потрібно встановити порогове значення $th$=0,5. Числові значення менші 0,5 будуть заокруглені до нуля, інші (більші 0,5) будуть заокруглені до 1. Для цього необхідно перейти за наступними посиланнями:\n"
   ]
  },
  {
   "cell_type": "code",
   "execution_count": null,
   "metadata": {
    "id": "6epwT5HJwAQb"
   },
   "outputs": [],
   "source": [
    "# UNQ_C1 (UNIQUE CELL IDENTIFIER, DO NOT EDIT)\n",
    "def true_positives(y, pred, th=0.5):\n",
    "    \"\"\"\n",
    "    Count true positives.\n",
    "\n",
    "    Args:\n",
    "        y (np.array): ground truth, size (n_examples)\n",
    "        pred (np.array): model output, size (n_examples)\n",
    "        th (float): cutoff value for positive prediction from model\n",
    "    Returns:\n",
    "        TP (int): true positives\n",
    "    \"\"\"\n",
    "    TP = 0\n",
    "\n",
    "    # get thresholded predictions\n",
    "    thresholded_preds = pred >= th\n",
    "\n",
    "    # compute TP\n",
    "    TP = np.sum((y == 1) & (thresholded_preds == 1))\n",
    "\n",
    "    return TP\n",
    "\n",
    "def true_negatives(y, pred, th=0.5):\n",
    "    \"\"\"\n",
    "    Count true negatives.\n",
    "\n",
    "    Args:\n",
    "        y (np.array): ground truth, size (n_examples)\n",
    "        pred (np.array): model output, size (n_examples)\n",
    "        th (float): cutoff value for positive prediction from model\n",
    "    Returns:\n",
    "        TN (int): true negatives\n",
    "    \"\"\"\n",
    "    TN = 0\n",
    "\n",
    "    # get thresholded predictions\n",
    "    thresholded_preds = pred >= th\n",
    "\n",
    "    ### START CODE HERE (REPLACE INSTANCES OF 'None' with your code) ###\n",
    "\n",
    "    # compute TN\n",
    "    TN = np.sum((y == 0) & (thresholded_preds == 0))\n",
    "\n",
    "    ### END CODE HERE ###\n",
    "\n",
    "    return TN\n",
    "\n",
    "def false_positives(y, pred, th=0.5):\n",
    "    \"\"\"\n",
    "    Count false positives.\n",
    "\n",
    "    Args:\n",
    "        y (np.array): ground truth, size (n_examples)\n",
    "        pred (np.array): model output, size (n_examples)\n",
    "        th (float): cutoff value for positive prediction from model\n",
    "    Returns:\n",
    "        FP (int): false positives\n",
    "    \"\"\"\n",
    "    FP = 0\n",
    "\n",
    "    # get thresholded predictions\n",
    "    thresholded_preds = pred >= th\n",
    "\n",
    "    ### START CODE HERE (REPLACE INSTANCES OF 'None' with your code) ###\n",
    "\n",
    "    # compute FP\n",
    "    FP = np.sum((y == 0) & (thresholded_preds == 1))\n",
    "\n",
    "    ### END CODE HERE ###\n",
    "\n",
    "    return FP\n",
    "\n",
    "def false_negatives(y, pred, th=0.5):\n",
    "    \"\"\"\n",
    "    Count false positives.\n",
    "\n",
    "    Args:\n",
    "        y (np.array): ground truth, size (n_examples)\n",
    "        pred (np.array): model output, size (n_examples)\n",
    "        th (float): cutoff value for positive prediction from model\n",
    "    Returns:\n",
    "        FN (int): false negatives\n",
    "    \"\"\"\n",
    "    FN = 0\n",
    "\n",
    "    # get thresholded predictions\n",
    "    thresholded_preds = pred >= th\n",
    "\n",
    "    ### START CODE HERE (REPLACE INSTANCES OF 'None' with your code) ###\n",
    "\n",
    "    # compute FN\n",
    "    FN = np.sum((y == 1) & (thresholded_preds == 0))\n",
    "\n",
    "    ### END CODE HERE ###\n",
    "\n",
    "    return FN"
   ]
  },
  {
   "cell_type": "markdown",
   "metadata": {
    "id": "uD9bsB1iiq8q"
   },
   "source": [
    "У результаті виконання команд отримаємо результати у вигляді таблиці"
   ]
  },
  {
   "cell_type": "code",
   "execution_count": null,
   "metadata": {
    "colab": {
     "base_uri": "https://localhost:8080/",
     "height": 714
    },
    "id": "ORgq9Y_FyDhF",
    "outputId": "5f0be220-3be9-4db4-c19f-83d4bc1f119d"
   },
   "outputs": [],
   "source": [
    "# Note: we must explicity import 'display' in order for the autograder to compile the submitted code\n",
    "# Even though we could use this function without importing it, keep this import in order to allow the grader to work\n",
    "from IPython.display import display\n",
    "# Test\n",
    "df = pd.DataFrame({'y_test': [1,1,0,0,0,0,0,0,0,1,1,1,1,1],\n",
    "                   'preds_test': [0.8,0.7,0.4,0.3,0.2,0.5,0.6,0.7,0.8,0.1,0.2,0.3,0.4,0],\n",
    "                   'category': ['TP','TP','TN','TN','TN','FP','FP','FP','FP','FN','FN','FN','FN','FN']\n",
    "                  })\n",
    "\n",
    "display(df)\n",
    "#y_test = np.array([1, 0, 0, 1, 1])\n",
    "y_test = df['y_test']\n",
    "\n",
    "#preds_test = np.array([0.8, 0.8, 0.4, 0.6, 0.3])\n",
    "preds_test = df['preds_test']\n",
    "\n",
    "threshold = 0.5\n",
    "print(f\"threshold: {threshold}\\n\")\n",
    "\n",
    "print(f\"\"\"Our functions calcualted:\n",
    "TP: {true_positives(y_test, preds_test, threshold)}\n",
    "TN: {true_negatives(y_test, preds_test, threshold)}\n",
    "FP: {false_positives(y_test, preds_test, threshold)}\n",
    "FN: {false_negatives(y_test, preds_test, threshold)}\n",
    "\"\"\")\n",
    "\n",
    "print(\"Expected results\")\n",
    "print(f\"There are {sum(df['category'] == 'TP')} TP\")\n",
    "print(f\"There are {sum(df['category'] == 'TN')} TN\")\n",
    "print(f\"There are {sum(df['category'] == 'FP')} FP\")\n",
    "print(f\"There are {sum(df['category'] == 'FN')} FN\")"
   ]
  },
  {
   "cell_type": "markdown",
   "metadata": {
    "id": "yz0x1BdhyuUN"
   },
   "source": [
    "10. Для отримання та перегляду узагальненої інформації ТР, FP, FN і TN для кожного із досліджуваних захворювань потрібно запустити на виконання наступну команду:"
   ]
  },
  {
   "cell_type": "code",
   "execution_count": null,
   "metadata": {
    "colab": {
     "base_uri": "https://localhost:8080/",
     "height": 502
    },
    "id": "E6u3eoNCy1LU",
    "outputId": "55e54c43-5e3b-4581-e548-ace04e5d72b5"
   },
   "outputs": [],
   "source": [
    "util.get_performance_metrics(y, pred, class_labels)"
   ]
  },
  {
   "cell_type": "markdown",
   "metadata": {
    "id": "F6M_l5QNy3ux"
   },
   "source": [
    "В результаті отримаємо таблицю з узагальненою інформацією ТР, FP, FN і TN для кожного із досліджуваних захворювань.\n"
   ]
  },
  {
   "cell_type": "markdown",
   "metadata": {
    "id": "ISy-naajOTp7"
   },
   "source": [
    "<a name='3-2'></a>\n",
    "### 3. Розрахунок точності алгоритму ШІ"
   ]
  },
  {
   "cell_type": "markdown",
   "metadata": {
    "id": "qMNxd3IGgZZ3"
   },
   "source": [
    "\n",
    "Використовуючи порогове значення 0,5 для ймовірнісного відсікання прогнозованих значень для всіх класів досліджуваних захворювань обчислимо точність прогнозування моделі:\n",
    "\n",
    "$$accuracy = \\frac{\\text{true positives} + \\text{true negatives}}{\\text{true positives} + \\text{true negatives} + \\text{false positives} + \\text{false negatives}}$$\n",
    "\n",
    "11.\tДля розрахунку точності прогнозування потрібно виконати команди:"
   ]
  },
  {
   "cell_type": "markdown",
   "metadata": {
    "id": "tlbaTczjhxQp"
   },
   "source": [
    "<details>    \n",
    "<summary>\n",
    "    <font size=\"3\" color=\"darkgreen\"><b>Примітка</b></font>\n",
    "</summary>\n",
    "<p>\n",
    "<ul>\n",
    "    <li>\n",
    "Не забудьте встановити значення порогу під час виклику функцій..</li>\n",
    "</ul>\n",
    "</p>"
   ]
  },
  {
   "cell_type": "code",
   "execution_count": null,
   "metadata": {
    "id": "tcMIPS4jQbDE"
   },
   "outputs": [],
   "source": [
    "# UNQ_C2 (UNIQUE CELL IDENTIFIER, DO NOT EDIT)\n",
    "def get_accuracy(y, pred, th=0.5):\n",
    "    \"\"\"\n",
    "    Compute accuracy of predictions at threshold.\n",
    "\n",
    "    Args:\n",
    "        y (np.array): ground truth, size (n_examples)\n",
    "        pred (np.array): model output, size (n_examples)\n",
    "        th (float): cutoff value for positive prediction from model\n",
    "    Returns:\n",
    "        accuracy (float): accuracy of predictions at threshold\n",
    "    \"\"\"\n",
    "    accuracy = 0.0\n",
    "\n",
    "    ### START CODE HERE (REPLACE INSTANCES OF 'None' with your code) ###\n",
    "\n",
    "    # get TP, FP, TN, FN using our previously defined functions\n",
    "    TP = true_positives(y, pred, th)\n",
    "    FP = false_positives(y, pred, th)\n",
    "    TN = true_negatives(y, pred, th)\n",
    "    FN = false_negatives(y, pred, th)\n",
    "\n",
    "    # Compute accuracy using TP, FP, TN, FN\n",
    "    accuracy = (TP + TN)/(TP + TN + FP + FN)\n",
    "\n",
    "    ### END CODE HERE ###\n",
    "\n",
    "    return accuracy"
   ]
  },
  {
   "cell_type": "code",
   "execution_count": null,
   "metadata": {
    "colab": {
     "base_uri": "https://localhost:8080/"
    },
    "id": "Sa5ypRRlRhVz",
    "outputId": "39e05bc2-b4a5-4abe-f78d-15067300254e"
   },
   "outputs": [],
   "source": [
    "# Test\n",
    "print(\"Test case:\")\n",
    "\n",
    "y_test = np.array([1, 0, 0, 1, 1])\n",
    "print('test labels: {y_test}')\n",
    "\n",
    "preds_test = np.array([0.8, 0.8, 0.4, 0.6, 0.3])\n",
    "print(f'test predictions: {preds_test}')\n",
    "\n",
    "threshold = 0.5\n",
    "print(f\"threshold: {threshold}\")\n",
    "\n",
    "print(f\"computed accuracy: {get_accuracy(y_test, preds_test, threshold)}\")"
   ]
  },
  {
   "cell_type": "markdown",
   "metadata": {
    "id": "yz0O5bo-hxQ9"
   },
   "source": [
    "#### В результаті отримаємо результат розрахунку точності::\n",
    "\n",
    "```Python\n",
    "test labels: {y_test}\n",
    "test predictions: [0.8 0.8 0.4 0.6 0.3]\n",
    "threshold: 0.5\n",
    "computed accuracy: 0.6\n",
    "```"
   ]
  },
  {
   "cell_type": "markdown",
   "metadata": {
    "id": "GGq_9OUBu9Er"
   },
   "source": [
    "12.\tДля розрахунку точності прогнозування досліджуваної моделі потрібно виконати наступну команду:"
   ]
  },
  {
   "cell_type": "code",
   "execution_count": null,
   "metadata": {
    "colab": {
     "base_uri": "https://localhost:8080/",
     "height": 502
    },
    "id": "wmaDXXy0gZZ7",
    "outputId": "09b5306b-eb13-4c73-c0a4-46fa6c49e8b2"
   },
   "outputs": [],
   "source": [
    "util.get_performance_metrics(y, pred, class_labels, acc=get_accuracy)"
   ]
  },
  {
   "cell_type": "markdown",
   "metadata": {
    "id": "HtVllCgFgZZ-"
   },
   "source": [
    "При оцінюванні продуктивності запропонованої моделі для прогнозування лише на основі показника точності, то можна зробити висновок, що наша модель не досить точна для виявлення випадків «Infiltration (Проникнення)» (точність 0,657), але досить точна для виявлення «Emphysema (Емфіземи)» (точність 0,889).\n",
    "\n",
    "13.\tОднак, для розрахунку точності моделі, що пацієнт не має «Emphysema (Емфіземи)» потрібно запустити на виконання команду"
   ]
  },
  {
   "cell_type": "code",
   "execution_count": null,
   "metadata": {
    "colab": {
     "base_uri": "https://localhost:8080/"
    },
    "id": "6N-2iQrqgZZ_",
    "outputId": "d0f4752a-fd9d-40b1-a7c6-f941615a771d"
   },
   "outputs": [],
   "source": [
    "get_accuracy(valid_results[\"Emphysema\"].values, np.zeros(len(valid_results)))"
   ]
  },
  {
   "cell_type": "markdown",
   "metadata": {
    "id": "BhSRo0iqKy_4"
   },
   "source": [
    "Отримуємо точність 97%! Це є кращий результат, ніж прокласифікувала модель на основі глибокого навчання. На основі лише точності ми не можемо зробити висновок про ефективність моделі прогнозування. З цією метою буде розглянуто наступні важливі характеристики чутливість та специфічність, але спочатку розглянемо поширеність."
   ]
  },
  {
   "cell_type": "markdown",
   "metadata": {
    "id": "nat--E8KgZaD"
   },
   "source": [
    "<a name='3-3'></a>\n",
    "### 4. Розрахунок поширеності алгоритму ШІ\n",
    "У медичному контексті поширеність – це частка людей у популяції, які мають певне захворювання.\n",
    "З точки зору машинного навчання, це частка пацієнтів, які мають певне захворювання. Формула для поширеності має наступний вигляд:\n",
    "\n",
    "\n",
    "$$prevalence = \\frac{1}{N} \\sum_{i} y_i$$\n",
    "\n",
    "where $y_i = 1$ when the example is 'positive' (has the disease).\n",
    "\n",
    "де уі=1 є прикладом того, що пацієнт має певне захворювання.\n",
    "14.\tДля визначення поширеності потрібно виконати команду\n"
   ]
  },
  {
   "cell_type": "code",
   "execution_count": null,
   "metadata": {
    "id": "dHkdpG-RVRNp"
   },
   "outputs": [],
   "source": [
    "# UNQ_C3 (UNIQUE CELL IDENTIFIER, DO NOT EDIT)\n",
    "def get_prevalence(y):\n",
    "    \"\"\"\n",
    "    Compute accuracy of predictions at threshold.\n",
    "\n",
    "    Args:\n",
    "        y (np.array): ground truth, size (n_examples)\n",
    "    Returns:\n",
    "        prevalence (float): prevalence of positive cases\n",
    "    \"\"\"\n",
    "    prevalence = 0.0\n",
    "\n",
    "    ### START CODE HERE (REPLACE INSTANCES OF 'None' with your code) ###\n",
    "\n",
    "    prevalence = np.mean(y)\n",
    "\n",
    "    ### END CODE HERE ###\n",
    "\n",
    "    return prevalence"
   ]
  },
  {
   "cell_type": "markdown",
   "metadata": {
    "id": "rfHCYyuUl-UF"
   },
   "source": [
    "Отримаємо результат:"
   ]
  },
  {
   "cell_type": "code",
   "execution_count": null,
   "metadata": {
    "colab": {
     "base_uri": "https://localhost:8080/"
    },
    "id": "djP5dqqsVabT",
    "outputId": "4f0f6856-ff86-4f63-e0a0-98d377fbffd9"
   },
   "outputs": [],
   "source": [
    "# Test\n",
    "print(\"Test case:\\n\")\n",
    "\n",
    "y_test = np.array([1, 0, 0, 1, 1, 0, 0, 0, 0, 1])\n",
    "print(f'test labels: {y_test}')\n",
    "\n",
    "print(f\"computed prevalence: {get_prevalence(y_test)}\")\n"
   ]
  },
  {
   "cell_type": "markdown",
   "metadata": {
    "id": "m0NBhhu0mCMj"
   },
   "source": [
    "15.\tДля отримання результату в табличній формі для усіх 14 досліджуваних захворювань потрібно запустити команду:"
   ]
  },
  {
   "cell_type": "code",
   "execution_count": null,
   "metadata": {
    "colab": {
     "base_uri": "https://localhost:8080/",
     "height": 502
    },
    "id": "lpBSG_kBVPXt",
    "outputId": "bd5aab33-7e9f-40ed-d4fd-d43d5d887922"
   },
   "outputs": [],
   "source": [
    "util.get_performance_metrics(y, pred, class_labels, acc=get_accuracy, prevalence=get_prevalence)"
   ]
  },
  {
   "cell_type": "markdown",
   "metadata": {
    "id": "ob0e34sShxR_"
   },
   "source": [
    "«Hernia (Грижа)» має поширеність 0,002, що є найрідкіснішим серед досліджуваних захворювань у початковому наборі даних."
   ]
  },
  {
   "cell_type": "markdown",
   "metadata": {
    "id": "n5vUNrXOgZaK"
   },
   "source": [
    "<a name='3-4'></a>\n",
    "### 5. Розрахунок чутливості та специфічності алгоритму ШІ\n",
    "<img src=\"https://raw.githubusercontent.com/hardik0/AI-for-Medicine-Specialization/master/AI-for-Medical-Diagnosis/Week-2/sens_spec.png\" width=\"30%\">\n",
    "\n",
    "Чутливість і специфічність є двома найбільш відомими показниками, які використовуються для оцінювання якості алгоритмів ШІ, як діагностичних тестів.\n",
    "Чутливість – це ймовірність того, що наш тест дасть позитивний результат, якщо випадок дійсно позитивний.\n",
    "Специфічність – це ймовірність того, що результат тесту дасть негативний результат, якщо випадок насправді негативний.\n",
    "Співвідношення між True positives та False positives можна навести у вигляді істинно позитивного результату, істинно негативного результату, хибно позитивного результату та хибно негативного результату.\n",
    "Формули для розрахунку чутливості та специфічності мають наступний вигляд:\n",
    "\n",
    "$$sensitivity = \\frac{\\text{true positives}}{\\text{true positives} + \\text{false negatives}}$$\n",
    "\n",
    "$$specificity = \\frac{\\text{true negatives}}{\\text{true negatives} + \\text{false positives}}$$\n",
    "\n",
    "16.\tРозрахуємо чутливість і специфічність для нашої моделі використовуючи перехід за посиланням"
   ]
  },
  {
   "cell_type": "code",
   "execution_count": null,
   "metadata": {
    "id": "W31FpMtmYhPr"
   },
   "outputs": [],
   "source": [
    "# UNQ_C4 (UNIQUE CELL IDENTIFIER, DO NOT EDIT)\n",
    "def get_sensitivity(y, pred, th=0.5):\n",
    "    \"\"\"\n",
    "    Compute sensitivity of predictions at threshold.\n",
    "\n",
    "    Args:\n",
    "        y (np.array): ground truth, size (n_examples)\n",
    "        pred (np.array): model output, size (n_examples)\n",
    "        th (float): cutoff value for positive prediction from model\n",
    "    Returns:\n",
    "        sensitivity (float): probability that our test outputs positive given that the case is actually positive\n",
    "    \"\"\"\n",
    "    sensitivity = 0.0\n",
    "\n",
    "    ### START CODE HERE (REPLACE INSTANCES OF 'None' with your code) ###\n",
    "\n",
    "    # get TP and FN using our previously defined functions\n",
    "    TP = true_positives(y, pred, th)\n",
    "    FN = false_negatives(y, pred, th)\n",
    "\n",
    "    # use TP and FN to compute sensitivity\n",
    "    sensitivity = TP / (TP + FN)\n",
    "\n",
    "    ### END CODE HERE ###\n",
    "\n",
    "    return sensitivity\n",
    "\n",
    "def get_specificity(y, pred, th=0.5):\n",
    "    \"\"\"\n",
    "    Compute specificity of predictions at threshold.\n",
    "\n",
    "    Args:\n",
    "        y (np.array): ground truth, size (n_examples)\n",
    "        pred (np.array): model output, size (n_examples)\n",
    "        th (float): cutoff value for positive prediction from model\n",
    "    Returns:\n",
    "        specificity (float): probability that the test outputs negative given that the case is actually negative\n",
    "    \"\"\"\n",
    "    specificity = 0.0\n",
    "\n",
    "    ### START CODE HERE (REPLACE INSTANCES OF 'None' with your code) ###\n",
    "\n",
    "    # get TN and FP using our previously defined functions\n",
    "    TN = true_negatives(y, pred, th)\n",
    "    FP = false_positives(y , pred, th)\n",
    "\n",
    "    # use TN and FP to compute specificity\n",
    "    specificity = TN / (TN + FP)\n",
    "\n",
    "    ### END CODE HERE ###\n",
    "\n",
    "    return specificity"
   ]
  },
  {
   "cell_type": "code",
   "execution_count": null,
   "metadata": {
    "colab": {
     "base_uri": "https://localhost:8080/"
    },
    "id": "RInygNYDXdHz",
    "outputId": "5c509c42-f58c-4ed4-c3ed-380a6bf0d68f"
   },
   "outputs": [],
   "source": [
    "# Test\n",
    "print(\"Test case\")\n",
    "\n",
    "y_test = np.array([1, 0, 0, 1, 1])\n",
    "print(f'test labels: {y_test}\\n')\n",
    "\n",
    "preds_test = np.array([0.8, 0.8, 0.4, 0.6, 0.3])\n",
    "print(f'test predictions: {preds_test}\\n')\n",
    "\n",
    "threshold = 0.5\n",
    "print(f\"threshold: {threshold}\\n\")\n",
    "\n",
    "print(f\"computed sensitivity: {get_sensitivity(y_test, preds_test, threshold):.2f}\")\n",
    "print(f\"computed specificity: {get_specificity(y_test, preds_test, threshold):.2f}\")"
   ]
  },
  {
   "cell_type": "markdown",
   "metadata": {
    "id": "2T8fOkYWhxSV"
   },
   "source": [
    "#### Отримаємо результат:\n",
    "\n",
    "```Python\n",
    "Test case\n",
    "test labels: [1 0 0 1 1]\n",
    "\n",
    "test predictions: [0.8 0.8 0.4 0.6 0.3]\n",
    "\n",
    "threshold: 0.5\n",
    "\n",
    "computed sensitivity: 0.67\n",
    "computed specificity: 0.50\n",
    "\n",
    "```"
   ]
  },
  {
   "cell_type": "markdown",
   "metadata": {
    "id": "Vw7uC4C_m4_R"
   },
   "source": [
    "17.\tДля отримання результатів розрахунку чутливості та специфічності для усіх захворюваннях потрібно перейти за посиланням"
   ]
  },
  {
   "cell_type": "code",
   "execution_count": null,
   "metadata": {
    "colab": {
     "base_uri": "https://localhost:8080/"
    },
    "id": "EA3vVNp5gZaO",
    "outputId": "ee003783-2d92-4345-bc3e-c40338754974"
   },
   "outputs": [],
   "source": [
    "util.get_performance_metrics(y, pred, class_labels, acc=get_accuracy, prevalence=get_prevalence,\n",
    "                        sens=get_sensitivity, spec=get_specificity)"
   ]
  },
  {
   "cell_type": "markdown",
   "metadata": {
    "id": "ExuKMpQCgZaR"
   },
   "source": [
    "Слід звернути увагу, що специфічність і чутливість не залежать від поширеності позитивного класу в наборі даних. Це пояснюється тим, що статистика обчислюється лише для людей одного класу. Чутливість враховує лише не правильну класифікацію пацієнтів серед тих, що насправді мають певне захворювання. Подібним чином, специфічність враховує лише результат для пацієнтів, що насправді не мають певного захворювання."
   ]
  },
  {
   "cell_type": "markdown",
   "metadata": {
    "id": "uib5ZXZ8gZaS"
   },
   "source": [
    "<a name='3-5'></a>\n",
    "### 6. Розрахунок позитивної прогностичної цінності (PPV) та негативної прогностичної цінності (NPV) алгоритму ШІ\n",
    "\n",
    "Однак з точки зору діагностики чутливість і специфічність не дають змоги комплексно оцінити якість класифікації. Зокрема, чутливість вказує на ймовірність того, що запропонований алгоритм ШІ дасть позитивний результат, враховуючи, що у людини вже є захворювання. Для більш ефективного оцінювання потрібно визначати ймовірність того, що людина хвора, враховуючи, що алгоритм ШІ видає позитивний результат. Це призводить до позитивної прогностичної цінності (PPV) і негативної прогностичної цінності (NPV).\n",
    "Позитивна прогностична цінність (PPV) — це ймовірність того, що суб’єкти з позитивним скринінговим тестом дійсно мають захворювання.\n",
    "Негативна прогностична цінність (NPV) — це ймовірність того, що суб’єкти з негативним скринінговим тестом справді не мають захворювання.\n",
    "У термінах істинно позитивних, істинно негативних, хибно позитивних і хибно негативних результатів:\n",
    "\n",
    "$$PPV = \\frac{\\text{true positives}}{\\text{true positives} + \\text{false positives}}$$\n",
    "\n",
    "$$NPV = \\frac{\\text{true negatives}}{\\text{true negatives} + \\text{false negatives}}$$\n",
    "\n",
    "\n",
    "PPV=істинно позитивні / істинно позитивні+хибні позитивні результати\n",
    "\n",
    "NPV= істинно негативні / істинно негативні+хибні негативні значення\n",
    "\n",
    "18.\tРозрахунок PPV та NPV для нашої моделі досліджуваного алгоритму ШІ проведемо за посиланням\n"
   ]
  },
  {
   "cell_type": "code",
   "execution_count": null,
   "metadata": {
    "id": "8nPknnBaeyPH"
   },
   "outputs": [],
   "source": [
    "# UNQ_C5 (UNIQUE CELL IDENTIFIER, DO NOT EDIT)\n",
    "def get_ppv(y, pred, th=0.5):\n",
    "    \"\"\"\n",
    "    Compute PPV of predictions at threshold.\n",
    "\n",
    "    Args:\n",
    "        y (np.array): ground truth, size (n_examples)\n",
    "        pred (np.array): model output, size (n_examples)\n",
    "        th (float): cutoff value for positive prediction from model\n",
    "    Returns:\n",
    "        PPV (float): positive predictive value of predictions at threshold\n",
    "    \"\"\"\n",
    "    PPV = 0.0\n",
    "\n",
    "    ### START CODE HERE (REPLACE INSTANCES OF 'None' with your code) ###\n",
    "\n",
    "    # get TP and FP using our previously defined functions\n",
    "    TP = true_positives(y, pred, th)\n",
    "    FP = false_positives(y, pred, th)\n",
    "\n",
    "    # use TP and FP to compute PPV\n",
    "    PPV = TP / (TP + FP)\n",
    "\n",
    "    ### END CODE HERE ###\n",
    "\n",
    "    return PPV\n",
    "\n",
    "def get_npv(y, pred, th=0.5):\n",
    "    \"\"\"\n",
    "    Compute NPV of predictions at threshold.\n",
    "\n",
    "    Args:\n",
    "        y (np.array): ground truth, size (n_examples)\n",
    "        pred (np.array): model output, size (n_examples)\n",
    "        th (float): cutoff value for positive prediction from model\n",
    "    Returns:\n",
    "        NPV (float): negative predictive value of predictions at threshold\n",
    "    \"\"\"\n",
    "    NPV = 0.0\n",
    "\n",
    "    ### START CODE HERE (REPLACE INSTANCES OF 'None' with your code) ###\n",
    "\n",
    "    # get TN and FN using our previously defined functions\n",
    "    TN = true_negatives(y, pred, th)\n",
    "    FN = false_negatives(y, pred, th)\n",
    "\n",
    "    # use TN and FN to compute NPV\n",
    "    NPV = TN / (TN + FN)\n",
    "\n",
    "    ### END CODE HERE ###\n",
    "\n",
    "    return NPV"
   ]
  },
  {
   "cell_type": "code",
   "execution_count": null,
   "metadata": {
    "colab": {
     "base_uri": "https://localhost:8080/"
    },
    "id": "rHMPfR45fB5k",
    "outputId": "dd523dd5-b67e-432e-8bf5-94374f4f154c"
   },
   "outputs": [],
   "source": [
    "# Test\n",
    "print(\"Test case:\\n\")\n",
    "\n",
    "y_test = np.array([1, 0, 0, 1, 1])\n",
    "print(f'test labels: {y_test}')\n",
    "\n",
    "preds_test = np.array([0.8, 0.8, 0.4, 0.6, 0.3])\n",
    "print(f'test predictions: {preds_test}\\n')\n",
    "\n",
    "threshold = 0.5\n",
    "print(f\"threshold: {threshold}\\n\")\n",
    "\n",
    "print(f\"computed ppv: {get_ppv(y_test, preds_test, threshold):.2f}\")\n",
    "print(f\"computed npv: {get_npv(y_test, preds_test, threshold):.2f}\")"
   ]
  },
  {
   "cell_type": "markdown",
   "metadata": {
    "id": "mb87n0w4hxTA"
   },
   "source": [
    "#### Отримаємо результат у вигляді\n",
    "\n",
    "```Python\n",
    "Test case:\n",
    "\n",
    "test labels: [1 0 0 1 1]\n",
    "test predictions: [0.8 0.8 0.4 0.6 0.3]\n",
    "\n",
    "threshold: 0.5\n",
    "\n",
    "computed ppv: 0.67\n",
    "computed npv: 0.50\n",
    "```"
   ]
  },
  {
   "cell_type": "markdown",
   "metadata": {
    "id": "IxquOL9Nnh0o"
   },
   "source": [
    "19.\tДля отримання результатів розрахунку PPV та NPV для усіх досліджуваних захворювань потрібно перейти за посиланням"
   ]
  },
  {
   "cell_type": "code",
   "execution_count": null,
   "metadata": {
    "colab": {
     "base_uri": "https://localhost:8080/",
     "height": 502
    },
    "id": "Upr9wVL-gZaW",
    "outputId": "39321545-b570-4e44-976a-0e97efc81f9d"
   },
   "outputs": [],
   "source": [
    "util.get_performance_metrics(y, pred, class_labels, acc=get_accuracy, prevalence=get_prevalence,\n",
    "                        sens=get_sensitivity, spec=get_specificity, ppv=get_ppv, npv=get_npv)"
   ]
  },
  {
   "cell_type": "markdown",
   "metadata": {
    "id": "Sx_454Rpff-D"
   },
   "source": [
    "Незважаючи на дуже високу чутливість і точність, PPV прогнозів може бути дуже низьким. Це стосується, захворювання Edema, чутливість до якого становить 0,75. Однак, враховуючи, що модель спрогнозувала позитивно, тобто ймовірність того, що у людини є набряк (його PPV), становить лише 0,066."
   ]
  },
  {
   "cell_type": "markdown",
   "metadata": {
    "id": "5DEnn_rTgZaa"
   },
   "source": [
    "<a name='3-6'></a>\n",
    "### 7. Побудова та аналіз ROC-кривої\n",
    "\n",
    "ROC-крива (англ. receiver operating characteristic, робоча характеристика приймача) – графік, що дає змогу оцінити якість бінарної класифікації та відображає співвідношення між часткою об'єктів від загальної кількості носіїв ознаки, правильно класифікованих до загальної кількості об'єктів, що не несуть ознаки, помилково класифікованих, як такі, що мають ознаку. Також відома як крива похибок. Аналіз класифікацій із застосуванням ROC-кривих називається ROC-аналізом.\n",
    "Для кількісної інтерпретацію ROC-кривих використовують показник AUC (англ. Area Under ROC Curve, площа під ROC-кривою) – площа, обмежена ROC-кривою і віссю помилкових позитивних класифікацій. Чим вище показник AUC, тим якісніше проведена класифікація, при цьому значення 0,5 демонструє непридатність обраного методу класифікації, що відповідає звичайному вгадуванню.\n",
    "Крива ROC створюється шляхом побудови графіка істинно позитивних випадків (TPR) проти помилково позитивних випадків (FPR) за різних порогових значень. Ідеальна точка знаходиться у верхньому лівому куті, з коефіцієнтом істинного позитивного результату 1 і коефіцієнтом помилкового позитивного результату 0. Різні точки на кривій генеруються шляхом поступової зміни порогу.\n",
    "\n",
    "20.\tДля побудови ROC-кривих для досліджуваної моделі алгоритму ШІ потрібно перейти за посиланням:\n"
   ]
  },
  {
   "cell_type": "code",
   "execution_count": null,
   "metadata": {
    "colab": {
     "base_uri": "https://localhost:8080/",
     "height": 619
    },
    "id": "lA-UFT9ngZae",
    "outputId": "bc549c60-4ded-44c1-de93-61cd9d43f390"
   },
   "outputs": [],
   "source": [
    "util.get_curve(y, pred, class_labels)"
   ]
  },
  {
   "cell_type": "markdown",
   "metadata": {
    "id": "adjBlFIqgZah"
   },
   "source": [
    "Отримаємо результати побудови ROC-кривих для усіх досліджуваних захворювань. Площа під кривою ROC також є мірою відповідності якості класифікації. У медичній літературі це число також дає ймовірність того, що випадково вибраний пацієнт, який пережив певний стан, мав вищий показник ризику, ніж пацієнт, який не пережив цієї події. Це підсумовує вихідні дані моделі за всіма пороговими значеннями та забезпечує чітке уявлення про ефективність класифікації даної моделі.\n",
    "\n",
    "21.\tДля розрахунку площі під ROC кривою в таблиці потрібно перейти за посиланням.\n"
   ]
  },
  {
   "cell_type": "code",
   "execution_count": null,
   "metadata": {
    "colab": {
     "base_uri": "https://localhost:8080/",
     "height": 502
    },
    "id": "ipMeytjAgZai",
    "outputId": "5d149671-5f04-48ca-9a89-4a6d24fa598c"
   },
   "outputs": [],
   "source": [
    "from sklearn.metrics import roc_auc_score\n",
    "util.get_performance_metrics(y, pred, class_labels, acc=get_accuracy, prevalence=get_prevalence,\n",
    "                        sens=get_sensitivity, spec=get_specificity, ppv=get_ppv, npv=get_npv, auc=roc_auc_score)"
   ]
  },
  {
   "cell_type": "markdown",
   "metadata": {
    "id": "_x5U0YTYgZaz"
   },
   "source": [
    "<a name='4'></a>\n",
    "## 8. Розрахунок довірчих інтервалів."
   ]
  },
  {
   "cell_type": "markdown",
   "metadata": {
    "id": "dBE9owjVgZa0"
   },
   "source": [
    "Довірчий інтервал (англ. confidence interval, CI) — у математичній статистиці є типом інтервальної оцінки, яку обчислюють за даними спостереження, і яка покриває невідомий статистичний параметр із заданою надійністю. Це інтервал, у межах якого з заданою довірчою імовірністю можна очікувати значення оцінюваної (шуканої) випадкової величини.\n",
    "Для розрахунку довірчих інтервалів потрібно перейти за посиланням:\n"
   ]
  },
  {
   "cell_type": "code",
   "execution_count": null,
   "metadata": {
    "id": "y9iFosWagZa1"
   },
   "outputs": [],
   "source": [
    "def bootstrap_auc(y, pred, classes, bootstraps = 100, fold_size = 1000):\n",
    "    statistics = np.zeros((len(classes), bootstraps))\n",
    "\n",
    "    for c in range(len(classes)):\n",
    "        df = pd.DataFrame(columns=['y', 'pred'])\n",
    "        df.loc[:, 'y'] = y[:, c]\n",
    "        df.loc[:, 'pred'] = pred[:, c]\n",
    "        # get positive examples for stratified sampling\n",
    "        df_pos = df[df.y == 1]\n",
    "        df_neg = df[df.y == 0]\n",
    "        prevalence = len(df_pos) / len(df)\n",
    "        for i in range(bootstraps):\n",
    "            # stratified sampling of positive and negative examples\n",
    "            pos_sample = df_pos.sample(n = int(fold_size * prevalence), replace=True)\n",
    "            neg_sample = df_neg.sample(n = int(fold_size * (1-prevalence)), replace=True)\n",
    "\n",
    "            y_sample = np.concatenate([pos_sample.y.values, neg_sample.y.values])\n",
    "            pred_sample = np.concatenate([pos_sample.pred.values, neg_sample.pred.values])\n",
    "            score = roc_auc_score(y_sample, pred_sample)\n",
    "            statistics[c][i] = score\n",
    "    return statistics\n",
    "\n",
    "statistics = bootstrap_auc(y, pred, class_labels)"
   ]
  },
  {
   "cell_type": "markdown",
   "metadata": {
    "id": "R0PF5X9cBsj4"
   },
   "source": [
    "Отримаємо довірчі інтервали на основі обчислення вибіркової статистики."
   ]
  },
  {
   "cell_type": "code",
   "execution_count": null,
   "metadata": {
    "colab": {
     "base_uri": "https://localhost:8080/",
     "height": 488
    },
    "id": "3pczjtYdgZa4",
    "outputId": "ed4d8865-5c57-4122-82fa-8e85d016d2d9"
   },
   "outputs": [],
   "source": [
    "util.print_confidence_intervals(class_labels, statistics)"
   ]
  },
  {
   "cell_type": "markdown",
   "metadata": {
    "id": "hVwBqqGFgZa8"
   },
   "source": [
    "Деякі довірчі інтервали для певних класів набагато ширші, ніж для інших. Грижа, наприклад, має інтервал близько (0,30 - 0,98), що вказує на те, що ми не можемо бути впевнені, що це краще, ніж випадковість (на рівні 0,5)."
   ]
  },
  {
   "cell_type": "markdown",
   "metadata": {
    "id": "mu-YFGp-gZam"
   },
   "source": [
    "<a name='5'></a>\n",
    "## 9. Оцінювання кривої точності запам’ятовування\n"
   ]
  },
  {
   "cell_type": "markdown",
   "metadata": {
    "id": "qFHQ1N-W5uki"
   },
   "source": [
    "Оцінювання відгуку (Precision-Recall) є важливим показником якісного прогнозування у випадку дуже незбалансованих класів.\n",
    "В інформаційному пошуку точність є мірою релевантності результату, що еквівалентно раніше визначеному PPV.\n",
    "Відгук є мірою того, скільки насправді є релевантних результатів, що еквівалентно визначеній мірі чутливості.\n",
    "Крива точності запам’ятовування (PRC) показує компроміс між точністю та нагадуванням для різних порогів. Велика площа під кривою PRC означає значний рівень запам’ятовування та високу точність, яка пов’язана з низьким рівнем хибно-позитивних результатів, а висока – з низьким рівнем хибно-негативних результатів.\n",
    "Високі бали для обох показують, що класифікатор видає точні результати (висока точність), а також забезпечує більшість усіх позитивних результатів (висока запам’ятовуваність).\n",
    "\n",
    "Для отримання кривих PRC потрібно запустити наступну команду на виконання:\n"
   ]
  },
  {
   "cell_type": "code",
   "execution_count": null,
   "metadata": {
    "colab": {
     "base_uri": "https://localhost:8080/",
     "height": 619
    },
    "id": "-ZauXuN2gZao",
    "outputId": "df75ad65-bba1-4095-89e1-9276b63b3a7a"
   },
   "outputs": [],
   "source": [
    "util.get_curve(y, pred, class_labels, curve='prc')"
   ]
  },
  {
   "cell_type": "markdown",
   "metadata": {
    "id": "2M_NqLxggZau"
   },
   "source": [
    "<a name='6'></a>\n",
    "## 10. Розрахунок продуктивності алгоритму ШІ із гармонійним середнім значенням точності та запам’ятовування F1."
   ]
  },
  {
   "cell_type": "markdown",
   "metadata": {
    "id": "NRDnbrt4gZaw"
   },
   "source": [
    "F1 – це гармонійне середнє значення точності та запам’ятовування. Оцінка F1 досягає найкращого значення при 1 (ідеальна точність і запам’ятовування), а найгірша  при 0.\n",
    "Для отримання таблиці продуктивності із гармонійним середнім значенням точності та запам’ятовування F1 потрібно виконати наступну команду:\n"
   ]
  },
  {
   "cell_type": "code",
   "execution_count": null,
   "metadata": {
    "colab": {
     "base_uri": "https://localhost:8080/",
     "height": 502
    },
    "id": "oNHl3FBUgZax",
    "outputId": "a85bc357-b2b9-41c7-e72f-7c2f4047a019"
   },
   "outputs": [],
   "source": [
    "from sklearn.metrics import f1_score\n",
    "util.get_performance_metrics(y, pred, class_labels, acc=get_accuracy, prevalence=get_prevalence,\n",
    "                        sens=get_sensitivity, spec=get_specificity, ppv=get_ppv, npv=get_npv, auc=roc_auc_score,f1=f1_score)"
   ]
  },
  {
   "cell_type": "markdown",
   "metadata": {
    "id": "kE9MV08bgZa9"
   },
   "source": [
    "<a name='7'></a>\n",
    "## 11. Побудова калібрувальних графіків"
   ]
  },
  {
   "cell_type": "markdown",
   "metadata": {
    "id": "LOSnToD4gZa9"
   },
   "source": [
    "Виконуючи класифікацію, є необхідність не тільки передбачити мітку класу, але й отримати ймовірність кожної мітки. Ця ймовірність додає певної впевненості в прогнозі. Для спостереження, як згенеровані досліджуваним алгоритмом ШІ ймовірності узгоджуються з реальними ймовірностями, потрібно побудувати калібрувальну криву.\n",
    "Щоб створити калібрувальний графік, потрібно спочатку розподілити прогнози на фіксовану кількість окремих діапазонів (наприклад 5) між 0 і 1. Потім обчислити точку для кожного діапазону: значення «x» для кожної точки є середнім для ймовірності, яку алгоритм ШІ присвоїв цим точкам, і значення «y» для кожної точки частки справжніх позитивних результатів у цьому наборі. Потім ми наносимо ці точки на лінійний графік. Добре відкалібрована модель має калібрувальну криву, яка майже збігається з лінією y=x.\n",
    "Бібліотека sklearn має утиліту calibration_curve для створення калібрувального графіка. Для цього потрібно перейти за наступним посиланням\n"
   ]
  },
  {
   "cell_type": "code",
   "execution_count": null,
   "metadata": {
    "id": "VnomxuuJgZa-"
   },
   "outputs": [],
   "source": [
    "from sklearn.calibration import calibration_curve\n",
    "def plot_calibration_curve(y, pred):\n",
    "    plt.figure(figsize=(20, 20))\n",
    "    for i in range(len(class_labels)):\n",
    "        plt.subplot(4, 4, i + 1)\n",
    "        fraction_of_positives, mean_predicted_value = calibration_curve(y[:,i], pred[:,i], n_bins=20)\n",
    "        plt.plot([0, 1], [0, 1], linestyle='--')\n",
    "        plt.plot(mean_predicted_value, fraction_of_positives, marker='.')\n",
    "        plt.xlabel(\"Predicted Value\")\n",
    "        plt.ylabel(\"Fraction of Positives\")\n",
    "        plt.title(class_labels[i])\n",
    "    plt.tight_layout()\n",
    "    plt.show()"
   ]
  },
  {
   "cell_type": "code",
   "execution_count": null,
   "metadata": {
    "colab": {
     "base_uri": "https://localhost:8080/",
     "height": 1000
    },
    "id": "P8qlOhMjgZbB",
    "outputId": "9bfdff47-4cf7-42d0-e34a-32af58e77dc9"
   },
   "outputs": [],
   "source": [
    "plot_calibration_curve(y, pred)"
   ]
  },
  {
   "cell_type": "markdown",
   "metadata": {
    "id": "FpFvjFXhgZbD"
   },
   "source": [
    "Як показують наведені вище графіки (рис.6), для більшості прогнозів калібрувальний графік нашої моделі не схожий на добре відкалібрований графік. Для виправлення даної негативної ситуації є дуже корисний метод масштабування, який працює шляхом підгонки моделі логістичної регресії до показників досліджуваної моделі. Щоб побудувати таку модель спочатку потрібно завантажити навчальну частину набору даних для створення лінійної моделі. Потім необхідно використати модель для калібрування прогнозів для її тестової частини, перейшовши за наступними посиланнями:"
   ]
  },
  {
   "cell_type": "code",
   "execution_count": null,
   "metadata": {
    "id": "fxFg3dvXgZbE",
    "scrolled": true
   },
   "outputs": [],
   "source": [
    "from sklearn.linear_model import LogisticRegression as LR\n",
    "\n",
    "y_train = train_results[class_labels].values\n",
    "pred_train = train_results[pred_labels].values\n",
    "pred_calibrated = np.zeros_like(pred)\n",
    "\n",
    "for i in range(len(class_labels)):\n",
    "    lr = LR(solver='liblinear', max_iter=10000)\n",
    "    lr.fit(pred_train[:, i].reshape(-1, 1), y_train[:, i])\n",
    "    pred_calibrated[:, i] = lr.predict_proba(pred[:, i].reshape(-1, 1))[:,1]"
   ]
  },
  {
   "cell_type": "code",
   "execution_count": null,
   "metadata": {
    "colab": {
     "base_uri": "https://localhost:8080/",
     "height": 1000
    },
    "id": "k-XNpul1gZbH",
    "outputId": "926671a6-13c3-4488-f52e-f329617d3ce3"
   },
   "outputs": [],
   "source": [
    "plot_calibration_curve(y[:,], pred_calibrated)"
   ]
  },
  {
   "cell_type": "markdown",
   "metadata": {
    "id": "8CcFwdMWhxVB"
   },
   "source": [
    "# Щиро вітаємо із завершенням роботи!\n",
    "Віримо, що Ви відчуєте себе набагато впевненіше у оцінюванні якості алгоритмів ШІ :)"
   ]
  }
 ],
 "metadata": {
  "colab": {
   "provenance": []
  },
  "coursera": {
   "schema_names": [
    "AI4MC1-2"
   ]
  },
  "kernelspec": {
   "display_name": "Python 3",
   "language": "python",
   "name": "python3"
  },
  "language_info": {
   "codemirror_mode": {
    "name": "ipython",
    "version": 3
   },
   "file_extension": ".py",
   "mimetype": "text/x-python",
   "name": "python",
   "nbconvert_exporter": "python",
   "pygments_lexer": "ipython3",
   "version": "3.7.6"
  }
 },
 "nbformat": 4,
 "nbformat_minor": 1
}
